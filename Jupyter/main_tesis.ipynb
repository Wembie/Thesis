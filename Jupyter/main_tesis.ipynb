{
  "cells": [
    {
      "cell_type": "code",
      "execution_count": 6,
      "metadata": {
        "colab": {
          "base_uri": "https://localhost:8080/"
        },
        "collapsed": true,
        "id": "DFU3vWJPajQj",
        "outputId": "f0981060-1dbf-4024-a4f3-0b940082323f"
      },
      "outputs": [
        {
          "name": "stdout",
          "output_type": "stream",
          "text": [
            "Requirement already satisfied: librosa in d:\\cosas de webi\\estudio\\programacion\\python\\tesis\\tesis\\lib\\site-packages (0.10.2.post1)\n",
            "Requirement already satisfied: audioread>=2.1.9 in d:\\cosas de webi\\estudio\\programacion\\python\\tesis\\tesis\\lib\\site-packages (from librosa) (3.0.1)\n",
            "Requirement already satisfied: numpy!=1.22.0,!=1.22.1,!=1.22.2,>=1.20.3 in d:\\cosas de webi\\estudio\\programacion\\python\\tesis\\tesis\\lib\\site-packages (from librosa) (1.26.4)\n",
            "Requirement already satisfied: scipy>=1.2.0 in d:\\cosas de webi\\estudio\\programacion\\python\\tesis\\tesis\\lib\\site-packages (from librosa) (1.14.0)\n",
            "Requirement already satisfied: scikit-learn>=0.20.0 in d:\\cosas de webi\\estudio\\programacion\\python\\tesis\\tesis\\lib\\site-packages (from librosa) (1.5.0)\n",
            "Requirement already satisfied: joblib>=0.14 in d:\\cosas de webi\\estudio\\programacion\\python\\tesis\\tesis\\lib\\site-packages (from librosa) (1.4.2)\n",
            "Requirement already satisfied: decorator>=4.3.0 in d:\\cosas de webi\\estudio\\programacion\\python\\tesis\\tesis\\lib\\site-packages (from librosa) (5.1.1)\n",
            "Requirement already satisfied: numba>=0.51.0 in d:\\cosas de webi\\estudio\\programacion\\python\\tesis\\tesis\\lib\\site-packages (from librosa) (0.60.0)\n",
            "Requirement already satisfied: soundfile>=0.12.1 in d:\\cosas de webi\\estudio\\programacion\\python\\tesis\\tesis\\lib\\site-packages (from librosa) (0.12.1)\n",
            "Requirement already satisfied: pooch>=1.1 in d:\\cosas de webi\\estudio\\programacion\\python\\tesis\\tesis\\lib\\site-packages (from librosa) (1.8.2)\n",
            "Requirement already satisfied: soxr>=0.3.2 in d:\\cosas de webi\\estudio\\programacion\\python\\tesis\\tesis\\lib\\site-packages (from librosa) (0.3.7)\n",
            "Requirement already satisfied: typing-extensions>=4.1.1 in d:\\cosas de webi\\estudio\\programacion\\python\\tesis\\tesis\\lib\\site-packages (from librosa) (4.12.2)\n",
            "Requirement already satisfied: lazy-loader>=0.1 in d:\\cosas de webi\\estudio\\programacion\\python\\tesis\\tesis\\lib\\site-packages (from librosa) (0.4)\n",
            "Requirement already satisfied: msgpack>=1.0 in d:\\cosas de webi\\estudio\\programacion\\python\\tesis\\tesis\\lib\\site-packages (from librosa) (1.0.8)\n",
            "Requirement already satisfied: packaging in d:\\cosas de webi\\estudio\\programacion\\python\\tesis\\tesis\\lib\\site-packages (from lazy-loader>=0.1->librosa) (24.1)\n",
            "Requirement already satisfied: llvmlite<0.44,>=0.43.0dev0 in d:\\cosas de webi\\estudio\\programacion\\python\\tesis\\tesis\\lib\\site-packages (from numba>=0.51.0->librosa) (0.43.0)\n",
            "Requirement already satisfied: platformdirs>=2.5.0 in d:\\cosas de webi\\estudio\\programacion\\python\\tesis\\tesis\\lib\\site-packages (from pooch>=1.1->librosa) (4.2.2)\n",
            "Requirement already satisfied: requests>=2.19.0 in d:\\cosas de webi\\estudio\\programacion\\python\\tesis\\tesis\\lib\\site-packages (from pooch>=1.1->librosa) (2.32.3)\n",
            "Requirement already satisfied: threadpoolctl>=3.1.0 in d:\\cosas de webi\\estudio\\programacion\\python\\tesis\\tesis\\lib\\site-packages (from scikit-learn>=0.20.0->librosa) (3.5.0)\n",
            "Requirement already satisfied: cffi>=1.0 in d:\\cosas de webi\\estudio\\programacion\\python\\tesis\\tesis\\lib\\site-packages (from soundfile>=0.12.1->librosa) (1.16.0)\n",
            "Requirement already satisfied: pycparser in d:\\cosas de webi\\estudio\\programacion\\python\\tesis\\tesis\\lib\\site-packages (from cffi>=1.0->soundfile>=0.12.1->librosa) (2.22)\n",
            "Requirement already satisfied: charset-normalizer<4,>=2 in d:\\cosas de webi\\estudio\\programacion\\python\\tesis\\tesis\\lib\\site-packages (from requests>=2.19.0->pooch>=1.1->librosa) (3.3.2)\n",
            "Requirement already satisfied: idna<4,>=2.5 in d:\\cosas de webi\\estudio\\programacion\\python\\tesis\\tesis\\lib\\site-packages (from requests>=2.19.0->pooch>=1.1->librosa) (3.7)\n",
            "Requirement already satisfied: urllib3<3,>=1.21.1 in d:\\cosas de webi\\estudio\\programacion\\python\\tesis\\tesis\\lib\\site-packages (from requests>=2.19.0->pooch>=1.1->librosa) (2.2.2)\n",
            "Requirement already satisfied: certifi>=2017.4.17 in d:\\cosas de webi\\estudio\\programacion\\python\\tesis\\tesis\\lib\\site-packages (from requests>=2.19.0->pooch>=1.1->librosa) (2024.6.2)\n"
          ]
        },
        {
          "name": "stderr",
          "output_type": "stream",
          "text": [
            "\n",
            "[notice] A new release of pip is available: 24.0 -> 24.1.1\n",
            "[notice] To update, run: python.exe -m pip install --upgrade pip\n"
          ]
        },
        {
          "name": "stdout",
          "output_type": "stream",
          "text": [
            "Requirement already satisfied: waves in d:\\cosas de webi\\estudio\\programacion\\python\\tesis\\tesis\\lib\\site-packages (0.0.0)\n",
            "Requirement already satisfied: tqdm in d:\\cosas de webi\\estudio\\programacion\\python\\tesis\\tesis\\lib\\site-packages (from waves) (4.66.4)\n",
            "Requirement already satisfied: attrs in d:\\cosas de webi\\estudio\\programacion\\python\\tesis\\tesis\\lib\\site-packages (from waves) (23.2.0)\n",
            "Requirement already satisfied: pyyaml in d:\\cosas de webi\\estudio\\programacion\\python\\tesis\\tesis\\lib\\site-packages (from waves) (6.0.1)\n",
            "Requirement already satisfied: matplotlib>=3.6 in d:\\cosas de webi\\estudio\\programacion\\python\\tesis\\tesis\\lib\\site-packages (from waves) (3.9.0)\n",
            "Requirement already satisfied: numpy-financial>=1.0.0 in d:\\cosas de webi\\estudio\\programacion\\python\\tesis\\tesis\\lib\\site-packages (from waves) (1.0.0)\n",
            "Requirement already satisfied: floris>=3.3 in d:\\cosas de webi\\estudio\\programacion\\python\\tesis\\tesis\\lib\\site-packages (from waves) (4.1)\n",
            "Requirement already satisfied: wombat>=0.7.1 in d:\\cosas de webi\\estudio\\programacion\\python\\tesis\\tesis\\lib\\site-packages (from waves) (0.9.4)\n",
            "Requirement already satisfied: orbit-nrel>=1.0.8 in d:\\cosas de webi\\estudio\\programacion\\python\\tesis\\tesis\\lib\\site-packages (from waves) (1.0.8)\n",
            "Requirement already satisfied: numexpr~=2.0 in d:\\cosas de webi\\estudio\\programacion\\python\\tesis\\tesis\\lib\\site-packages (from floris>=3.3->waves) (2.10.1)\n",
            "Requirement already satisfied: numpy~=1.20 in d:\\cosas de webi\\estudio\\programacion\\python\\tesis\\tesis\\lib\\site-packages (from floris>=3.3->waves) (1.26.4)\n",
            "Requirement already satisfied: scipy~=1.1 in d:\\cosas de webi\\estudio\\programacion\\python\\tesis\\tesis\\lib\\site-packages (from floris>=3.3->waves) (1.14.0)\n",
            "Requirement already satisfied: pandas~=2.0 in d:\\cosas de webi\\estudio\\programacion\\python\\tesis\\tesis\\lib\\site-packages (from floris>=3.3->waves) (2.2.2)\n",
            "Requirement already satisfied: shapely~=2.0 in d:\\cosas de webi\\estudio\\programacion\\python\\tesis\\tesis\\lib\\site-packages (from floris>=3.3->waves) (2.0.4)\n",
            "Requirement already satisfied: coloredlogs~=10.0 in d:\\cosas de webi\\estudio\\programacion\\python\\tesis\\tesis\\lib\\site-packages (from floris>=3.3->waves) (10.0)\n",
            "Requirement already satisfied: contourpy>=1.0.1 in d:\\cosas de webi\\estudio\\programacion\\python\\tesis\\tesis\\lib\\site-packages (from matplotlib>=3.6->waves) (1.2.1)\n",
            "Requirement already satisfied: cycler>=0.10 in d:\\cosas de webi\\estudio\\programacion\\python\\tesis\\tesis\\lib\\site-packages (from matplotlib>=3.6->waves) (0.12.1)\n",
            "Requirement already satisfied: fonttools>=4.22.0 in d:\\cosas de webi\\estudio\\programacion\\python\\tesis\\tesis\\lib\\site-packages (from matplotlib>=3.6->waves) (4.53.0)\n",
            "Requirement already satisfied: kiwisolver>=1.3.1 in d:\\cosas de webi\\estudio\\programacion\\python\\tesis\\tesis\\lib\\site-packages (from matplotlib>=3.6->waves) (1.4.5)\n",
            "Requirement already satisfied: packaging>=20.0 in d:\\cosas de webi\\estudio\\programacion\\python\\tesis\\tesis\\lib\\site-packages (from matplotlib>=3.6->waves) (24.1)\n",
            "Requirement already satisfied: pillow>=8 in d:\\cosas de webi\\estudio\\programacion\\python\\tesis\\tesis\\lib\\site-packages (from matplotlib>=3.6->waves) (10.4.0)\n",
            "Requirement already satisfied: pyparsing>=2.3.1 in d:\\cosas de webi\\estudio\\programacion\\python\\tesis\\tesis\\lib\\site-packages (from matplotlib>=3.6->waves) (3.1.2)\n",
            "Requirement already satisfied: python-dateutil>=2.7 in d:\\cosas de webi\\estudio\\programacion\\python\\tesis\\tesis\\lib\\site-packages (from matplotlib>=3.6->waves) (2.9.0.post0)\n",
            "Requirement already satisfied: simpy in d:\\cosas de webi\\estudio\\programacion\\python\\tesis\\tesis\\lib\\site-packages (from orbit-nrel>=1.0.8->waves) (4.1.1)\n",
            "Requirement already satisfied: marmot-agents>=0.2.5 in d:\\cosas de webi\\estudio\\programacion\\python\\tesis\\tesis\\lib\\site-packages (from orbit-nrel>=1.0.8->waves) (0.2.5)\n",
            "Requirement already satisfied: openmdao>=3.2 in d:\\cosas de webi\\estudio\\programacion\\python\\tesis\\tesis\\lib\\site-packages (from orbit-nrel>=1.0.8->waves) (3.33.0)\n",
            "Requirement already satisfied: python-benedict in d:\\cosas de webi\\estudio\\programacion\\python\\tesis\\tesis\\lib\\site-packages (from orbit-nrel>=1.0.8->waves) (0.33.2)\n",
            "Requirement already satisfied: statsmodels in d:\\cosas de webi\\estudio\\programacion\\python\\tesis\\tesis\\lib\\site-packages (from orbit-nrel>=1.0.8->waves) (0.14.2)\n",
            "Requirement already satisfied: polars>=0.17 in d:\\cosas de webi\\estudio\\programacion\\python\\tesis\\tesis\\lib\\site-packages (from wombat>=0.7.1->waves) (1.0.0)\n",
            "Requirement already satisfied: pyarrow>=10 in d:\\cosas de webi\\estudio\\programacion\\python\\tesis\\tesis\\lib\\site-packages (from wombat>=0.7.1->waves) (16.1.0)\n",
            "Requirement already satisfied: jupyterlab>=3 in d:\\cosas de webi\\estudio\\programacion\\python\\tesis\\tesis\\lib\\site-packages (from wombat>=0.7.1->waves) (4.2.3)\n",
            "Requirement already satisfied: geopy>=2.3 in d:\\cosas de webi\\estudio\\programacion\\python\\tesis\\tesis\\lib\\site-packages (from wombat>=0.7.1->waves) (2.4.1)\n",
            "Requirement already satisfied: networkx>=2.7 in d:\\cosas de webi\\estudio\\programacion\\python\\tesis\\tesis\\lib\\site-packages (from wombat>=0.7.1->waves) (3.3)\n",
            "Requirement already satisfied: types-attrs>=19 in d:\\cosas de webi\\estudio\\programacion\\python\\tesis\\tesis\\lib\\site-packages (from wombat>=0.7.1->waves) (19.1.0)\n",
            "Requirement already satisfied: types-typed-ast>=1.5 in d:\\cosas de webi\\estudio\\programacion\\python\\tesis\\tesis\\lib\\site-packages (from wombat>=0.7.1->waves) (1.5.8.7)\n",
            "Requirement already satisfied: types-PyYAML>=6 in d:\\cosas de webi\\estudio\\programacion\\python\\tesis\\tesis\\lib\\site-packages (from wombat>=0.7.1->waves) (6.0.12.20240311)\n",
            "Requirement already satisfied: types-python-dateutil>=2.8 in d:\\cosas de webi\\estudio\\programacion\\python\\tesis\\tesis\\lib\\site-packages (from wombat>=0.7.1->waves) (2.9.0.20240316)\n",
            "Requirement already satisfied: colorama in d:\\cosas de webi\\estudio\\programacion\\python\\tesis\\tesis\\lib\\site-packages (from tqdm->waves) (0.4.6)\n",
            "Requirement already satisfied: humanfriendly>=4.7 in d:\\cosas de webi\\estudio\\programacion\\python\\tesis\\tesis\\lib\\site-packages (from coloredlogs~=10.0->floris>=3.3->waves) (10.0)\n",
            "Requirement already satisfied: geographiclib<3,>=1.52 in d:\\cosas de webi\\estudio\\programacion\\python\\tesis\\tesis\\lib\\site-packages (from geopy>=2.3->wombat>=0.7.1->waves) (2.0)\n",
            "Requirement already satisfied: async-lru>=1.0.0 in d:\\cosas de webi\\estudio\\programacion\\python\\tesis\\tesis\\lib\\site-packages (from jupyterlab>=3->wombat>=0.7.1->waves) (2.0.4)\n",
            "Requirement already satisfied: httpx>=0.25.0 in d:\\cosas de webi\\estudio\\programacion\\python\\tesis\\tesis\\lib\\site-packages (from jupyterlab>=3->wombat>=0.7.1->waves) (0.27.0)\n",
            "Requirement already satisfied: ipykernel>=6.5.0 in d:\\cosas de webi\\estudio\\programacion\\python\\tesis\\tesis\\lib\\site-packages (from jupyterlab>=3->wombat>=0.7.1->waves) (6.29.5)\n",
            "Requirement already satisfied: jinja2>=3.0.3 in d:\\cosas de webi\\estudio\\programacion\\python\\tesis\\tesis\\lib\\site-packages (from jupyterlab>=3->wombat>=0.7.1->waves) (3.1.4)\n",
            "Requirement already satisfied: jupyter-core in d:\\cosas de webi\\estudio\\programacion\\python\\tesis\\tesis\\lib\\site-packages (from jupyterlab>=3->wombat>=0.7.1->waves) (5.7.2)\n",
            "Requirement already satisfied: jupyter-lsp>=2.0.0 in d:\\cosas de webi\\estudio\\programacion\\python\\tesis\\tesis\\lib\\site-packages (from jupyterlab>=3->wombat>=0.7.1->waves) (2.2.5)\n",
            "Requirement already satisfied: jupyter-server<3,>=2.4.0 in d:\\cosas de webi\\estudio\\programacion\\python\\tesis\\tesis\\lib\\site-packages (from jupyterlab>=3->wombat>=0.7.1->waves) (2.14.1)\n",
            "Requirement already satisfied: jupyterlab-server<3,>=2.27.1 in d:\\cosas de webi\\estudio\\programacion\\python\\tesis\\tesis\\lib\\site-packages (from jupyterlab>=3->wombat>=0.7.1->waves) (2.27.2)\n",
            "Requirement already satisfied: notebook-shim>=0.2 in d:\\cosas de webi\\estudio\\programacion\\python\\tesis\\tesis\\lib\\site-packages (from jupyterlab>=3->wombat>=0.7.1->waves) (0.2.4)\n",
            "Requirement already satisfied: setuptools>=40.1.0 in d:\\cosas de webi\\estudio\\programacion\\python\\tesis\\tesis\\lib\\site-packages (from jupyterlab>=3->wombat>=0.7.1->waves) (70.2.0)\n",
            "Requirement already satisfied: tornado>=6.2.0 in d:\\cosas de webi\\estudio\\programacion\\python\\tesis\\tesis\\lib\\site-packages (from jupyterlab>=3->wombat>=0.7.1->waves) (6.4.1)\n",
            "Requirement already satisfied: traitlets in d:\\cosas de webi\\estudio\\programacion\\python\\tesis\\tesis\\lib\\site-packages (from jupyterlab>=3->wombat>=0.7.1->waves) (5.14.3)\n",
            "Requirement already satisfied: requests in d:\\cosas de webi\\estudio\\programacion\\python\\tesis\\tesis\\lib\\site-packages (from openmdao>=3.2->orbit-nrel>=1.0.8->waves) (2.32.3)\n",
            "Requirement already satisfied: pytz>=2020.1 in d:\\cosas de webi\\estudio\\programacion\\python\\tesis\\tesis\\lib\\site-packages (from pandas~=2.0->floris>=3.3->waves) (2024.1)\n",
            "Requirement already satisfied: tzdata>=2022.7 in d:\\cosas de webi\\estudio\\programacion\\python\\tesis\\tesis\\lib\\site-packages (from pandas~=2.0->floris>=3.3->waves) (2024.1)\n",
            "Requirement already satisfied: six>=1.5 in d:\\cosas de webi\\estudio\\programacion\\python\\tesis\\tesis\\lib\\site-packages (from python-dateutil>=2.7->matplotlib>=3.6->waves) (1.16.0)\n",
            "Requirement already satisfied: python-fsutil<1.0.0,>=0.9.3 in d:\\cosas de webi\\estudio\\programacion\\python\\tesis\\tesis\\lib\\site-packages (from python-benedict->orbit-nrel>=1.0.8->waves) (0.14.1)\n",
            "Requirement already satisfied: python-slugify<9.0.0,>=7.0.0 in d:\\cosas de webi\\estudio\\programacion\\python\\tesis\\tesis\\lib\\site-packages (from python-benedict->orbit-nrel>=1.0.8->waves) (8.0.4)\n",
            "Requirement already satisfied: patsy>=0.5.6 in d:\\cosas de webi\\estudio\\programacion\\python\\tesis\\tesis\\lib\\site-packages (from statsmodels->orbit-nrel>=1.0.8->waves) (0.5.6)\n",
            "Requirement already satisfied: anyio in d:\\cosas de webi\\estudio\\programacion\\python\\tesis\\tesis\\lib\\site-packages (from httpx>=0.25.0->jupyterlab>=3->wombat>=0.7.1->waves) (4.4.0)\n",
            "Requirement already satisfied: certifi in d:\\cosas de webi\\estudio\\programacion\\python\\tesis\\tesis\\lib\\site-packages (from httpx>=0.25.0->jupyterlab>=3->wombat>=0.7.1->waves) (2024.6.2)\n",
            "Requirement already satisfied: httpcore==1.* in d:\\cosas de webi\\estudio\\programacion\\python\\tesis\\tesis\\lib\\site-packages (from httpx>=0.25.0->jupyterlab>=3->wombat>=0.7.1->waves) (1.0.5)\n",
            "Requirement already satisfied: idna in d:\\cosas de webi\\estudio\\programacion\\python\\tesis\\tesis\\lib\\site-packages (from httpx>=0.25.0->jupyterlab>=3->wombat>=0.7.1->waves) (3.7)\n",
            "Requirement already satisfied: sniffio in d:\\cosas de webi\\estudio\\programacion\\python\\tesis\\tesis\\lib\\site-packages (from httpx>=0.25.0->jupyterlab>=3->wombat>=0.7.1->waves) (1.3.1)\n",
            "Requirement already satisfied: h11<0.15,>=0.13 in d:\\cosas de webi\\estudio\\programacion\\python\\tesis\\tesis\\lib\\site-packages (from httpcore==1.*->httpx>=0.25.0->jupyterlab>=3->wombat>=0.7.1->waves) (0.14.0)\n",
            "Requirement already satisfied: pyreadline3 in d:\\cosas de webi\\estudio\\programacion\\python\\tesis\\tesis\\lib\\site-packages (from humanfriendly>=4.7->coloredlogs~=10.0->floris>=3.3->waves) (3.4.1)\n",
            "Requirement already satisfied: comm>=0.1.1 in d:\\cosas de webi\\estudio\\programacion\\python\\tesis\\tesis\\lib\\site-packages (from ipykernel>=6.5.0->jupyterlab>=3->wombat>=0.7.1->waves) (0.2.2)\n",
            "Requirement already satisfied: debugpy>=1.6.5 in d:\\cosas de webi\\estudio\\programacion\\python\\tesis\\tesis\\lib\\site-packages (from ipykernel>=6.5.0->jupyterlab>=3->wombat>=0.7.1->waves) (1.8.2)\n",
            "Requirement already satisfied: ipython>=7.23.1 in d:\\cosas de webi\\estudio\\programacion\\python\\tesis\\tesis\\lib\\site-packages (from ipykernel>=6.5.0->jupyterlab>=3->wombat>=0.7.1->waves) (8.26.0)\n",
            "Requirement already satisfied: jupyter-client>=6.1.12 in d:\\cosas de webi\\estudio\\programacion\\python\\tesis\\tesis\\lib\\site-packages (from ipykernel>=6.5.0->jupyterlab>=3->wombat>=0.7.1->waves) (8.6.2)\n",
            "Requirement already satisfied: matplotlib-inline>=0.1 in d:\\cosas de webi\\estudio\\programacion\\python\\tesis\\tesis\\lib\\site-packages (from ipykernel>=6.5.0->jupyterlab>=3->wombat>=0.7.1->waves) (0.1.7)\n",
            "Requirement already satisfied: nest-asyncio in d:\\cosas de webi\\estudio\\programacion\\python\\tesis\\tesis\\lib\\site-packages (from ipykernel>=6.5.0->jupyterlab>=3->wombat>=0.7.1->waves) (1.6.0)\n",
            "Requirement already satisfied: psutil in d:\\cosas de webi\\estudio\\programacion\\python\\tesis\\tesis\\lib\\site-packages (from ipykernel>=6.5.0->jupyterlab>=3->wombat>=0.7.1->waves) (6.0.0)\n",
            "Requirement already satisfied: pyzmq>=24 in d:\\cosas de webi\\estudio\\programacion\\python\\tesis\\tesis\\lib\\site-packages (from ipykernel>=6.5.0->jupyterlab>=3->wombat>=0.7.1->waves) (26.0.3)\n",
            "Requirement already satisfied: MarkupSafe>=2.0 in d:\\cosas de webi\\estudio\\programacion\\python\\tesis\\tesis\\lib\\site-packages (from jinja2>=3.0.3->jupyterlab>=3->wombat>=0.7.1->waves) (2.1.5)\n",
            "Requirement already satisfied: platformdirs>=2.5 in d:\\cosas de webi\\estudio\\programacion\\python\\tesis\\tesis\\lib\\site-packages (from jupyter-core->jupyterlab>=3->wombat>=0.7.1->waves) (4.2.2)\n",
            "Requirement already satisfied: pywin32>=300 in d:\\cosas de webi\\estudio\\programacion\\python\\tesis\\tesis\\lib\\site-packages (from jupyter-core->jupyterlab>=3->wombat>=0.7.1->waves) (306)\n",
            "Requirement already satisfied: argon2-cffi>=21.1 in d:\\cosas de webi\\estudio\\programacion\\python\\tesis\\tesis\\lib\\site-packages (from jupyter-server<3,>=2.4.0->jupyterlab>=3->wombat>=0.7.1->waves) (23.1.0)\n",
            "Requirement already satisfied: jupyter-events>=0.9.0 in d:\\cosas de webi\\estudio\\programacion\\python\\tesis\\tesis\\lib\\site-packages (from jupyter-server<3,>=2.4.0->jupyterlab>=3->wombat>=0.7.1->waves) (0.10.0)\n",
            "Requirement already satisfied: jupyter-server-terminals>=0.4.4 in d:\\cosas de webi\\estudio\\programacion\\python\\tesis\\tesis\\lib\\site-packages (from jupyter-server<3,>=2.4.0->jupyterlab>=3->wombat>=0.7.1->waves) (0.5.3)\n",
            "Requirement already satisfied: nbconvert>=6.4.4 in d:\\cosas de webi\\estudio\\programacion\\python\\tesis\\tesis\\lib\\site-packages (from jupyter-server<3,>=2.4.0->jupyterlab>=3->wombat>=0.7.1->waves) (7.16.4)\n",
            "Requirement already satisfied: nbformat>=5.3.0 in d:\\cosas de webi\\estudio\\programacion\\python\\tesis\\tesis\\lib\\site-packages (from jupyter-server<3,>=2.4.0->jupyterlab>=3->wombat>=0.7.1->waves) (5.10.4)\n",
            "Requirement already satisfied: overrides>=5.0 in d:\\cosas de webi\\estudio\\programacion\\python\\tesis\\tesis\\lib\\site-packages (from jupyter-server<3,>=2.4.0->jupyterlab>=3->wombat>=0.7.1->waves) (7.7.0)\n",
            "Requirement already satisfied: prometheus-client>=0.9 in d:\\cosas de webi\\estudio\\programacion\\python\\tesis\\tesis\\lib\\site-packages (from jupyter-server<3,>=2.4.0->jupyterlab>=3->wombat>=0.7.1->waves) (0.20.0)\n",
            "Requirement already satisfied: pywinpty>=2.0.1 in d:\\cosas de webi\\estudio\\programacion\\python\\tesis\\tesis\\lib\\site-packages (from jupyter-server<3,>=2.4.0->jupyterlab>=3->wombat>=0.7.1->waves) (2.0.13)\n",
            "Requirement already satisfied: send2trash>=1.8.2 in d:\\cosas de webi\\estudio\\programacion\\python\\tesis\\tesis\\lib\\site-packages (from jupyter-server<3,>=2.4.0->jupyterlab>=3->wombat>=0.7.1->waves) (1.8.3)\n",
            "Requirement already satisfied: terminado>=0.8.3 in d:\\cosas de webi\\estudio\\programacion\\python\\tesis\\tesis\\lib\\site-packages (from jupyter-server<3,>=2.4.0->jupyterlab>=3->wombat>=0.7.1->waves) (0.18.1)\n",
            "Requirement already satisfied: websocket-client>=1.7 in d:\\cosas de webi\\estudio\\programacion\\python\\tesis\\tesis\\lib\\site-packages (from jupyter-server<3,>=2.4.0->jupyterlab>=3->wombat>=0.7.1->waves) (1.8.0)\n",
            "Requirement already satisfied: babel>=2.10 in d:\\cosas de webi\\estudio\\programacion\\python\\tesis\\tesis\\lib\\site-packages (from jupyterlab-server<3,>=2.27.1->jupyterlab>=3->wombat>=0.7.1->waves) (2.15.0)\n",
            "Requirement already satisfied: json5>=0.9.0 in d:\\cosas de webi\\estudio\\programacion\\python\\tesis\\tesis\\lib\\site-packages (from jupyterlab-server<3,>=2.27.1->jupyterlab>=3->wombat>=0.7.1->waves) (0.9.25)\n",
            "Requirement already satisfied: jsonschema>=4.18.0 in d:\\cosas de webi\\estudio\\programacion\\python\\tesis\\tesis\\lib\\site-packages (from jupyterlab-server<3,>=2.27.1->jupyterlab>=3->wombat>=0.7.1->waves) (4.22.0)\n",
            "Requirement already satisfied: text-unidecode>=1.3 in d:\\cosas de webi\\estudio\\programacion\\python\\tesis\\tesis\\lib\\site-packages (from python-slugify<9.0.0,>=7.0.0->python-benedict->orbit-nrel>=1.0.8->waves) (1.3)\n",
            "Requirement already satisfied: charset-normalizer<4,>=2 in d:\\cosas de webi\\estudio\\programacion\\python\\tesis\\tesis\\lib\\site-packages (from requests->openmdao>=3.2->orbit-nrel>=1.0.8->waves) (3.3.2)\n",
            "Requirement already satisfied: urllib3<3,>=1.21.1 in d:\\cosas de webi\\estudio\\programacion\\python\\tesis\\tesis\\lib\\site-packages (from requests->openmdao>=3.2->orbit-nrel>=1.0.8->waves) (2.2.2)\n",
            "Requirement already satisfied: argon2-cffi-bindings in d:\\cosas de webi\\estudio\\programacion\\python\\tesis\\tesis\\lib\\site-packages (from argon2-cffi>=21.1->jupyter-server<3,>=2.4.0->jupyterlab>=3->wombat>=0.7.1->waves) (21.2.0)\n",
            "Requirement already satisfied: decorator in d:\\cosas de webi\\estudio\\programacion\\python\\tesis\\tesis\\lib\\site-packages (from ipython>=7.23.1->ipykernel>=6.5.0->jupyterlab>=3->wombat>=0.7.1->waves) (5.1.1)\n",
            "Requirement already satisfied: jedi>=0.16 in d:\\cosas de webi\\estudio\\programacion\\python\\tesis\\tesis\\lib\\site-packages (from ipython>=7.23.1->ipykernel>=6.5.0->jupyterlab>=3->wombat>=0.7.1->waves) (0.19.1)\n",
            "Requirement already satisfied: prompt-toolkit<3.1.0,>=3.0.41 in d:\\cosas de webi\\estudio\\programacion\\python\\tesis\\tesis\\lib\\site-packages (from ipython>=7.23.1->ipykernel>=6.5.0->jupyterlab>=3->wombat>=0.7.1->waves) (3.0.47)\n",
            "Requirement already satisfied: pygments>=2.4.0 in d:\\cosas de webi\\estudio\\programacion\\python\\tesis\\tesis\\lib\\site-packages (from ipython>=7.23.1->ipykernel>=6.5.0->jupyterlab>=3->wombat>=0.7.1->waves) (2.18.0)\n",
            "Requirement already satisfied: stack-data in d:\\cosas de webi\\estudio\\programacion\\python\\tesis\\tesis\\lib\\site-packages (from ipython>=7.23.1->ipykernel>=6.5.0->jupyterlab>=3->wombat>=0.7.1->waves) (0.6.3)\n",
            "Requirement already satisfied: jsonschema-specifications>=2023.03.6 in d:\\cosas de webi\\estudio\\programacion\\python\\tesis\\tesis\\lib\\site-packages (from jsonschema>=4.18.0->jupyterlab-server<3,>=2.27.1->jupyterlab>=3->wombat>=0.7.1->waves) (2023.12.1)\n",
            "Requirement already satisfied: referencing>=0.28.4 in d:\\cosas de webi\\estudio\\programacion\\python\\tesis\\tesis\\lib\\site-packages (from jsonschema>=4.18.0->jupyterlab-server<3,>=2.27.1->jupyterlab>=3->wombat>=0.7.1->waves) (0.35.1)\n",
            "Requirement already satisfied: rpds-py>=0.7.1 in d:\\cosas de webi\\estudio\\programacion\\python\\tesis\\tesis\\lib\\site-packages (from jsonschema>=4.18.0->jupyterlab-server<3,>=2.27.1->jupyterlab>=3->wombat>=0.7.1->waves) (0.18.1)\n",
            "Requirement already satisfied: python-json-logger>=2.0.4 in d:\\cosas de webi\\estudio\\programacion\\python\\tesis\\tesis\\lib\\site-packages (from jupyter-events>=0.9.0->jupyter-server<3,>=2.4.0->jupyterlab>=3->wombat>=0.7.1->waves) (2.0.7)\n",
            "Requirement already satisfied: rfc3339-validator in d:\\cosas de webi\\estudio\\programacion\\python\\tesis\\tesis\\lib\\site-packages (from jupyter-events>=0.9.0->jupyter-server<3,>=2.4.0->jupyterlab>=3->wombat>=0.7.1->waves) (0.1.4)\n",
            "Requirement already satisfied: rfc3986-validator>=0.1.1 in d:\\cosas de webi\\estudio\\programacion\\python\\tesis\\tesis\\lib\\site-packages (from jupyter-events>=0.9.0->jupyter-server<3,>=2.4.0->jupyterlab>=3->wombat>=0.7.1->waves) (0.1.1)\n",
            "Requirement already satisfied: beautifulsoup4 in d:\\cosas de webi\\estudio\\programacion\\python\\tesis\\tesis\\lib\\site-packages (from nbconvert>=6.4.4->jupyter-server<3,>=2.4.0->jupyterlab>=3->wombat>=0.7.1->waves) (4.12.3)\n",
            "Requirement already satisfied: bleach!=5.0.0 in d:\\cosas de webi\\estudio\\programacion\\python\\tesis\\tesis\\lib\\site-packages (from nbconvert>=6.4.4->jupyter-server<3,>=2.4.0->jupyterlab>=3->wombat>=0.7.1->waves) (6.1.0)\n",
            "Requirement already satisfied: defusedxml in d:\\cosas de webi\\estudio\\programacion\\python\\tesis\\tesis\\lib\\site-packages (from nbconvert>=6.4.4->jupyter-server<3,>=2.4.0->jupyterlab>=3->wombat>=0.7.1->waves) (0.7.1)\n",
            "Requirement already satisfied: jupyterlab-pygments in d:\\cosas de webi\\estudio\\programacion\\python\\tesis\\tesis\\lib\\site-packages (from nbconvert>=6.4.4->jupyter-server<3,>=2.4.0->jupyterlab>=3->wombat>=0.7.1->waves) (0.3.0)\n",
            "Requirement already satisfied: mistune<4,>=2.0.3 in d:\\cosas de webi\\estudio\\programacion\\python\\tesis\\tesis\\lib\\site-packages (from nbconvert>=6.4.4->jupyter-server<3,>=2.4.0->jupyterlab>=3->wombat>=0.7.1->waves) (3.0.2)\n",
            "Requirement already satisfied: nbclient>=0.5.0 in d:\\cosas de webi\\estudio\\programacion\\python\\tesis\\tesis\\lib\\site-packages (from nbconvert>=6.4.4->jupyter-server<3,>=2.4.0->jupyterlab>=3->wombat>=0.7.1->waves) (0.10.0)\n",
            "Requirement already satisfied: pandocfilters>=1.4.1 in d:\\cosas de webi\\estudio\\programacion\\python\\tesis\\tesis\\lib\\site-packages (from nbconvert>=6.4.4->jupyter-server<3,>=2.4.0->jupyterlab>=3->wombat>=0.7.1->waves) (1.5.1)\n",
            "Requirement already satisfied: tinycss2 in d:\\cosas de webi\\estudio\\programacion\\python\\tesis\\tesis\\lib\\site-packages (from nbconvert>=6.4.4->jupyter-server<3,>=2.4.0->jupyterlab>=3->wombat>=0.7.1->waves) (1.3.0)\n",
            "Requirement already satisfied: fastjsonschema>=2.15 in d:\\cosas de webi\\estudio\\programacion\\python\\tesis\\tesis\\lib\\site-packages (from nbformat>=5.3.0->jupyter-server<3,>=2.4.0->jupyterlab>=3->wombat>=0.7.1->waves) (2.20.0)\n",
            "Requirement already satisfied: webencodings in d:\\cosas de webi\\estudio\\programacion\\python\\tesis\\tesis\\lib\\site-packages (from bleach!=5.0.0->nbconvert>=6.4.4->jupyter-server<3,>=2.4.0->jupyterlab>=3->wombat>=0.7.1->waves) (0.5.1)\n",
            "Requirement already satisfied: parso<0.9.0,>=0.8.3 in d:\\cosas de webi\\estudio\\programacion\\python\\tesis\\tesis\\lib\\site-packages (from jedi>=0.16->ipython>=7.23.1->ipykernel>=6.5.0->jupyterlab>=3->wombat>=0.7.1->waves) (0.8.4)\n",
            "Requirement already satisfied: fqdn in d:\\cosas de webi\\estudio\\programacion\\python\\tesis\\tesis\\lib\\site-packages (from jsonschema[format-nongpl]>=4.18.0->jupyter-events>=0.9.0->jupyter-server<3,>=2.4.0->jupyterlab>=3->wombat>=0.7.1->waves) (1.5.1)\n",
            "Requirement already satisfied: isoduration in d:\\cosas de webi\\estudio\\programacion\\python\\tesis\\tesis\\lib\\site-packages (from jsonschema[format-nongpl]>=4.18.0->jupyter-events>=0.9.0->jupyter-server<3,>=2.4.0->jupyterlab>=3->wombat>=0.7.1->waves) (20.11.0)\n",
            "Requirement already satisfied: jsonpointer>1.13 in d:\\cosas de webi\\estudio\\programacion\\python\\tesis\\tesis\\lib\\site-packages (from jsonschema[format-nongpl]>=4.18.0->jupyter-events>=0.9.0->jupyter-server<3,>=2.4.0->jupyterlab>=3->wombat>=0.7.1->waves) (3.0.0)\n",
            "Requirement already satisfied: uri-template in d:\\cosas de webi\\estudio\\programacion\\python\\tesis\\tesis\\lib\\site-packages (from jsonschema[format-nongpl]>=4.18.0->jupyter-events>=0.9.0->jupyter-server<3,>=2.4.0->jupyterlab>=3->wombat>=0.7.1->waves) (1.3.0)\n",
            "Requirement already satisfied: webcolors>=1.11 in d:\\cosas de webi\\estudio\\programacion\\python\\tesis\\tesis\\lib\\site-packages (from jsonschema[format-nongpl]>=4.18.0->jupyter-events>=0.9.0->jupyter-server<3,>=2.4.0->jupyterlab>=3->wombat>=0.7.1->waves) (24.6.0)\n",
            "Requirement already satisfied: wcwidth in d:\\cosas de webi\\estudio\\programacion\\python\\tesis\\tesis\\lib\\site-packages (from prompt-toolkit<3.1.0,>=3.0.41->ipython>=7.23.1->ipykernel>=6.5.0->jupyterlab>=3->wombat>=0.7.1->waves) (0.2.13)\n",
            "Requirement already satisfied: cffi>=1.0.1 in d:\\cosas de webi\\estudio\\programacion\\python\\tesis\\tesis\\lib\\site-packages (from argon2-cffi-bindings->argon2-cffi>=21.1->jupyter-server<3,>=2.4.0->jupyterlab>=3->wombat>=0.7.1->waves) (1.16.0)\n",
            "Requirement already satisfied: soupsieve>1.2 in d:\\cosas de webi\\estudio\\programacion\\python\\tesis\\tesis\\lib\\site-packages (from beautifulsoup4->nbconvert>=6.4.4->jupyter-server<3,>=2.4.0->jupyterlab>=3->wombat>=0.7.1->waves) (2.5)\n",
            "Requirement already satisfied: executing>=1.2.0 in d:\\cosas de webi\\estudio\\programacion\\python\\tesis\\tesis\\lib\\site-packages (from stack-data->ipython>=7.23.1->ipykernel>=6.5.0->jupyterlab>=3->wombat>=0.7.1->waves) (2.0.1)\n",
            "Requirement already satisfied: asttokens>=2.1.0 in d:\\cosas de webi\\estudio\\programacion\\python\\tesis\\tesis\\lib\\site-packages (from stack-data->ipython>=7.23.1->ipykernel>=6.5.0->jupyterlab>=3->wombat>=0.7.1->waves) (2.4.1)\n",
            "Requirement already satisfied: pure-eval in d:\\cosas de webi\\estudio\\programacion\\python\\tesis\\tesis\\lib\\site-packages (from stack-data->ipython>=7.23.1->ipykernel>=6.5.0->jupyterlab>=3->wombat>=0.7.1->waves) (0.2.2)\n",
            "Requirement already satisfied: pycparser in d:\\cosas de webi\\estudio\\programacion\\python\\tesis\\tesis\\lib\\site-packages (from cffi>=1.0.1->argon2-cffi-bindings->argon2-cffi>=21.1->jupyter-server<3,>=2.4.0->jupyterlab>=3->wombat>=0.7.1->waves) (2.22)\n",
            "Requirement already satisfied: arrow>=0.15.0 in d:\\cosas de webi\\estudio\\programacion\\python\\tesis\\tesis\\lib\\site-packages (from isoduration->jsonschema[format-nongpl]>=4.18.0->jupyter-events>=0.9.0->jupyter-server<3,>=2.4.0->jupyterlab>=3->wombat>=0.7.1->waves) (1.3.0)\n"
          ]
        },
        {
          "name": "stderr",
          "output_type": "stream",
          "text": [
            "\n",
            "[notice] A new release of pip is available: 24.0 -> 24.1.1\n",
            "[notice] To update, run: python.exe -m pip install --upgrade pip\n"
          ]
        }
      ],
      "source": [
        "!pip install librosa\n",
        "!pip install waves"
      ]
    },
    {
      "cell_type": "markdown",
      "metadata": {},
      "source": [
        "# Librerías"
      ]
    },
    {
      "cell_type": "code",
      "execution_count": 63,
      "metadata": {
        "id": "wvvfwTRDagjk"
      },
      "outputs": [],
      "source": [
        "import wave\n",
        "import os\n",
        "import pandas as pd\n",
        "import numpy as np\n",
        "import matplotlib.pyplot as plt\n",
        "import os\n",
        "import seaborn as sns\n",
        "import librosa\n",
        "import tensorflow as tf\n",
        "import keras_tuner as kt\n",
        "import librosa.display\n",
        "import random\n",
        "import pickle\n",
        "from PIL import Image\n",
        "from kerastuner.tuners import RandomSearch\n",
        "from keras.optimizers import Adam\n",
        "from sklearn.model_selection import StratifiedKFold\n",
        "from sklearn.ensemble import RandomForestClassifier\n",
        "from sklearn.model_selection import cross_val_score, cross_val_predict, RandomizedSearchCV\n",
        "from sklearn.tree import DecisionTreeClassifier\n",
        "from sklearn.model_selection import train_test_split\n",
        "from sklearn.linear_model import LogisticRegression\n",
        "from sklearn.metrics import classification_report, accuracy_score, confusion_matrix, f1_score\n",
        "from sklearn.preprocessing import StandardScaler\n",
        "from sklearn.neighbors import KNeighborsClassifier\n",
        "from tensorflow.keras.models import Sequential\n",
        "from tensorflow.keras.layers import Dense\n",
        "from tensorflow.keras.layers import MaxPooling2D\n",
        "from tensorflow.keras.layers import Conv2D\n",
        "from tensorflow.keras.layers import Flatten\n",
        "from tensorflow.keras.layers import Dropout\n",
        "from tensorflow.keras.preprocessing import image_dataset_from_directory\n",
        "from tensorflow.keras.preprocessing.image import ImageDataGenerator\n",
        "from tensorflow.keras.utils import to_categorical"
      ]
    },
    {
      "cell_type": "code",
      "execution_count": 64,
      "metadata": {},
      "outputs": [],
      "source": [
        "pathAudioNorm = '/norm/'\n",
        "pathAudioPatho = '/patho/'\n",
        "path = 'data'"
      ]
    },
    {
      "cell_type": "code",
      "execution_count": 65,
      "metadata": {
        "colab": {
          "base_uri": "https://localhost:8080/"
        },
        "id": "2kjlBqm5VTuf",
        "outputId": "e8b7ef39-3792-4f15-af91-72bfd73971a9"
      },
      "outputs": [
        {
          "name": "stdout",
          "output_type": "stream",
          "text": [
            "La duración promedio de los audios tipo norm es: 1.003843005780347 segundos\n"
          ]
        },
        {
          "name": "stderr",
          "output_type": "stream",
          "text": [
            "C:\\Users\\Wembie\\AppData\\Local\\Temp\\ipykernel_12312\\2063783998.py:14: FutureWarning: The behavior of DataFrame concatenation with empty or all-NA entries is deprecated. In a future version, this will no longer exclude empty or all-NA columns when determining the result dtypes. To retain the old behavior, exclude the relevant entries before the concat operation.\n",
            "  dfCopy = pd.concat([dfCopy, dfNew], ignore_index=True)\n"
          ]
        }
      ],
      "source": [
        "dfCopy = pd.DataFrame(columns=['audio', 'type', 'duration'])\n",
        "\n",
        "def readAudioFiles(pathAudioType, dfCopy, tipo):\n",
        "    for file in os.listdir(pathAudioType):\n",
        "        if not file.endswith('.wav'):\n",
        "            continue\n",
        "        with wave.open(os.path.join(pathAudioType, file), 'rb') as audioFile:\n",
        "            amountFrames = audioFile.getnframes()\n",
        "            frameRate = audioFile.getframerate()  # Obtener la frecuencia de muestreo\n",
        "            duration = amountFrames / frameRate  # Calcular la duración en segundos\n",
        "            datosAudio = audioFile.readframes(amountFrames)\n",
        "            audioArray = np.frombuffer(datosAudio, dtype=np.int16).astype(np.float32) / 32767.0\n",
        "            dfNew = pd.DataFrame({'audio': [audioArray], 'type': [tipo], 'duration': [duration]})\n",
        "            dfCopy = pd.concat([dfCopy, dfNew], ignore_index=True)\n",
        "    return dfCopy\n",
        "\n",
        "dfCopy = readAudioFiles(path + pathAudioNorm, dfCopy, 'norm')\n",
        "dfCopy = readAudioFiles(path + pathAudioPatho, dfCopy, 'patho')\n",
        "\n",
        "average_duration = dfCopy[dfCopy['type'] == 'patho']['duration'].mean()\n",
        "print(f'La duración promedio de los audios tipo norm es: {average_duration} segundos')"
      ]
    },
    {
      "cell_type": "code",
      "execution_count": 66,
      "metadata": {
        "colab": {
          "base_uri": "https://localhost:8080/",
          "height": 1000
        },
        "id": "APutjBg4XVcs",
        "outputId": "c53b2672-bb43-4e94-8795-db30e2d020c1"
      },
      "outputs": [
        {
          "data": {
            "image/png": "[encoded data removed]",
            "text/plain": [
              "<Figure size 1400x700 with 1 Axes>"
            ]
          },
          "metadata": {},
          "output_type": "display_data"
        },
        {
          "data": {
            "image/png": "[encoded data removed]",
            "text/plain": [
              "<Figure size 1400x700 with 1 Axes>"
            ]
          },
          "metadata": {},
          "output_type": "display_data"
        }
      ],
      "source": [
        "# Seleccionar una muestra de cada tipo\n",
        "norm_sample = dfCopy[dfCopy['type'] == 'norm'].iloc[0]['audio']\n",
        "patho_sample = dfCopy[dfCopy['type'] == 'patho'].iloc[5]['audio']\n",
        "\n",
        "# Calcular el tiempo correspondiente a cada muestra\n",
        "norm_time = np.linspace(0, len(norm_sample) / 50000, num=len(norm_sample))\n",
        "patho_time = np.linspace(0, len(patho_sample) / 50000, num=len(patho_sample))\n",
        "\n",
        "# Crear la gráfica de la amplitud de onda para la muestra normal\n",
        "plt.figure(figsize=(14, 7))\n",
        "plt.plot(norm_time, norm_sample, color='blue')\n",
        "plt.title('Amplitud de Onda - Muestra Normal')\n",
        "plt.xlabel('Tiempo (s)')\n",
        "plt.ylabel('Amplitud')\n",
        "plt.tight_layout()\n",
        "plt.savefig('amplitud_onda_muestra_normal.png')\n",
        "plt.show()\n",
        "\n",
        "# Crear la gráfica de la amplitud de onda para la muestra patológica\n",
        "plt.figure(figsize=(14, 7))\n",
        "plt.plot(patho_time, patho_sample, color='red')\n",
        "plt.title('Amplitud de Onda - Muestra Patológica')\n",
        "plt.xlabel('Tiempo (s)')\n",
        "plt.ylabel('Amplitud')\n",
        "plt.tight_layout()\n",
        "plt.savefig('amplitud_onda_muestra_patologica.png')\n",
        "plt.show()"
      ]
    },
    {
      "cell_type": "code",
      "execution_count": 67,
      "metadata": {
        "id": "c_QQpjAAagjo"
      },
      "outputs": [],
      "source": [
        "df = pd.DataFrame( columns = ['audio', 'type'] )\n",
        "\n",
        "def readAudioFiles( pathAudioType, df, tipo ):\n",
        "    for file in os.listdir( path + pathAudioType ):\n",
        "        if not file.endswith( '.wav' ):\n",
        "            continue\n",
        "        with wave.open( path + pathAudioType + file, 'rb' ) as audioFile:\n",
        "            amountFrames = audioFile.getnframes()\n",
        "            datosAudio = audioFile.readframes( amountFrames )\n",
        "            audioArray = np.frombuffer( datosAudio, dtype=np.int16 ).astype( np.float32) / 32767.0\n",
        "            dfNew = pd.DataFrame( { 'audio': [ audioArray ], 'type': [ tipo ] } )\n",
        "            df = pd.concat( [ df, dfNew ], ignore_index = True )\n",
        "    return df\n",
        "\n",
        "df = readAudioFiles( pathAudioNorm, df, 'norm' )\n",
        "df = readAudioFiles( pathAudioPatho, df, 'patho' )"
      ]
    },
    {
      "cell_type": "code",
      "execution_count": 68,
      "metadata": {
        "colab": {
          "base_uri": "https://localhost:8080/"
        },
        "id": "ZYXvpy6ecuNO",
        "outputId": "c66f7648-e7b3-4726-99db-1cf33e02ffe2"
      },
      "outputs": [
        {
          "name": "stdout",
          "output_type": "stream",
          "text": [
            "<class 'pandas.core.frame.DataFrame'>\n",
            "RangeIndex: 226 entries, 0 to 225\n",
            "Data columns (total 2 columns):\n",
            " #   Column  Non-Null Count  Dtype \n",
            "---  ------  --------------  ----- \n",
            " 0   audio   226 non-null    object\n",
            " 1   type    226 non-null    object\n",
            "dtypes: object(2)\n",
            "memory usage: 3.7+ KB\n"
          ]
        }
      ],
      "source": [
        "df.info()"
      ]
    },
    {
      "cell_type": "code",
      "execution_count": 69,
      "metadata": {
        "colab": {
          "base_uri": "https://localhost:8080/"
        },
        "id": "nvs2uIeZagjo",
        "outputId": "434bbcd2-8e49-4909-f105-f3f466fe7d4b"
      },
      "outputs": [
        {
          "name": "stdout",
          "output_type": "stream",
          "text": [
            "11263 150001\n"
          ]
        }
      ],
      "source": [
        "minimal = df['audio'].apply( lambda x: len(x) ).min()\n",
        "maximum = df['audio'].apply( lambda x: len(x) ).max()\n",
        "print(minimal, maximum)\n",
        "# for column, row in df.iterrows():\n",
        "#    print(len(row['audio']))"
      ]
    },
    {
      "cell_type": "code",
      "execution_count": 70,
      "metadata": {
        "colab": {
          "base_uri": "https://localhost:8080/"
        },
        "collapsed": true,
        "id": "_Igglk9yagjp",
        "outputId": "9e143cef-96a3-42d5-9335-e8cf6ff3895b"
      },
      "outputs": [
        {
          "name": "stdout",
          "output_type": "stream",
          "text": [
            "0      False\n",
            "1      False\n",
            "2      False\n",
            "3      False\n",
            "4      False\n",
            "       ...  \n",
            "221     True\n",
            "222     True\n",
            "223     True\n",
            "224     True\n",
            "225     True\n",
            "Name: audio, Length: 226, dtype: bool\n"
          ]
        }
      ],
      "source": [
        "amount = df['audio'].apply(len) < 75000\n",
        "print(amount)"
      ]
    },
    {
      "cell_type": "code",
      "execution_count": 71,
      "metadata": {
        "colab": {
          "base_uri": "https://localhost:8080/"
        },
        "id": "ysu7_F7Oagjp",
        "outputId": "0f0aa9e3-9b12-4478-dd1a-d4518cfc5be3"
      },
      "outputs": [
        {
          "name": "stdout",
          "output_type": "stream",
          "text": [
            "0.7654867256637168\n"
          ]
        }
      ],
      "source": [
        "duracion = df['audio'].apply(len).sum()\n",
        "print(amount.sum() / 226)"
      ]
    },
    {
      "cell_type": "code",
      "execution_count": 72,
      "metadata": {
        "id": "PKtp1a6kagjp"
      },
      "outputs": [],
      "source": [
        "def normalizeAudio( df, duracionFrames ):\n",
        "    for column, row in df.iterrows():\n",
        "        if len(row['audio']) > duracionFrames:\n",
        "            df.at[column, 'audio'] = row['audio'][0:duracionFrames]\n",
        "        else:\n",
        "            df.at[column, 'audio'] = np.pad( row['audio'], (0, duracionFrames - len(row['audio'])), 'constant' )\n",
        "    return df"
      ]
    },
    {
      "cell_type": "code",
      "execution_count": 73,
      "metadata": {
        "id": "FAJQsG7Wagjq"
      },
      "outputs": [],
      "source": [
        "dfNormalizado = normalizeAudio( df, 57170 )"
      ]
    },
    {
      "cell_type": "code",
      "execution_count": 74,
      "metadata": {
        "colab": {
          "base_uri": "https://localhost:8080/"
        },
        "collapsed": true,
        "id": "dG2EQ7VKagjq",
        "outputId": "9d1f4c46-b047-48b3-a9cd-31eb700fc384"
      },
      "outputs": [
        {
          "name": "stdout",
          "output_type": "stream",
          "text": [
            "57170\n",
            "57170\n",
            "57170\n",
            "57170\n",
            "57170\n",
            "57170\n",
            "57170\n",
            "57170\n",
            "57170\n",
            "57170\n",
            "57170\n",
            "57170\n",
            "57170\n",
            "57170\n",
            "57170\n",
            "57170\n",
            "57170\n",
            "57170\n",
            "57170\n",
            "57170\n",
            "57170\n",
            "57170\n",
            "57170\n",
            "57170\n",
            "57170\n",
            "57170\n",
            "57170\n",
            "57170\n",
            "57170\n",
            "57170\n",
            "57170\n",
            "57170\n",
            "57170\n",
            "57170\n",
            "57170\n",
            "57170\n",
            "57170\n",
            "57170\n",
            "57170\n",
            "57170\n",
            "57170\n",
            "57170\n",
            "57170\n",
            "57170\n",
            "57170\n",
            "57170\n",
            "57170\n",
            "57170\n",
            "57170\n",
            "57170\n",
            "57170\n",
            "57170\n",
            "57170\n",
            "57170\n",
            "57170\n",
            "57170\n",
            "57170\n",
            "57170\n",
            "57170\n",
            "57170\n",
            "57170\n",
            "57170\n",
            "57170\n",
            "57170\n",
            "57170\n",
            "57170\n",
            "57170\n",
            "57170\n",
            "57170\n",
            "57170\n",
            "57170\n",
            "57170\n",
            "57170\n",
            "57170\n",
            "57170\n",
            "57170\n",
            "57170\n",
            "57170\n",
            "57170\n",
            "57170\n",
            "57170\n",
            "57170\n",
            "57170\n",
            "57170\n",
            "57170\n",
            "57170\n",
            "57170\n",
            "57170\n",
            "57170\n",
            "57170\n",
            "57170\n",
            "57170\n",
            "57170\n",
            "57170\n",
            "57170\n",
            "57170\n",
            "57170\n",
            "57170\n",
            "57170\n",
            "57170\n",
            "57170\n",
            "57170\n",
            "57170\n",
            "57170\n",
            "57170\n",
            "57170\n",
            "57170\n",
            "57170\n",
            "57170\n",
            "57170\n",
            "57170\n",
            "57170\n",
            "57170\n",
            "57170\n",
            "57170\n",
            "57170\n",
            "57170\n",
            "57170\n",
            "57170\n",
            "57170\n",
            "57170\n",
            "57170\n",
            "57170\n",
            "57170\n",
            "57170\n",
            "57170\n",
            "57170\n",
            "57170\n",
            "57170\n",
            "57170\n",
            "57170\n",
            "57170\n",
            "57170\n",
            "57170\n",
            "57170\n",
            "57170\n",
            "57170\n",
            "57170\n",
            "57170\n",
            "57170\n",
            "57170\n",
            "57170\n",
            "57170\n",
            "57170\n",
            "57170\n",
            "57170\n",
            "57170\n",
            "57170\n",
            "57170\n",
            "57170\n",
            "57170\n",
            "57170\n",
            "57170\n",
            "57170\n",
            "57170\n",
            "57170\n",
            "57170\n",
            "57170\n",
            "57170\n",
            "57170\n",
            "57170\n",
            "57170\n",
            "57170\n",
            "57170\n",
            "57170\n",
            "57170\n",
            "57170\n",
            "57170\n",
            "57170\n",
            "57170\n",
            "57170\n",
            "57170\n",
            "57170\n",
            "57170\n",
            "57170\n",
            "57170\n",
            "57170\n",
            "57170\n",
            "57170\n",
            "57170\n",
            "57170\n",
            "57170\n",
            "57170\n",
            "57170\n",
            "57170\n",
            "57170\n",
            "57170\n",
            "57170\n",
            "57170\n",
            "57170\n",
            "57170\n",
            "57170\n",
            "57170\n",
            "57170\n",
            "57170\n",
            "57170\n",
            "57170\n",
            "57170\n",
            "57170\n",
            "57170\n",
            "57170\n",
            "57170\n",
            "57170\n",
            "57170\n",
            "57170\n",
            "57170\n",
            "57170\n",
            "57170\n",
            "57170\n",
            "57170\n",
            "57170\n",
            "57170\n",
            "57170\n",
            "57170\n",
            "57170\n",
            "57170\n",
            "57170\n",
            "57170\n",
            "57170\n",
            "57170\n",
            "57170\n",
            "57170\n",
            "57170\n",
            "57170\n",
            "57170\n",
            "57170\n"
          ]
        }
      ],
      "source": [
        "for column, row in dfNormalizado.iterrows():\n",
        "    print(len(row['audio']))"
      ]
    },
    {
      "cell_type": "code",
      "execution_count": 75,
      "metadata": {
        "id": "-LGwsIJPagjq"
      },
      "outputs": [],
      "source": [
        "def timeShift(audioArray, shift):\n",
        "    if shift > 0:\n",
        "        return np.concatenate([np.zeros(shift), audioArray[:-shift]])\n",
        "    elif shift < 0:\n",
        "        return np.concatenate([audioArray[-shift:], np.zeros(-shift)])\n",
        "    return audioArray"
      ]
    },
    {
      "cell_type": "code",
      "execution_count": 76,
      "metadata": {
        "id": "kA01XZcQagjr"
      },
      "outputs": [],
      "source": [
        "def applyTimeShiftAugmentation(df, maxShiftPct=0.1):\n",
        "    dfAugmented = pd.DataFrame(columns=['audio', 'type'])\n",
        "\n",
        "    for index, row in df.iterrows():\n",
        "        audioArray = row['audio']\n",
        "        tipo = row['type']\n",
        "\n",
        "        amountFrames = len(audioArray)\n",
        "        shiftAmount = np.random.randint(-int(amountFrames * maxShiftPct), int(amountFrames * maxShiftPct))\n",
        "\n",
        "        shiftedAudioArray = timeShift(audioArray, shiftAmount)\n",
        "\n",
        "        dfNew = pd.DataFrame({'audio': [shiftedAudioArray], 'type': [tipo]})\n",
        "        dfAugmented = pd.concat([dfAugmented, dfNew], ignore_index=True)\n",
        "\n",
        "    dfResult = pd.concat([df, dfAugmented], ignore_index=True)\n",
        "\n",
        "    return dfResult"
      ]
    },
    {
      "cell_type": "code",
      "execution_count": 77,
      "metadata": {
        "id": "twYt2-vmagjs"
      },
      "outputs": [],
      "source": [
        "dfAugmented = applyTimeShiftAugmentation(dfNormalizado)"
      ]
    },
    {
      "cell_type": "code",
      "execution_count": 78,
      "metadata": {
        "colab": {
          "base_uri": "https://localhost:8080/"
        },
        "id": "-H9FNalaagjs",
        "outputId": "e2e86d52-f745-428a-fc89-82c324a6e0fe"
      },
      "outputs": [
        {
          "name": "stdout",
          "output_type": "stream",
          "text": [
            "                                                 audio   type\n",
            "0    [0.29456466, 0.2713706, 0.25086215, 0.2230903,...   norm\n",
            "1    [-0.03640858, -0.006286813, 0.022583697, 0.048...   norm\n",
            "2    [-0.010834071, 0.027497178, 0.066988125, 0.110...   norm\n",
            "3    [-0.11380352, -0.13516648, -0.15536973, -0.172...   norm\n",
            "4    [0.02356029, 0.031434067, 0.04235969, 0.043824...   norm\n",
            "..                                                 ...    ...\n",
            "447  [0.0, 0.0, 0.0, 0.0, 0.0, 0.0, 0.0, 0.0, 0.0, ...  patho\n",
            "448  [0.0, 0.0, 0.0, 0.0, 0.0, 0.0, 0.0, 0.0, 0.0, ...  patho\n",
            "449  [0.02053895778954029, 0.08163700997829437, 0.0...  patho\n",
            "450  [0.0, 0.0, 0.0, 0.0, 0.0, 0.0, 0.0, 0.0, 0.0, ...  patho\n",
            "451  [0.0, 0.0, 0.0, 0.0, 0.0, 0.0, 0.0, 0.0, 0.0, ...  patho\n",
            "\n",
            "[452 rows x 2 columns]\n"
          ]
        }
      ],
      "source": [
        "print(dfAugmented)"
      ]
    },
    {
      "cell_type": "code",
      "execution_count": 79,
      "metadata": {
        "colab": {
          "base_uri": "https://localhost:8080/"
        },
        "id": "ArDh-CLragjs",
        "outputId": "03cfe928-8bdf-49c8-f698-ba05799137b3"
      },
      "outputs": [
        {
          "name": "stdout",
          "output_type": "stream",
          "text": [
            "type\n",
            "patho    346\n",
            "norm     106\n",
            "Name: count, dtype: int64\n"
          ]
        }
      ],
      "source": [
        "print(dfAugmented['type'].value_counts())"
      ]
    },
    {
      "cell_type": "code",
      "execution_count": 80,
      "metadata": {
        "id": "kt9UlO8CyDyv"
      },
      "outputs": [],
      "source": [
        "X = np.array(dfAugmented['audio'].tolist())\n",
        "\n",
        "y = dfAugmented['type'].apply(lambda x: 1 if x == 'patho' else 0).values\n",
        "\n",
        "X_train, X_test, y_train, y_test = train_test_split(X, y, test_size=0.2, random_state=42, stratify=y)"
      ]
    },
    {
      "cell_type": "code",
      "execution_count": 81,
      "metadata": {
        "id": "alrmLubZyGda"
      },
      "outputs": [],
      "source": [
        "scaler = StandardScaler()\n",
        "X_train_scaled = scaler.fit_transform(X_train)\n",
        "X_test_scaled = scaler.transform(X_test)"
      ]
    },
    {
      "cell_type": "code",
      "execution_count": 82,
      "metadata": {},
      "outputs": [],
      "source": [
        "def trainRequestedModel(model, X_train, y_train, X_test, y_test, modelName=None, hyperparameters=None, scoring='f1_maro'):\n",
        "    if hyperparameters:\n",
        "        print(f'Training {modelName} with hyperparameters {hyperparameters}')\n",
        "        modelSearch = RandomizedSearchCV(model, hyperparameters, n_iter=100, cv=5, scoring=scoring, n_jobs=-1)\n",
        "        modelSearch.fit(X_train, y_train)\n",
        "        print(f'Best hyperparameters for {modelName}')\n",
        "        print(modelSearch.best_params_)\n",
        "        model = modelSearch.best_estimator_\n",
        "        scores = cross_val_score(model, X_train, y_train, cv=5, scoring=scoring)\n",
        "    else:\n",
        "        print(f'Training {modelName}')\n",
        "        scores = cross_val_score(model, X_train, y_train, cv=5, scoring=scoring)\n",
        "\n",
        "    y_pred = model.predict(X_test)\n",
        "\n",
        "    print(f'Classification report for {modelName}')\n",
        "    print(classification_report(y_test, y_pred))\n",
        "    print(f'Accuracy score for {modelName}')\n",
        "    print(accuracy_score(y_test, y_pred))\n",
        "    print(f'Confusion matrix for {modelName}')\n",
        "    print(confusion_matrix(y_test, y_pred))"
      ]
    },
    {
      "cell_type": "markdown",
      "metadata": {},
      "source": [
        "# Logistic Regression"
      ]
    },
    {
      "cell_type": "code",
      "execution_count": 83,
      "metadata": {
        "colab": {
          "base_uri": "https://localhost:8080/"
        },
        "id": "uKB4BMSf0LN0",
        "outputId": "35215998-6c58-407c-fa6a-ad32f174d9f0"
      },
      "outputs": [
        {
          "name": "stdout",
          "output_type": "stream",
          "text": [
            "Cross-validation scores: [0.71814672 0.69197861 0.59821429 0.78947368 0.7       ]\n",
            "Average cross-validation score: 0.6995626595394396\n"
          ]
        }
      ],
      "source": [
        "log_reg_norm = LogisticRegression()\n",
        "\n",
        "scores = cross_val_score(log_reg_norm, X_train_scaled, y_train, cv=5, scoring='f1_macro')\n",
        "print(f'Cross-validation scores: {scores}')\n",
        "print(f'Average cross-validation score: {np.mean(scores)}')"
      ]
    },
    {
      "cell_type": "code",
      "execution_count": 84,
      "metadata": {},
      "outputs": [],
      "source": [
        "y_pred_log_reg_norm = cross_val_predict(log_reg_norm, X_test_scaled, y_test, cv=5)"
      ]
    },
    {
      "cell_type": "code",
      "execution_count": 85,
      "metadata": {},
      "outputs": [
        {
          "name": "stdout",
          "output_type": "stream",
          "text": [
            "Confusion Matrix for logistic regression without optimzation:\n",
            " [[ 0 21]\n",
            " [ 0 70]]\n"
          ]
        }
      ],
      "source": [
        "conf_matrix_log_reg_norm = confusion_matrix(y_test, y_pred_log_reg_norm)\n",
        "print('Confusion Matrix for logistic regression without optimzation:\\n', conf_matrix_log_reg_norm)"
      ]
    },
    {
      "cell_type": "code",
      "execution_count": 86,
      "metadata": {},
      "outputs": [
        {
          "name": "stdout",
          "output_type": "stream",
          "text": [
            "Classification report for logistic regression without optimzation:\n",
            "               precision    recall  f1-score   support\n",
            "\n",
            "           0       0.00      0.00      0.00        21\n",
            "           1       0.77      1.00      0.87        70\n",
            "\n",
            "    accuracy                           0.77        91\n",
            "   macro avg       0.38      0.50      0.43        91\n",
            "weighted avg       0.59      0.77      0.67        91\n",
            "\n"
          ]
        },
        {
          "name": "stderr",
          "output_type": "stream",
          "text": [
            "d:\\Cosas De Webi\\Estudio\\PROGRAMACION\\PYTHON\\Tesis\\tesis\\Lib\\site-packages\\sklearn\\metrics\\_classification.py:1517: UndefinedMetricWarning: Precision is ill-defined and being set to 0.0 in labels with no predicted samples. Use `zero_division` parameter to control this behavior.\n",
            "  _warn_prf(average, modifier, f\"{metric.capitalize()} is\", len(result))\n",
            "d:\\Cosas De Webi\\Estudio\\PROGRAMACION\\PYTHON\\Tesis\\tesis\\Lib\\site-packages\\sklearn\\metrics\\_classification.py:1517: UndefinedMetricWarning: Precision is ill-defined and being set to 0.0 in labels with no predicted samples. Use `zero_division` parameter to control this behavior.\n",
            "  _warn_prf(average, modifier, f\"{metric.capitalize()} is\", len(result))\n",
            "d:\\Cosas De Webi\\Estudio\\PROGRAMACION\\PYTHON\\Tesis\\tesis\\Lib\\site-packages\\sklearn\\metrics\\_classification.py:1517: UndefinedMetricWarning: Precision is ill-defined and being set to 0.0 in labels with no predicted samples. Use `zero_division` parameter to control this behavior.\n",
            "  _warn_prf(average, modifier, f\"{metric.capitalize()} is\", len(result))\n"
          ]
        }
      ],
      "source": [
        "class_report_log_reg_norm = classification_report(y_test, y_pred_log_reg_norm)\n",
        "print('Classification report for logistic regression without optimzation:\\n', class_report_log_reg_norm)"
      ]
    },
    {
      "cell_type": "code",
      "execution_count": 87,
      "metadata": {},
      "outputs": [
        {
          "name": "stdout",
          "output_type": "stream",
          "text": [
            "F1-Score: 0.6688963210702341\n"
          ]
        }
      ],
      "source": [
        "print('F1-Score:', f1_score(y_test, y_pred_log_reg_norm, average='weighted'))"
      ]
    },
    {
      "cell_type": "markdown",
      "metadata": {},
      "source": [
        "## Optimizing"
      ]
    },
    {
      "cell_type": "code",
      "execution_count": 88,
      "metadata": {
        "colab": {
          "base_uri": "https://localhost:8080/"
        },
        "id": "lnvgQqSA0P5W",
        "outputId": "8e176e4d-0b64-4a02-fc0e-689e68a21cb8"
      },
      "outputs": [
        {
          "name": "stderr",
          "output_type": "stream",
          "text": [
            "d:\\Cosas De Webi\\Estudio\\PROGRAMACION\\PYTHON\\Tesis\\tesis\\Lib\\site-packages\\sklearn\\model_selection\\_search.py:320: UserWarning: The total space of parameters 20 is smaller than n_iter=100. Running 20 iterations. For exhaustive searches, use GridSearchCV.\n",
            "  warnings.warn(\n",
            "d:\\Cosas De Webi\\Estudio\\PROGRAMACION\\PYTHON\\Tesis\\tesis\\Lib\\site-packages\\sklearn\\linear_model\\_sag.py:349: ConvergenceWarning: The max_iter was reached which means the coef_ did not converge\n",
            "  warnings.warn(\n"
          ]
        },
        {
          "data": {
            "text/html": [
              "<style>#sk-container-id-3 {\n",
              "  /* Definition of color scheme common for light and dark mode */\n",
              "  --sklearn-color-text: black;\n",
              "  --sklearn-color-line: gray;\n",
              "  /* Definition of color scheme for unfitted estimators */\n",
              "  --sklearn-color-unfitted-level-0: #fff5e6;\n",
              "  --sklearn-color-unfitted-level-1: #f6e4d2;\n",
              "  --sklearn-color-unfitted-level-2: #ffe0b3;\n",
              "  --sklearn-color-unfitted-level-3: chocolate;\n",
              "  /* Definition of color scheme for fitted estimators */\n",
              "  --sklearn-color-fitted-level-0: #f0f8ff;\n",
              "  --sklearn-color-fitted-level-1: #d4ebff;\n",
              "  --sklearn-color-fitted-level-2: #b3dbfd;\n",
              "  --sklearn-color-fitted-level-3: cornflowerblue;\n",
              "\n",
              "  /* Specific color for light theme */\n",
              "  --sklearn-color-text-on-default-background: var(--sg-text-color, var(--theme-code-foreground, var(--jp-content-font-color1, black)));\n",
              "  --sklearn-color-background: var(--sg-background-color, var(--theme-background, var(--jp-layout-color0, white)));\n",
              "  --sklearn-color-border-box: var(--sg-text-color, var(--theme-code-foreground, var(--jp-content-font-color1, black)));\n",
              "  --sklearn-color-icon: #696969;\n",
              "\n",
              "  @media (prefers-color-scheme: dark) {\n",
              "    /* Redefinition of color scheme for dark theme */\n",
              "    --sklearn-color-text-on-default-background: var(--sg-text-color, var(--theme-code-foreground, var(--jp-content-font-color1, white)));\n",
              "    --sklearn-color-background: var(--sg-background-color, var(--theme-background, var(--jp-layout-color0, #111)));\n",
              "    --sklearn-color-border-box: var(--sg-text-color, var(--theme-code-foreground, var(--jp-content-font-color1, white)));\n",
              "    --sklearn-color-icon: #878787;\n",
              "  }\n",
              "}\n",
              "\n",
              "#sk-container-id-3 {\n",
              "  color: var(--sklearn-color-text);\n",
              "}\n",
              "\n",
              "#sk-container-id-3 pre {\n",
              "  padding: 0;\n",
              "}\n",
              "\n",
              "#sk-container-id-3 input.sk-hidden--visually {\n",
              "  border: 0;\n",
              "  clip: rect(1px 1px 1px 1px);\n",
              "  clip: rect(1px, 1px, 1px, 1px);\n",
              "  height: 1px;\n",
              "  margin: -1px;\n",
              "  overflow: hidden;\n",
              "  padding: 0;\n",
              "  position: absolute;\n",
              "  width: 1px;\n",
              "}\n",
              "\n",
              "#sk-container-id-3 div.sk-dashed-wrapped {\n",
              "  border: 1px dashed var(--sklearn-color-line);\n",
              "  margin: 0 0.4em 0.5em 0.4em;\n",
              "  box-sizing: border-box;\n",
              "  padding-bottom: 0.4em;\n",
              "  background-color: var(--sklearn-color-background);\n",
              "}\n",
              "\n",
              "#sk-container-id-3 div.sk-container {\n",
              "  /* jupyter's `normalize.less` sets `[hidden] { display: none; }`\n",
              "     but bootstrap.min.css set `[hidden] { display: none !important; }`\n",
              "     so we also need the `!important` here to be able to override the\n",
              "     default hidden behavior on the sphinx rendered scikit-learn.org.\n",
              "     See: https://github.com/scikit-learn/scikit-learn/issues/21755 */\n",
              "  display: inline-block !important;\n",
              "  position: relative;\n",
              "}\n",
              "\n",
              "#sk-container-id-3 div.sk-text-repr-fallback {\n",
              "  display: none;\n",
              "}\n",
              "\n",
              "div.sk-parallel-item,\n",
              "div.sk-serial,\n",
              "div.sk-item {\n",
              "  /* draw centered vertical line to link estimators */\n",
              "  background-image: linear-gradient(var(--sklearn-color-text-on-default-background), var(--sklearn-color-text-on-default-background));\n",
              "  background-size: 2px 100%;\n",
              "  background-repeat: no-repeat;\n",
              "  background-position: center center;\n",
              "}\n",
              "\n",
              "/* Parallel-specific style estimator block */\n",
              "\n",
              "#sk-container-id-3 div.sk-parallel-item::after {\n",
              "  content: \"\";\n",
              "  width: 100%;\n",
              "  border-bottom: 2px solid var(--sklearn-color-text-on-default-background);\n",
              "  flex-grow: 1;\n",
              "}\n",
              "\n",
              "#sk-container-id-3 div.sk-parallel {\n",
              "  display: flex;\n",
              "  align-items: stretch;\n",
              "  justify-content: center;\n",
              "  background-color: var(--sklearn-color-background);\n",
              "  position: relative;\n",
              "}\n",
              "\n",
              "#sk-container-id-3 div.sk-parallel-item {\n",
              "  display: flex;\n",
              "  flex-direction: column;\n",
              "}\n",
              "\n",
              "#sk-container-id-3 div.sk-parallel-item:first-child::after {\n",
              "  align-self: flex-end;\n",
              "  width: 50%;\n",
              "}\n",
              "\n",
              "#sk-container-id-3 div.sk-parallel-item:last-child::after {\n",
              "  align-self: flex-start;\n",
              "  width: 50%;\n",
              "}\n",
              "\n",
              "#sk-container-id-3 div.sk-parallel-item:only-child::after {\n",
              "  width: 0;\n",
              "}\n",
              "\n",
              "/* Serial-specific style estimator block */\n",
              "\n",
              "#sk-container-id-3 div.sk-serial {\n",
              "  display: flex;\n",
              "  flex-direction: column;\n",
              "  align-items: center;\n",
              "  background-color: var(--sklearn-color-background);\n",
              "  padding-right: 1em;\n",
              "  padding-left: 1em;\n",
              "}\n",
              "\n",
              "\n",
              "/* Toggleable style: style used for estimator/Pipeline/ColumnTransformer box that is\n",
              "clickable and can be expanded/collapsed.\n",
              "- Pipeline and ColumnTransformer use this feature and define the default style\n",
              "- Estimators will overwrite some part of the style using the `sk-estimator` class\n",
              "*/\n",
              "\n",
              "/* Pipeline and ColumnTransformer style (default) */\n",
              "\n",
              "#sk-container-id-3 div.sk-toggleable {\n",
              "  /* Default theme specific background. It is overwritten whether we have a\n",
              "  specific estimator or a Pipeline/ColumnTransformer */\n",
              "  background-color: var(--sklearn-color-background);\n",
              "}\n",
              "\n",
              "/* Toggleable label */\n",
              "#sk-container-id-3 label.sk-toggleable__label {\n",
              "  cursor: pointer;\n",
              "  display: block;\n",
              "  width: 100%;\n",
              "  margin-bottom: 0;\n",
              "  padding: 0.5em;\n",
              "  box-sizing: border-box;\n",
              "  text-align: center;\n",
              "}\n",
              "\n",
              "#sk-container-id-3 label.sk-toggleable__label-arrow:before {\n",
              "  /* Arrow on the left of the label */\n",
              "  content: \"▸\";\n",
              "  float: left;\n",
              "  margin-right: 0.25em;\n",
              "  color: var(--sklearn-color-icon);\n",
              "}\n",
              "\n",
              "#sk-container-id-3 label.sk-toggleable__label-arrow:hover:before {\n",
              "  color: var(--sklearn-color-text);\n",
              "}\n",
              "\n",
              "/* Toggleable content - dropdown */\n",
              "\n",
              "#sk-container-id-3 div.sk-toggleable__content {\n",
              "  max-height: 0;\n",
              "  max-width: 0;\n",
              "  overflow: hidden;\n",
              "  text-align: left;\n",
              "  /* unfitted */\n",
              "  background-color: var(--sklearn-color-unfitted-level-0);\n",
              "}\n",
              "\n",
              "#sk-container-id-3 div.sk-toggleable__content.fitted {\n",
              "  /* fitted */\n",
              "  background-color: var(--sklearn-color-fitted-level-0);\n",
              "}\n",
              "\n",
              "#sk-container-id-3 div.sk-toggleable__content pre {\n",
              "  margin: 0.2em;\n",
              "  border-radius: 0.25em;\n",
              "  color: var(--sklearn-color-text);\n",
              "  /* unfitted */\n",
              "  background-color: var(--sklearn-color-unfitted-level-0);\n",
              "}\n",
              "\n",
              "#sk-container-id-3 div.sk-toggleable__content.fitted pre {\n",
              "  /* unfitted */\n",
              "  background-color: var(--sklearn-color-fitted-level-0);\n",
              "}\n",
              "\n",
              "#sk-container-id-3 input.sk-toggleable__control:checked~div.sk-toggleable__content {\n",
              "  /* Expand drop-down */\n",
              "  max-height: 200px;\n",
              "  max-width: 100%;\n",
              "  overflow: auto;\n",
              "}\n",
              "\n",
              "#sk-container-id-3 input.sk-toggleable__control:checked~label.sk-toggleable__label-arrow:before {\n",
              "  content: \"▾\";\n",
              "}\n",
              "\n",
              "/* Pipeline/ColumnTransformer-specific style */\n",
              "\n",
              "#sk-container-id-3 div.sk-label input.sk-toggleable__control:checked~label.sk-toggleable__label {\n",
              "  color: var(--sklearn-color-text);\n",
              "  background-color: var(--sklearn-color-unfitted-level-2);\n",
              "}\n",
              "\n",
              "#sk-container-id-3 div.sk-label.fitted input.sk-toggleable__control:checked~label.sk-toggleable__label {\n",
              "  background-color: var(--sklearn-color-fitted-level-2);\n",
              "}\n",
              "\n",
              "/* Estimator-specific style */\n",
              "\n",
              "/* Colorize estimator box */\n",
              "#sk-container-id-3 div.sk-estimator input.sk-toggleable__control:checked~label.sk-toggleable__label {\n",
              "  /* unfitted */\n",
              "  background-color: var(--sklearn-color-unfitted-level-2);\n",
              "}\n",
              "\n",
              "#sk-container-id-3 div.sk-estimator.fitted input.sk-toggleable__control:checked~label.sk-toggleable__label {\n",
              "  /* fitted */\n",
              "  background-color: var(--sklearn-color-fitted-level-2);\n",
              "}\n",
              "\n",
              "#sk-container-id-3 div.sk-label label.sk-toggleable__label,\n",
              "#sk-container-id-3 div.sk-label label {\n",
              "  /* The background is the default theme color */\n",
              "  color: var(--sklearn-color-text-on-default-background);\n",
              "}\n",
              "\n",
              "/* On hover, darken the color of the background */\n",
              "#sk-container-id-3 div.sk-label:hover label.sk-toggleable__label {\n",
              "  color: var(--sklearn-color-text);\n",
              "  background-color: var(--sklearn-color-unfitted-level-2);\n",
              "}\n",
              "\n",
              "/* Label box, darken color on hover, fitted */\n",
              "#sk-container-id-3 div.sk-label.fitted:hover label.sk-toggleable__label.fitted {\n",
              "  color: var(--sklearn-color-text);\n",
              "  background-color: var(--sklearn-color-fitted-level-2);\n",
              "}\n",
              "\n",
              "/* Estimator label */\n",
              "\n",
              "#sk-container-id-3 div.sk-label label {\n",
              "  font-family: monospace;\n",
              "  font-weight: bold;\n",
              "  display: inline-block;\n",
              "  line-height: 1.2em;\n",
              "}\n",
              "\n",
              "#sk-container-id-3 div.sk-label-container {\n",
              "  text-align: center;\n",
              "}\n",
              "\n",
              "/* Estimator-specific */\n",
              "#sk-container-id-3 div.sk-estimator {\n",
              "  font-family: monospace;\n",
              "  border: 1px dotted var(--sklearn-color-border-box);\n",
              "  border-radius: 0.25em;\n",
              "  box-sizing: border-box;\n",
              "  margin-bottom: 0.5em;\n",
              "  /* unfitted */\n",
              "  background-color: var(--sklearn-color-unfitted-level-0);\n",
              "}\n",
              "\n",
              "#sk-container-id-3 div.sk-estimator.fitted {\n",
              "  /* fitted */\n",
              "  background-color: var(--sklearn-color-fitted-level-0);\n",
              "}\n",
              "\n",
              "/* on hover */\n",
              "#sk-container-id-3 div.sk-estimator:hover {\n",
              "  /* unfitted */\n",
              "  background-color: var(--sklearn-color-unfitted-level-2);\n",
              "}\n",
              "\n",
              "#sk-container-id-3 div.sk-estimator.fitted:hover {\n",
              "  /* fitted */\n",
              "  background-color: var(--sklearn-color-fitted-level-2);\n",
              "}\n",
              "\n",
              "/* Specification for estimator info (e.g. \"i\" and \"?\") */\n",
              "\n",
              "/* Common style for \"i\" and \"?\" */\n",
              "\n",
              ".sk-estimator-doc-link,\n",
              "a:link.sk-estimator-doc-link,\n",
              "a:visited.sk-estimator-doc-link {\n",
              "  float: right;\n",
              "  font-size: smaller;\n",
              "  line-height: 1em;\n",
              "  font-family: monospace;\n",
              "  background-color: var(--sklearn-color-background);\n",
              "  border-radius: 1em;\n",
              "  height: 1em;\n",
              "  width: 1em;\n",
              "  text-decoration: none !important;\n",
              "  margin-left: 1ex;\n",
              "  /* unfitted */\n",
              "  border: var(--sklearn-color-unfitted-level-1) 1pt solid;\n",
              "  color: var(--sklearn-color-unfitted-level-1);\n",
              "}\n",
              "\n",
              ".sk-estimator-doc-link.fitted,\n",
              "a:link.sk-estimator-doc-link.fitted,\n",
              "a:visited.sk-estimator-doc-link.fitted {\n",
              "  /* fitted */\n",
              "  border: var(--sklearn-color-fitted-level-1) 1pt solid;\n",
              "  color: var(--sklearn-color-fitted-level-1);\n",
              "}\n",
              "\n",
              "/* On hover */\n",
              "div.sk-estimator:hover .sk-estimator-doc-link:hover,\n",
              ".sk-estimator-doc-link:hover,\n",
              "div.sk-label-container:hover .sk-estimator-doc-link:hover,\n",
              ".sk-estimator-doc-link:hover {\n",
              "  /* unfitted */\n",
              "  background-color: var(--sklearn-color-unfitted-level-3);\n",
              "  color: var(--sklearn-color-background);\n",
              "  text-decoration: none;\n",
              "}\n",
              "\n",
              "div.sk-estimator.fitted:hover .sk-estimator-doc-link.fitted:hover,\n",
              ".sk-estimator-doc-link.fitted:hover,\n",
              "div.sk-label-container:hover .sk-estimator-doc-link.fitted:hover,\n",
              ".sk-estimator-doc-link.fitted:hover {\n",
              "  /* fitted */\n",
              "  background-color: var(--sklearn-color-fitted-level-3);\n",
              "  color: var(--sklearn-color-background);\n",
              "  text-decoration: none;\n",
              "}\n",
              "\n",
              "/* Span, style for the box shown on hovering the info icon */\n",
              ".sk-estimator-doc-link span {\n",
              "  display: none;\n",
              "  z-index: 9999;\n",
              "  position: relative;\n",
              "  font-weight: normal;\n",
              "  right: .2ex;\n",
              "  padding: .5ex;\n",
              "  margin: .5ex;\n",
              "  width: min-content;\n",
              "  min-width: 20ex;\n",
              "  max-width: 50ex;\n",
              "  color: var(--sklearn-color-text);\n",
              "  box-shadow: 2pt 2pt 4pt #999;\n",
              "  /* unfitted */\n",
              "  background: var(--sklearn-color-unfitted-level-0);\n",
              "  border: .5pt solid var(--sklearn-color-unfitted-level-3);\n",
              "}\n",
              "\n",
              ".sk-estimator-doc-link.fitted span {\n",
              "  /* fitted */\n",
              "  background: var(--sklearn-color-fitted-level-0);\n",
              "  border: var(--sklearn-color-fitted-level-3);\n",
              "}\n",
              "\n",
              ".sk-estimator-doc-link:hover span {\n",
              "  display: block;\n",
              "}\n",
              "\n",
              "/* \"?\"-specific style due to the `<a>` HTML tag */\n",
              "\n",
              "#sk-container-id-3 a.estimator_doc_link {\n",
              "  float: right;\n",
              "  font-size: 1rem;\n",
              "  line-height: 1em;\n",
              "  font-family: monospace;\n",
              "  background-color: var(--sklearn-color-background);\n",
              "  border-radius: 1rem;\n",
              "  height: 1rem;\n",
              "  width: 1rem;\n",
              "  text-decoration: none;\n",
              "  /* unfitted */\n",
              "  color: var(--sklearn-color-unfitted-level-1);\n",
              "  border: var(--sklearn-color-unfitted-level-1) 1pt solid;\n",
              "}\n",
              "\n",
              "#sk-container-id-3 a.estimator_doc_link.fitted {\n",
              "  /* fitted */\n",
              "  border: var(--sklearn-color-fitted-level-1) 1pt solid;\n",
              "  color: var(--sklearn-color-fitted-level-1);\n",
              "}\n",
              "\n",
              "/* On hover */\n",
              "#sk-container-id-3 a.estimator_doc_link:hover {\n",
              "  /* unfitted */\n",
              "  background-color: var(--sklearn-color-unfitted-level-3);\n",
              "  color: var(--sklearn-color-background);\n",
              "  text-decoration: none;\n",
              "}\n",
              "\n",
              "#sk-container-id-3 a.estimator_doc_link.fitted:hover {\n",
              "  /* fitted */\n",
              "  background-color: var(--sklearn-color-fitted-level-3);\n",
              "}\n",
              "</style><div id=\"sk-container-id-3\" class=\"sk-top-container\"><div class=\"sk-text-repr-fallback\"><pre>RandomizedSearchCV(cv=5, estimator=LogisticRegression(), n_iter=100, n_jobs=-1,\n",
              "                   param_distributions={&#x27;C&#x27;: array([1.e-02, 1.e-01, 1.e+00, 1.e+01, 1.e+02]),\n",
              "                                        &#x27;max_iter&#x27;: [1000],\n",
              "                                        &#x27;penalty&#x27;: [&#x27;l1&#x27;, &#x27;l2&#x27;],\n",
              "                                        &#x27;solver&#x27;: [&#x27;liblinear&#x27;, &#x27;saga&#x27;]},\n",
              "                   random_state=42, scoring=&#x27;f1_macro&#x27;)</pre><b>In a Jupyter environment, please rerun this cell to show the HTML representation or trust the notebook. <br />On GitHub, the HTML representation is unable to render, please try loading this page with nbviewer.org.</b></div><div class=\"sk-container\" hidden><div class=\"sk-item sk-dashed-wrapped\"><div class=\"sk-label-container\"><div class=\"sk-label fitted sk-toggleable\"><input class=\"sk-toggleable__control sk-hidden--visually\" id=\"sk-estimator-id-7\" type=\"checkbox\" ><label for=\"sk-estimator-id-7\" class=\"sk-toggleable__label fitted sk-toggleable__label-arrow fitted\">&nbsp;&nbsp;RandomizedSearchCV<a class=\"sk-estimator-doc-link fitted\" rel=\"noreferrer\" target=\"_blank\" href=\"https://scikit-learn.org/1.5/modules/generated/sklearn.model_selection.RandomizedSearchCV.html\">?<span>Documentation for RandomizedSearchCV</span></a><span class=\"sk-estimator-doc-link fitted\">i<span>Fitted</span></span></label><div class=\"sk-toggleable__content fitted\"><pre>RandomizedSearchCV(cv=5, estimator=LogisticRegression(), n_iter=100, n_jobs=-1,\n",
              "                   param_distributions={&#x27;C&#x27;: array([1.e-02, 1.e-01, 1.e+00, 1.e+01, 1.e+02]),\n",
              "                                        &#x27;max_iter&#x27;: [1000],\n",
              "                                        &#x27;penalty&#x27;: [&#x27;l1&#x27;, &#x27;l2&#x27;],\n",
              "                                        &#x27;solver&#x27;: [&#x27;liblinear&#x27;, &#x27;saga&#x27;]},\n",
              "                   random_state=42, scoring=&#x27;f1_macro&#x27;)</pre></div> </div></div><div class=\"sk-parallel\"><div class=\"sk-parallel-item\"><div class=\"sk-item\"><div class=\"sk-label-container\"><div class=\"sk-label fitted sk-toggleable\"><input class=\"sk-toggleable__control sk-hidden--visually\" id=\"sk-estimator-id-8\" type=\"checkbox\" ><label for=\"sk-estimator-id-8\" class=\"sk-toggleable__label fitted sk-toggleable__label-arrow fitted\">best_estimator_: LogisticRegression</label><div class=\"sk-toggleable__content fitted\"><pre>LogisticRegression(C=0.1, max_iter=1000, penalty=&#x27;l1&#x27;, solver=&#x27;saga&#x27;)</pre></div> </div></div><div class=\"sk-serial\"><div class=\"sk-item\"><div class=\"sk-estimator fitted sk-toggleable\"><input class=\"sk-toggleable__control sk-hidden--visually\" id=\"sk-estimator-id-9\" type=\"checkbox\" ><label for=\"sk-estimator-id-9\" class=\"sk-toggleable__label fitted sk-toggleable__label-arrow fitted\">&nbsp;LogisticRegression<a class=\"sk-estimator-doc-link fitted\" rel=\"noreferrer\" target=\"_blank\" href=\"https://scikit-learn.org/1.5/modules/generated/sklearn.linear_model.LogisticRegression.html\">?<span>Documentation for LogisticRegression</span></a></label><div class=\"sk-toggleable__content fitted\"><pre>LogisticRegression(C=0.1, max_iter=1000, penalty=&#x27;l1&#x27;, solver=&#x27;saga&#x27;)</pre></div> </div></div></div></div></div></div></div></div></div>"
            ],
            "text/plain": [
              "RandomizedSearchCV(cv=5, estimator=LogisticRegression(), n_iter=100, n_jobs=-1,\n",
              "                   param_distributions={'C': array([1.e-02, 1.e-01, 1.e+00, 1.e+01, 1.e+02]),\n",
              "                                        'max_iter': [1000],\n",
              "                                        'penalty': ['l1', 'l2'],\n",
              "                                        'solver': ['liblinear', 'saga']},\n",
              "                   random_state=42, scoring='f1_macro')"
            ]
          },
          "execution_count": 88,
          "metadata": {},
          "output_type": "execute_result"
        }
      ],
      "source": [
        "log_reg_opt = LogisticRegression()\n",
        "\n",
        "param_dist = {\n",
        "    'penalty': ['l1', 'l2'],\n",
        "    'C': np.logspace(-2, 2, 5),\n",
        "    'solver': ['liblinear', 'saga'],\n",
        "    'max_iter': [1000]\n",
        "}\n",
        "\n",
        "random_search_log_reg = RandomizedSearchCV(log_reg_opt, param_distributions=param_dist, n_iter=100, cv=5, scoring='f1_macro', random_state=42, n_jobs=-1)\n",
        "\n",
        "random_search_log_reg.fit(X_train_scaled, y_train)"
      ]
    },
    {
      "cell_type": "code",
      "execution_count": 89,
      "metadata": {},
      "outputs": [
        {
          "name": "stdout",
          "output_type": "stream",
          "text": [
            "Best parameters found: {'solver': 'saga', 'penalty': 'l1', 'max_iter': 1000, 'C': 0.1}\n"
          ]
        }
      ],
      "source": [
        "print(f'Best parameters found: {random_search_log_reg.best_params_}')"
      ]
    },
    {
      "cell_type": "code",
      "execution_count": 90,
      "metadata": {},
      "outputs": [
        {
          "name": "stdout",
          "output_type": "stream",
          "text": [
            "F1 Macro Scores: [0.43410853 0.43307087 0.43307087 0.43307087 0.43307087]\n",
            "Media F1 Macro Score: 0.43327839833974247\n"
          ]
        }
      ],
      "source": [
        "best_log_reg = random_search_log_reg.best_estimator_\n",
        "scores = cross_val_score(best_log_reg, X_train, y_train, cv=5, scoring='f1_macro')\n",
        "print(\"F1 Macro Scores:\", scores)\n",
        "print(\"Media F1 Macro Score:\", np.mean(scores))"
      ]
    },
    {
      "cell_type": "code",
      "execution_count": 91,
      "metadata": {},
      "outputs": [
        {
          "name": "stderr",
          "output_type": "stream",
          "text": [
            "d:\\Cosas De Webi\\Estudio\\PROGRAMACION\\PYTHON\\Tesis\\tesis\\Lib\\site-packages\\sklearn\\linear_model\\_sag.py:349: ConvergenceWarning: The max_iter was reached which means the coef_ did not converge\n",
            "  warnings.warn(\n",
            "d:\\Cosas De Webi\\Estudio\\PROGRAMACION\\PYTHON\\Tesis\\tesis\\Lib\\site-packages\\sklearn\\linear_model\\_sag.py:349: ConvergenceWarning: The max_iter was reached which means the coef_ did not converge\n",
            "  warnings.warn(\n",
            "d:\\Cosas De Webi\\Estudio\\PROGRAMACION\\PYTHON\\Tesis\\tesis\\Lib\\site-packages\\sklearn\\linear_model\\_sag.py:349: ConvergenceWarning: The max_iter was reached which means the coef_ did not converge\n",
            "  warnings.warn(\n",
            "d:\\Cosas De Webi\\Estudio\\PROGRAMACION\\PYTHON\\Tesis\\tesis\\Lib\\site-packages\\sklearn\\linear_model\\_sag.py:349: ConvergenceWarning: The max_iter was reached which means the coef_ did not converge\n",
            "  warnings.warn(\n",
            "d:\\Cosas De Webi\\Estudio\\PROGRAMACION\\PYTHON\\Tesis\\tesis\\Lib\\site-packages\\sklearn\\linear_model\\_sag.py:349: ConvergenceWarning: The max_iter was reached which means the coef_ did not converge\n",
            "  warnings.warn(\n"
          ]
        }
      ],
      "source": [
        "y_pred_log_reg_opt = cross_val_predict(best_log_reg, X_test_scaled, y_test, cv=5)"
      ]
    },
    {
      "cell_type": "markdown",
      "metadata": {},
      "source": [
        "### Confusion Matrix for logistic regression"
      ]
    },
    {
      "cell_type": "code",
      "execution_count": 92,
      "metadata": {},
      "outputs": [
        {
          "name": "stdout",
          "output_type": "stream",
          "text": [
            "Confusion Matrix for logistic regression with optimzation:\n",
            " [[ 6 15]\n",
            " [ 8 62]]\n"
          ]
        }
      ],
      "source": [
        "conf_matrix_log_reg_opt = confusion_matrix(y_test, y_pred_log_reg_opt)\n",
        "print('Confusion Matrix for logistic regression with optimzation:\\n', conf_matrix_log_reg_opt)"
      ]
    },
    {
      "cell_type": "markdown",
      "metadata": {},
      "source": [
        "### Classification report for logistic regression"
      ]
    },
    {
      "cell_type": "code",
      "execution_count": 93,
      "metadata": {},
      "outputs": [
        {
          "name": "stdout",
          "output_type": "stream",
          "text": [
            "Classification report for logistic regression with optimzation:\n",
            "               precision    recall  f1-score   support\n",
            "\n",
            "           0       0.43      0.29      0.34        21\n",
            "           1       0.81      0.89      0.84        70\n",
            "\n",
            "    accuracy                           0.75        91\n",
            "   macro avg       0.62      0.59      0.59        91\n",
            "weighted avg       0.72      0.75      0.73        91\n",
            "\n"
          ]
        }
      ],
      "source": [
        "class_report_log_reg_opt = classification_report(y_test, y_pred_log_reg_opt)\n",
        "print('Classification report for logistic regression with optimzation:\\n', class_report_log_reg_opt)"
      ]
    },
    {
      "cell_type": "code",
      "execution_count": 94,
      "metadata": {},
      "outputs": [
        {
          "name": "stdout",
          "output_type": "stream",
          "text": [
            "F1-Score: 0.7279958137100995\n"
          ]
        }
      ],
      "source": [
        "print('F1-Score:', f1_score(y_test, y_pred_log_reg_opt, average='weighted'))"
      ]
    },
    {
      "cell_type": "markdown",
      "metadata": {},
      "source": [
        "# Decision Tree "
      ]
    },
    {
      "cell_type": "code",
      "execution_count": 95,
      "metadata": {
        "id": "w4JTtfnVagjt"
      },
      "outputs": [
        {
          "name": "stdout",
          "output_type": "stream",
          "text": [
            "Cross-validation scores: [0.84939581 0.88449198 0.83928571 0.87368421 0.89723094]\n",
            "Average cross-validation score: 0.8688177326478159\n"
          ]
        }
      ],
      "source": [
        "clfTree_norm = DecisionTreeClassifier(random_state=42)\n",
        "scores = cross_val_score(clfTree_norm, X_train, y_train, cv=5, scoring='f1_macro')\n",
        "\n",
        "print(f'Cross-validation scores: {scores}')\n",
        "print(f'Average cross-validation score: {np.mean(scores)}')"
      ]
    },
    {
      "cell_type": "code",
      "execution_count": 96,
      "metadata": {
        "id": "a1xVlZcQagjt"
      },
      "outputs": [],
      "source": [
        "y_pred_tree_norm = cross_val_predict(clfTree_norm, X_test, y_test, cv=5)"
      ]
    },
    {
      "cell_type": "code",
      "execution_count": 97,
      "metadata": {},
      "outputs": [
        {
          "name": "stdout",
          "output_type": "stream",
          "text": [
            "Confusion Matrix for decision tree without optimzation:\n",
            " [[12  9]\n",
            " [ 4 66]]\n"
          ]
        }
      ],
      "source": [
        "conf_matrix_tree_norm = confusion_matrix(y_test, y_pred_tree_norm)\n",
        "print('Confusion Matrix for decision tree without optimzation:\\n', conf_matrix_tree_norm)"
      ]
    },
    {
      "cell_type": "code",
      "execution_count": 98,
      "metadata": {},
      "outputs": [
        {
          "name": "stdout",
          "output_type": "stream",
          "text": [
            "Classification report for decision tree without optimzation:\n",
            "               precision    recall  f1-score   support\n",
            "\n",
            "           0       0.75      0.57      0.65        21\n",
            "           1       0.88      0.94      0.91        70\n",
            "\n",
            "    accuracy                           0.86        91\n",
            "   macro avg       0.81      0.76      0.78        91\n",
            "weighted avg       0.85      0.86      0.85        91\n",
            "\n"
          ]
        }
      ],
      "source": [
        "class_report_tree_norm = classification_report(y_test, y_pred_tree_norm)\n",
        "print('Classification report for decision tree without optimzation:\\n', class_report_tree_norm)"
      ]
    },
    {
      "cell_type": "code",
      "execution_count": 99,
      "metadata": {},
      "outputs": [
        {
          "name": "stdout",
          "output_type": "stream",
          "text": [
            "F1-Score: 0.8499534016775396\n"
          ]
        }
      ],
      "source": [
        "print('F1-Score:', f1_score(y_test, y_pred_tree_norm, average='weighted'))"
      ]
    },
    {
      "cell_type": "markdown",
      "metadata": {},
      "source": [
        "## Optimizing"
      ]
    },
    {
      "cell_type": "code",
      "execution_count": 100,
      "metadata": {
        "id": "GwrwW2OWuitd"
      },
      "outputs": [
        {
          "data": {
            "text/html": [
              "<style>#sk-container-id-4 {\n",
              "  /* Definition of color scheme common for light and dark mode */\n",
              "  --sklearn-color-text: black;\n",
              "  --sklearn-color-line: gray;\n",
              "  /* Definition of color scheme for unfitted estimators */\n",
              "  --sklearn-color-unfitted-level-0: #fff5e6;\n",
              "  --sklearn-color-unfitted-level-1: #f6e4d2;\n",
              "  --sklearn-color-unfitted-level-2: #ffe0b3;\n",
              "  --sklearn-color-unfitted-level-3: chocolate;\n",
              "  /* Definition of color scheme for fitted estimators */\n",
              "  --sklearn-color-fitted-level-0: #f0f8ff;\n",
              "  --sklearn-color-fitted-level-1: #d4ebff;\n",
              "  --sklearn-color-fitted-level-2: #b3dbfd;\n",
              "  --sklearn-color-fitted-level-3: cornflowerblue;\n",
              "\n",
              "  /* Specific color for light theme */\n",
              "  --sklearn-color-text-on-default-background: var(--sg-text-color, var(--theme-code-foreground, var(--jp-content-font-color1, black)));\n",
              "  --sklearn-color-background: var(--sg-background-color, var(--theme-background, var(--jp-layout-color0, white)));\n",
              "  --sklearn-color-border-box: var(--sg-text-color, var(--theme-code-foreground, var(--jp-content-font-color1, black)));\n",
              "  --sklearn-color-icon: #696969;\n",
              "\n",
              "  @media (prefers-color-scheme: dark) {\n",
              "    /* Redefinition of color scheme for dark theme */\n",
              "    --sklearn-color-text-on-default-background: var(--sg-text-color, var(--theme-code-foreground, var(--jp-content-font-color1, white)));\n",
              "    --sklearn-color-background: var(--sg-background-color, var(--theme-background, var(--jp-layout-color0, #111)));\n",
              "    --sklearn-color-border-box: var(--sg-text-color, var(--theme-code-foreground, var(--jp-content-font-color1, white)));\n",
              "    --sklearn-color-icon: #878787;\n",
              "  }\n",
              "}\n",
              "\n",
              "#sk-container-id-4 {\n",
              "  color: var(--sklearn-color-text);\n",
              "}\n",
              "\n",
              "#sk-container-id-4 pre {\n",
              "  padding: 0;\n",
              "}\n",
              "\n",
              "#sk-container-id-4 input.sk-hidden--visually {\n",
              "  border: 0;\n",
              "  clip: rect(1px 1px 1px 1px);\n",
              "  clip: rect(1px, 1px, 1px, 1px);\n",
              "  height: 1px;\n",
              "  margin: -1px;\n",
              "  overflow: hidden;\n",
              "  padding: 0;\n",
              "  position: absolute;\n",
              "  width: 1px;\n",
              "}\n",
              "\n",
              "#sk-container-id-4 div.sk-dashed-wrapped {\n",
              "  border: 1px dashed var(--sklearn-color-line);\n",
              "  margin: 0 0.4em 0.5em 0.4em;\n",
              "  box-sizing: border-box;\n",
              "  padding-bottom: 0.4em;\n",
              "  background-color: var(--sklearn-color-background);\n",
              "}\n",
              "\n",
              "#sk-container-id-4 div.sk-container {\n",
              "  /* jupyter's `normalize.less` sets `[hidden] { display: none; }`\n",
              "     but bootstrap.min.css set `[hidden] { display: none !important; }`\n",
              "     so we also need the `!important` here to be able to override the\n",
              "     default hidden behavior on the sphinx rendered scikit-learn.org.\n",
              "     See: https://github.com/scikit-learn/scikit-learn/issues/21755 */\n",
              "  display: inline-block !important;\n",
              "  position: relative;\n",
              "}\n",
              "\n",
              "#sk-container-id-4 div.sk-text-repr-fallback {\n",
              "  display: none;\n",
              "}\n",
              "\n",
              "div.sk-parallel-item,\n",
              "div.sk-serial,\n",
              "div.sk-item {\n",
              "  /* draw centered vertical line to link estimators */\n",
              "  background-image: linear-gradient(var(--sklearn-color-text-on-default-background), var(--sklearn-color-text-on-default-background));\n",
              "  background-size: 2px 100%;\n",
              "  background-repeat: no-repeat;\n",
              "  background-position: center center;\n",
              "}\n",
              "\n",
              "/* Parallel-specific style estimator block */\n",
              "\n",
              "#sk-container-id-4 div.sk-parallel-item::after {\n",
              "  content: \"\";\n",
              "  width: 100%;\n",
              "  border-bottom: 2px solid var(--sklearn-color-text-on-default-background);\n",
              "  flex-grow: 1;\n",
              "}\n",
              "\n",
              "#sk-container-id-4 div.sk-parallel {\n",
              "  display: flex;\n",
              "  align-items: stretch;\n",
              "  justify-content: center;\n",
              "  background-color: var(--sklearn-color-background);\n",
              "  position: relative;\n",
              "}\n",
              "\n",
              "#sk-container-id-4 div.sk-parallel-item {\n",
              "  display: flex;\n",
              "  flex-direction: column;\n",
              "}\n",
              "\n",
              "#sk-container-id-4 div.sk-parallel-item:first-child::after {\n",
              "  align-self: flex-end;\n",
              "  width: 50%;\n",
              "}\n",
              "\n",
              "#sk-container-id-4 div.sk-parallel-item:last-child::after {\n",
              "  align-self: flex-start;\n",
              "  width: 50%;\n",
              "}\n",
              "\n",
              "#sk-container-id-4 div.sk-parallel-item:only-child::after {\n",
              "  width: 0;\n",
              "}\n",
              "\n",
              "/* Serial-specific style estimator block */\n",
              "\n",
              "#sk-container-id-4 div.sk-serial {\n",
              "  display: flex;\n",
              "  flex-direction: column;\n",
              "  align-items: center;\n",
              "  background-color: var(--sklearn-color-background);\n",
              "  padding-right: 1em;\n",
              "  padding-left: 1em;\n",
              "}\n",
              "\n",
              "\n",
              "/* Toggleable style: style used for estimator/Pipeline/ColumnTransformer box that is\n",
              "clickable and can be expanded/collapsed.\n",
              "- Pipeline and ColumnTransformer use this feature and define the default style\n",
              "- Estimators will overwrite some part of the style using the `sk-estimator` class\n",
              "*/\n",
              "\n",
              "/* Pipeline and ColumnTransformer style (default) */\n",
              "\n",
              "#sk-container-id-4 div.sk-toggleable {\n",
              "  /* Default theme specific background. It is overwritten whether we have a\n",
              "  specific estimator or a Pipeline/ColumnTransformer */\n",
              "  background-color: var(--sklearn-color-background);\n",
              "}\n",
              "\n",
              "/* Toggleable label */\n",
              "#sk-container-id-4 label.sk-toggleable__label {\n",
              "  cursor: pointer;\n",
              "  display: block;\n",
              "  width: 100%;\n",
              "  margin-bottom: 0;\n",
              "  padding: 0.5em;\n",
              "  box-sizing: border-box;\n",
              "  text-align: center;\n",
              "}\n",
              "\n",
              "#sk-container-id-4 label.sk-toggleable__label-arrow:before {\n",
              "  /* Arrow on the left of the label */\n",
              "  content: \"▸\";\n",
              "  float: left;\n",
              "  margin-right: 0.25em;\n",
              "  color: var(--sklearn-color-icon);\n",
              "}\n",
              "\n",
              "#sk-container-id-4 label.sk-toggleable__label-arrow:hover:before {\n",
              "  color: var(--sklearn-color-text);\n",
              "}\n",
              "\n",
              "/* Toggleable content - dropdown */\n",
              "\n",
              "#sk-container-id-4 div.sk-toggleable__content {\n",
              "  max-height: 0;\n",
              "  max-width: 0;\n",
              "  overflow: hidden;\n",
              "  text-align: left;\n",
              "  /* unfitted */\n",
              "  background-color: var(--sklearn-color-unfitted-level-0);\n",
              "}\n",
              "\n",
              "#sk-container-id-4 div.sk-toggleable__content.fitted {\n",
              "  /* fitted */\n",
              "  background-color: var(--sklearn-color-fitted-level-0);\n",
              "}\n",
              "\n",
              "#sk-container-id-4 div.sk-toggleable__content pre {\n",
              "  margin: 0.2em;\n",
              "  border-radius: 0.25em;\n",
              "  color: var(--sklearn-color-text);\n",
              "  /* unfitted */\n",
              "  background-color: var(--sklearn-color-unfitted-level-0);\n",
              "}\n",
              "\n",
              "#sk-container-id-4 div.sk-toggleable__content.fitted pre {\n",
              "  /* unfitted */\n",
              "  background-color: var(--sklearn-color-fitted-level-0);\n",
              "}\n",
              "\n",
              "#sk-container-id-4 input.sk-toggleable__control:checked~div.sk-toggleable__content {\n",
              "  /* Expand drop-down */\n",
              "  max-height: 200px;\n",
              "  max-width: 100%;\n",
              "  overflow: auto;\n",
              "}\n",
              "\n",
              "#sk-container-id-4 input.sk-toggleable__control:checked~label.sk-toggleable__label-arrow:before {\n",
              "  content: \"▾\";\n",
              "}\n",
              "\n",
              "/* Pipeline/ColumnTransformer-specific style */\n",
              "\n",
              "#sk-container-id-4 div.sk-label input.sk-toggleable__control:checked~label.sk-toggleable__label {\n",
              "  color: var(--sklearn-color-text);\n",
              "  background-color: var(--sklearn-color-unfitted-level-2);\n",
              "}\n",
              "\n",
              "#sk-container-id-4 div.sk-label.fitted input.sk-toggleable__control:checked~label.sk-toggleable__label {\n",
              "  background-color: var(--sklearn-color-fitted-level-2);\n",
              "}\n",
              "\n",
              "/* Estimator-specific style */\n",
              "\n",
              "/* Colorize estimator box */\n",
              "#sk-container-id-4 div.sk-estimator input.sk-toggleable__control:checked~label.sk-toggleable__label {\n",
              "  /* unfitted */\n",
              "  background-color: var(--sklearn-color-unfitted-level-2);\n",
              "}\n",
              "\n",
              "#sk-container-id-4 div.sk-estimator.fitted input.sk-toggleable__control:checked~label.sk-toggleable__label {\n",
              "  /* fitted */\n",
              "  background-color: var(--sklearn-color-fitted-level-2);\n",
              "}\n",
              "\n",
              "#sk-container-id-4 div.sk-label label.sk-toggleable__label,\n",
              "#sk-container-id-4 div.sk-label label {\n",
              "  /* The background is the default theme color */\n",
              "  color: var(--sklearn-color-text-on-default-background);\n",
              "}\n",
              "\n",
              "/* On hover, darken the color of the background */\n",
              "#sk-container-id-4 div.sk-label:hover label.sk-toggleable__label {\n",
              "  color: var(--sklearn-color-text);\n",
              "  background-color: var(--sklearn-color-unfitted-level-2);\n",
              "}\n",
              "\n",
              "/* Label box, darken color on hover, fitted */\n",
              "#sk-container-id-4 div.sk-label.fitted:hover label.sk-toggleable__label.fitted {\n",
              "  color: var(--sklearn-color-text);\n",
              "  background-color: var(--sklearn-color-fitted-level-2);\n",
              "}\n",
              "\n",
              "/* Estimator label */\n",
              "\n",
              "#sk-container-id-4 div.sk-label label {\n",
              "  font-family: monospace;\n",
              "  font-weight: bold;\n",
              "  display: inline-block;\n",
              "  line-height: 1.2em;\n",
              "}\n",
              "\n",
              "#sk-container-id-4 div.sk-label-container {\n",
              "  text-align: center;\n",
              "}\n",
              "\n",
              "/* Estimator-specific */\n",
              "#sk-container-id-4 div.sk-estimator {\n",
              "  font-family: monospace;\n",
              "  border: 1px dotted var(--sklearn-color-border-box);\n",
              "  border-radius: 0.25em;\n",
              "  box-sizing: border-box;\n",
              "  margin-bottom: 0.5em;\n",
              "  /* unfitted */\n",
              "  background-color: var(--sklearn-color-unfitted-level-0);\n",
              "}\n",
              "\n",
              "#sk-container-id-4 div.sk-estimator.fitted {\n",
              "  /* fitted */\n",
              "  background-color: var(--sklearn-color-fitted-level-0);\n",
              "}\n",
              "\n",
              "/* on hover */\n",
              "#sk-container-id-4 div.sk-estimator:hover {\n",
              "  /* unfitted */\n",
              "  background-color: var(--sklearn-color-unfitted-level-2);\n",
              "}\n",
              "\n",
              "#sk-container-id-4 div.sk-estimator.fitted:hover {\n",
              "  /* fitted */\n",
              "  background-color: var(--sklearn-color-fitted-level-2);\n",
              "}\n",
              "\n",
              "/* Specification for estimator info (e.g. \"i\" and \"?\") */\n",
              "\n",
              "/* Common style for \"i\" and \"?\" */\n",
              "\n",
              ".sk-estimator-doc-link,\n",
              "a:link.sk-estimator-doc-link,\n",
              "a:visited.sk-estimator-doc-link {\n",
              "  float: right;\n",
              "  font-size: smaller;\n",
              "  line-height: 1em;\n",
              "  font-family: monospace;\n",
              "  background-color: var(--sklearn-color-background);\n",
              "  border-radius: 1em;\n",
              "  height: 1em;\n",
              "  width: 1em;\n",
              "  text-decoration: none !important;\n",
              "  margin-left: 1ex;\n",
              "  /* unfitted */\n",
              "  border: var(--sklearn-color-unfitted-level-1) 1pt solid;\n",
              "  color: var(--sklearn-color-unfitted-level-1);\n",
              "}\n",
              "\n",
              ".sk-estimator-doc-link.fitted,\n",
              "a:link.sk-estimator-doc-link.fitted,\n",
              "a:visited.sk-estimator-doc-link.fitted {\n",
              "  /* fitted */\n",
              "  border: var(--sklearn-color-fitted-level-1) 1pt solid;\n",
              "  color: var(--sklearn-color-fitted-level-1);\n",
              "}\n",
              "\n",
              "/* On hover */\n",
              "div.sk-estimator:hover .sk-estimator-doc-link:hover,\n",
              ".sk-estimator-doc-link:hover,\n",
              "div.sk-label-container:hover .sk-estimator-doc-link:hover,\n",
              ".sk-estimator-doc-link:hover {\n",
              "  /* unfitted */\n",
              "  background-color: var(--sklearn-color-unfitted-level-3);\n",
              "  color: var(--sklearn-color-background);\n",
              "  text-decoration: none;\n",
              "}\n",
              "\n",
              "div.sk-estimator.fitted:hover .sk-estimator-doc-link.fitted:hover,\n",
              ".sk-estimator-doc-link.fitted:hover,\n",
              "div.sk-label-container:hover .sk-estimator-doc-link.fitted:hover,\n",
              ".sk-estimator-doc-link.fitted:hover {\n",
              "  /* fitted */\n",
              "  background-color: var(--sklearn-color-fitted-level-3);\n",
              "  color: var(--sklearn-color-background);\n",
              "  text-decoration: none;\n",
              "}\n",
              "\n",
              "/* Span, style for the box shown on hovering the info icon */\n",
              ".sk-estimator-doc-link span {\n",
              "  display: none;\n",
              "  z-index: 9999;\n",
              "  position: relative;\n",
              "  font-weight: normal;\n",
              "  right: .2ex;\n",
              "  padding: .5ex;\n",
              "  margin: .5ex;\n",
              "  width: min-content;\n",
              "  min-width: 20ex;\n",
              "  max-width: 50ex;\n",
              "  color: var(--sklearn-color-text);\n",
              "  box-shadow: 2pt 2pt 4pt #999;\n",
              "  /* unfitted */\n",
              "  background: var(--sklearn-color-unfitted-level-0);\n",
              "  border: .5pt solid var(--sklearn-color-unfitted-level-3);\n",
              "}\n",
              "\n",
              ".sk-estimator-doc-link.fitted span {\n",
              "  /* fitted */\n",
              "  background: var(--sklearn-color-fitted-level-0);\n",
              "  border: var(--sklearn-color-fitted-level-3);\n",
              "}\n",
              "\n",
              ".sk-estimator-doc-link:hover span {\n",
              "  display: block;\n",
              "}\n",
              "\n",
              "/* \"?\"-specific style due to the `<a>` HTML tag */\n",
              "\n",
              "#sk-container-id-4 a.estimator_doc_link {\n",
              "  float: right;\n",
              "  font-size: 1rem;\n",
              "  line-height: 1em;\n",
              "  font-family: monospace;\n",
              "  background-color: var(--sklearn-color-background);\n",
              "  border-radius: 1rem;\n",
              "  height: 1rem;\n",
              "  width: 1rem;\n",
              "  text-decoration: none;\n",
              "  /* unfitted */\n",
              "  color: var(--sklearn-color-unfitted-level-1);\n",
              "  border: var(--sklearn-color-unfitted-level-1) 1pt solid;\n",
              "}\n",
              "\n",
              "#sk-container-id-4 a.estimator_doc_link.fitted {\n",
              "  /* fitted */\n",
              "  border: var(--sklearn-color-fitted-level-1) 1pt solid;\n",
              "  color: var(--sklearn-color-fitted-level-1);\n",
              "}\n",
              "\n",
              "/* On hover */\n",
              "#sk-container-id-4 a.estimator_doc_link:hover {\n",
              "  /* unfitted */\n",
              "  background-color: var(--sklearn-color-unfitted-level-3);\n",
              "  color: var(--sklearn-color-background);\n",
              "  text-decoration: none;\n",
              "}\n",
              "\n",
              "#sk-container-id-4 a.estimator_doc_link.fitted:hover {\n",
              "  /* fitted */\n",
              "  background-color: var(--sklearn-color-fitted-level-3);\n",
              "}\n",
              "</style><div id=\"sk-container-id-4\" class=\"sk-top-container\"><div class=\"sk-text-repr-fallback\"><pre>RandomizedSearchCV(cv=5, estimator=DecisionTreeClassifier(random_state=42),\n",
              "                   n_iter=100, n_jobs=-1,\n",
              "                   param_distributions={&#x27;criterion&#x27;: [&#x27;gini&#x27;, &#x27;entropy&#x27;],\n",
              "                                        &#x27;max_depth&#x27;: [None, 1, 2, 3, 4, 5, 6, 7,\n",
              "                                                      8, 9, 10, 11, 12, 13, 14,\n",
              "                                                      15, 16, 17, 18, 19],\n",
              "                                        &#x27;min_samples_leaf&#x27;: array([ 1,  2,  3,  4,  5,  6,  7,  8,  9, 10, 11, 12, 13, 14, 15, 16, 17,\n",
              "       18, 19]),\n",
              "                                        &#x27;min_samples_split&#x27;: array([ 2,  3,  4,  5,  6,  7,  8,  9, 10, 11, 12, 13, 14, 15, 16, 17, 18,\n",
              "       19]),\n",
              "                                        &#x27;splitter&#x27;: [&#x27;best&#x27;, &#x27;random&#x27;]},\n",
              "                   random_state=42, scoring=&#x27;f1_macro&#x27;)</pre><b>In a Jupyter environment, please rerun this cell to show the HTML representation or trust the notebook. <br />On GitHub, the HTML representation is unable to render, please try loading this page with nbviewer.org.</b></div><div class=\"sk-container\" hidden><div class=\"sk-item sk-dashed-wrapped\"><div class=\"sk-label-container\"><div class=\"sk-label fitted sk-toggleable\"><input class=\"sk-toggleable__control sk-hidden--visually\" id=\"sk-estimator-id-10\" type=\"checkbox\" ><label for=\"sk-estimator-id-10\" class=\"sk-toggleable__label fitted sk-toggleable__label-arrow fitted\">&nbsp;&nbsp;RandomizedSearchCV<a class=\"sk-estimator-doc-link fitted\" rel=\"noreferrer\" target=\"_blank\" href=\"https://scikit-learn.org/1.5/modules/generated/sklearn.model_selection.RandomizedSearchCV.html\">?<span>Documentation for RandomizedSearchCV</span></a><span class=\"sk-estimator-doc-link fitted\">i<span>Fitted</span></span></label><div class=\"sk-toggleable__content fitted\"><pre>RandomizedSearchCV(cv=5, estimator=DecisionTreeClassifier(random_state=42),\n",
              "                   n_iter=100, n_jobs=-1,\n",
              "                   param_distributions={&#x27;criterion&#x27;: [&#x27;gini&#x27;, &#x27;entropy&#x27;],\n",
              "                                        &#x27;max_depth&#x27;: [None, 1, 2, 3, 4, 5, 6, 7,\n",
              "                                                      8, 9, 10, 11, 12, 13, 14,\n",
              "                                                      15, 16, 17, 18, 19],\n",
              "                                        &#x27;min_samples_leaf&#x27;: array([ 1,  2,  3,  4,  5,  6,  7,  8,  9, 10, 11, 12, 13, 14, 15, 16, 17,\n",
              "       18, 19]),\n",
              "                                        &#x27;min_samples_split&#x27;: array([ 2,  3,  4,  5,  6,  7,  8,  9, 10, 11, 12, 13, 14, 15, 16, 17, 18,\n",
              "       19]),\n",
              "                                        &#x27;splitter&#x27;: [&#x27;best&#x27;, &#x27;random&#x27;]},\n",
              "                   random_state=42, scoring=&#x27;f1_macro&#x27;)</pre></div> </div></div><div class=\"sk-parallel\"><div class=\"sk-parallel-item\"><div class=\"sk-item\"><div class=\"sk-label-container\"><div class=\"sk-label fitted sk-toggleable\"><input class=\"sk-toggleable__control sk-hidden--visually\" id=\"sk-estimator-id-11\" type=\"checkbox\" ><label for=\"sk-estimator-id-11\" class=\"sk-toggleable__label fitted sk-toggleable__label-arrow fitted\">best_estimator_: DecisionTreeClassifier</label><div class=\"sk-toggleable__content fitted\"><pre>DecisionTreeClassifier(max_depth=16, min_samples_leaf=12, min_samples_split=13,\n",
              "                       random_state=42, splitter=&#x27;random&#x27;)</pre></div> </div></div><div class=\"sk-serial\"><div class=\"sk-item\"><div class=\"sk-estimator fitted sk-toggleable\"><input class=\"sk-toggleable__control sk-hidden--visually\" id=\"sk-estimator-id-12\" type=\"checkbox\" ><label for=\"sk-estimator-id-12\" class=\"sk-toggleable__label fitted sk-toggleable__label-arrow fitted\">&nbsp;DecisionTreeClassifier<a class=\"sk-estimator-doc-link fitted\" rel=\"noreferrer\" target=\"_blank\" href=\"https://scikit-learn.org/1.5/modules/generated/sklearn.tree.DecisionTreeClassifier.html\">?<span>Documentation for DecisionTreeClassifier</span></a></label><div class=\"sk-toggleable__content fitted\"><pre>DecisionTreeClassifier(max_depth=16, min_samples_leaf=12, min_samples_split=13,\n",
              "                       random_state=42, splitter=&#x27;random&#x27;)</pre></div> </div></div></div></div></div></div></div></div></div>"
            ],
            "text/plain": [
              "RandomizedSearchCV(cv=5, estimator=DecisionTreeClassifier(random_state=42),\n",
              "                   n_iter=100, n_jobs=-1,\n",
              "                   param_distributions={'criterion': ['gini', 'entropy'],\n",
              "                                        'max_depth': [None, 1, 2, 3, 4, 5, 6, 7,\n",
              "                                                      8, 9, 10, 11, 12, 13, 14,\n",
              "                                                      15, 16, 17, 18, 19],\n",
              "                                        'min_samples_leaf': array([ 1,  2,  3,  4,  5,  6,  7,  8,  9, 10, 11, 12, 13, 14, 15, 16, 17,\n",
              "       18, 19]),\n",
              "                                        'min_samples_split': array([ 2,  3,  4,  5,  6,  7,  8,  9, 10, 11, 12, 13, 14, 15, 16, 17, 18,\n",
              "       19]),\n",
              "                                        'splitter': ['best', 'random']},\n",
              "                   random_state=42, scoring='f1_macro')"
            ]
          },
          "execution_count": 100,
          "metadata": {},
          "output_type": "execute_result"
        }
      ],
      "source": [
        "clfTree_opt = DecisionTreeClassifier(random_state=42)\n",
        "\n",
        "param_dist = {\n",
        "    'max_depth': [None] + list(np.arange(1, 20)),\n",
        "    'min_samples_split': np.arange(2, 20),\n",
        "    'min_samples_leaf': np.arange(1, 20),\n",
        "    'criterion': ['gini', 'entropy'],\n",
        "    'splitter': ['best', 'random']\n",
        "}\n",
        "\n",
        "random_search_tree = RandomizedSearchCV(clfTree_opt, param_distributions=param_dist, n_iter=100, scoring='f1_macro', cv=5, random_state=42, n_jobs=-1)\n",
        "random_search_tree.fit(X_train, y_train)"
      ]
    },
    {
      "cell_type": "code",
      "execution_count": 101,
      "metadata": {},
      "outputs": [
        {
          "name": "stdout",
          "output_type": "stream",
          "text": [
            "Mejores hiperparámetros encontrados decision tree: {'splitter': 'random', 'min_samples_split': 13, 'min_samples_leaf': 12, 'max_depth': 16, 'criterion': 'gini'}\n"
          ]
        }
      ],
      "source": [
        "print(\"Mejores hiperparámetros encontrados decision tree:\", random_search_tree.best_params_)"
      ]
    },
    {
      "cell_type": "code",
      "execution_count": 102,
      "metadata": {},
      "outputs": [
        {
          "name": "stdout",
          "output_type": "stream",
          "text": [
            "F1 Macro Scores: [0.94362934 0.8459893  0.96296296 0.96296296 0.94103194]\n",
            "Media F1 Macro Score: 0.931315303080009\n"
          ]
        }
      ],
      "source": [
        "best_clfTree = random_search_tree.best_estimator_\n",
        "scores = cross_val_score(best_clfTree, X_train, y_train, cv=5, scoring='f1_macro')\n",
        "print(\"F1 Macro Scores:\", scores)\n",
        "print(\"Media F1 Macro Score:\", np.mean(scores))"
      ]
    },
    {
      "cell_type": "code",
      "execution_count": 103,
      "metadata": {},
      "outputs": [],
      "source": [
        "y_pred_tree_opt = cross_val_predict(best_clfTree, X_test, y_test, cv=5)"
      ]
    },
    {
      "cell_type": "code",
      "execution_count": 104,
      "metadata": {},
      "outputs": [
        {
          "name": "stdout",
          "output_type": "stream",
          "text": [
            "Confusion Matrix for decision tree with optimzation:\n",
            " [[12  9]\n",
            " [ 3 67]]\n"
          ]
        }
      ],
      "source": [
        "conf_matrix_tree_opt = confusion_matrix(y_test, y_pred_tree_opt)\n",
        "print('Confusion Matrix for decision tree with optimzation:\\n', conf_matrix_tree_opt)"
      ]
    },
    {
      "cell_type": "code",
      "execution_count": 105,
      "metadata": {},
      "outputs": [
        {
          "name": "stdout",
          "output_type": "stream",
          "text": [
            "Classification report for decision tree with optimzation:\n",
            "               precision    recall  f1-score   support\n",
            "\n",
            "           0       0.80      0.57      0.67        21\n",
            "           1       0.88      0.96      0.92        70\n",
            "\n",
            "    accuracy                           0.87        91\n",
            "   macro avg       0.84      0.76      0.79        91\n",
            "weighted avg       0.86      0.87      0.86        91\n",
            "\n"
          ]
        }
      ],
      "source": [
        "class_report_tree_opt = classification_report(y_test, y_pred_tree_opt)\n",
        "print('Classification report for decision tree with optimzation:\\n', class_report_tree_opt)"
      ]
    },
    {
      "cell_type": "code",
      "execution_count": 106,
      "metadata": {},
      "outputs": [
        {
          "name": "stdout",
          "output_type": "stream",
          "text": [
            "F1-Score: 0.8598524762908325\n"
          ]
        }
      ],
      "source": [
        "print('F1-Score:', f1_score(y_test, y_pred_tree_opt, average='weighted'))"
      ]
    },
    {
      "cell_type": "markdown",
      "metadata": {},
      "source": [
        "# Random Forest"
      ]
    },
    {
      "cell_type": "code",
      "execution_count": 107,
      "metadata": {
        "id": "Ko5ODjtEagjt"
      },
      "outputs": [
        {
          "name": "stdout",
          "output_type": "stream",
          "text": [
            "Cross-validation scores: [0.94569799 0.92299465 0.96296296 0.92299465 0.96296296]\n",
            "Average cross-validation score: 0.9435226444616622\n"
          ]
        }
      ],
      "source": [
        "clfForest_norm = RandomForestClassifier(random_state=42)\n",
        "scores = cross_val_score(clfForest_norm, X_train, y_train, cv=5, scoring='f1_macro')\n",
        "print(f'Cross-validation scores: {scores}')\n",
        "print(f'Average cross-validation score: {np.mean(scores)}')"
      ]
    },
    {
      "cell_type": "code",
      "execution_count": 108,
      "metadata": {},
      "outputs": [],
      "source": [
        "y_pred_forest_norm = cross_val_predict(clfForest_norm, X_test, y_test, cv=5)"
      ]
    },
    {
      "cell_type": "code",
      "execution_count": 109,
      "metadata": {},
      "outputs": [
        {
          "name": "stdout",
          "output_type": "stream",
          "text": [
            "Confusion Matrix for random forest without optimzation:\n",
            " [[17  4]\n",
            " [ 0 70]]\n"
          ]
        }
      ],
      "source": [
        "conf_matrix_forest_norm = confusion_matrix(y_test, y_pred_forest_norm)\n",
        "print('Confusion Matrix for random forest without optimzation:\\n', conf_matrix_forest_norm)"
      ]
    },
    {
      "cell_type": "code",
      "execution_count": 110,
      "metadata": {},
      "outputs": [
        {
          "name": "stdout",
          "output_type": "stream",
          "text": [
            "Classification report for random forest without optimzation:\n",
            "               precision    recall  f1-score   support\n",
            "\n",
            "           0       1.00      0.81      0.89        21\n",
            "           1       0.95      1.00      0.97        70\n",
            "\n",
            "    accuracy                           0.96        91\n",
            "   macro avg       0.97      0.90      0.93        91\n",
            "weighted avg       0.96      0.96      0.95        91\n",
            "\n"
          ]
        }
      ],
      "source": [
        "class_report_forest_norm = classification_report(y_test, y_pred_forest_norm)\n",
        "print('Classification report for random forest without optimzation:\\n', class_report_forest_norm)"
      ]
    },
    {
      "cell_type": "code",
      "execution_count": 111,
      "metadata": {},
      "outputs": [
        {
          "name": "stdout",
          "output_type": "stream",
          "text": [
            "F1-Score: 0.9543409806567702\n"
          ]
        }
      ],
      "source": [
        "print('F1-Score:', f1_score(y_test, y_pred_forest_norm, average='weighted'))"
      ]
    },
    {
      "cell_type": "markdown",
      "metadata": {},
      "source": [
        "## Optimizing"
      ]
    },
    {
      "cell_type": "code",
      "execution_count": 112,
      "metadata": {
        "id": "iViFCP1bvtVh"
      },
      "outputs": [
        {
          "data": {
            "text/html": [
              "<style>#sk-container-id-5 {\n",
              "  /* Definition of color scheme common for light and dark mode */\n",
              "  --sklearn-color-text: black;\n",
              "  --sklearn-color-line: gray;\n",
              "  /* Definition of color scheme for unfitted estimators */\n",
              "  --sklearn-color-unfitted-level-0: #fff5e6;\n",
              "  --sklearn-color-unfitted-level-1: #f6e4d2;\n",
              "  --sklearn-color-unfitted-level-2: #ffe0b3;\n",
              "  --sklearn-color-unfitted-level-3: chocolate;\n",
              "  /* Definition of color scheme for fitted estimators */\n",
              "  --sklearn-color-fitted-level-0: #f0f8ff;\n",
              "  --sklearn-color-fitted-level-1: #d4ebff;\n",
              "  --sklearn-color-fitted-level-2: #b3dbfd;\n",
              "  --sklearn-color-fitted-level-3: cornflowerblue;\n",
              "\n",
              "  /* Specific color for light theme */\n",
              "  --sklearn-color-text-on-default-background: var(--sg-text-color, var(--theme-code-foreground, var(--jp-content-font-color1, black)));\n",
              "  --sklearn-color-background: var(--sg-background-color, var(--theme-background, var(--jp-layout-color0, white)));\n",
              "  --sklearn-color-border-box: var(--sg-text-color, var(--theme-code-foreground, var(--jp-content-font-color1, black)));\n",
              "  --sklearn-color-icon: #696969;\n",
              "\n",
              "  @media (prefers-color-scheme: dark) {\n",
              "    /* Redefinition of color scheme for dark theme */\n",
              "    --sklearn-color-text-on-default-background: var(--sg-text-color, var(--theme-code-foreground, var(--jp-content-font-color1, white)));\n",
              "    --sklearn-color-background: var(--sg-background-color, var(--theme-background, var(--jp-layout-color0, #111)));\n",
              "    --sklearn-color-border-box: var(--sg-text-color, var(--theme-code-foreground, var(--jp-content-font-color1, white)));\n",
              "    --sklearn-color-icon: #878787;\n",
              "  }\n",
              "}\n",
              "\n",
              "#sk-container-id-5 {\n",
              "  color: var(--sklearn-color-text);\n",
              "}\n",
              "\n",
              "#sk-container-id-5 pre {\n",
              "  padding: 0;\n",
              "}\n",
              "\n",
              "#sk-container-id-5 input.sk-hidden--visually {\n",
              "  border: 0;\n",
              "  clip: rect(1px 1px 1px 1px);\n",
              "  clip: rect(1px, 1px, 1px, 1px);\n",
              "  height: 1px;\n",
              "  margin: -1px;\n",
              "  overflow: hidden;\n",
              "  padding: 0;\n",
              "  position: absolute;\n",
              "  width: 1px;\n",
              "}\n",
              "\n",
              "#sk-container-id-5 div.sk-dashed-wrapped {\n",
              "  border: 1px dashed var(--sklearn-color-line);\n",
              "  margin: 0 0.4em 0.5em 0.4em;\n",
              "  box-sizing: border-box;\n",
              "  padding-bottom: 0.4em;\n",
              "  background-color: var(--sklearn-color-background);\n",
              "}\n",
              "\n",
              "#sk-container-id-5 div.sk-container {\n",
              "  /* jupyter's `normalize.less` sets `[hidden] { display: none; }`\n",
              "     but bootstrap.min.css set `[hidden] { display: none !important; }`\n",
              "     so we also need the `!important` here to be able to override the\n",
              "     default hidden behavior on the sphinx rendered scikit-learn.org.\n",
              "     See: https://github.com/scikit-learn/scikit-learn/issues/21755 */\n",
              "  display: inline-block !important;\n",
              "  position: relative;\n",
              "}\n",
              "\n",
              "#sk-container-id-5 div.sk-text-repr-fallback {\n",
              "  display: none;\n",
              "}\n",
              "\n",
              "div.sk-parallel-item,\n",
              "div.sk-serial,\n",
              "div.sk-item {\n",
              "  /* draw centered vertical line to link estimators */\n",
              "  background-image: linear-gradient(var(--sklearn-color-text-on-default-background), var(--sklearn-color-text-on-default-background));\n",
              "  background-size: 2px 100%;\n",
              "  background-repeat: no-repeat;\n",
              "  background-position: center center;\n",
              "}\n",
              "\n",
              "/* Parallel-specific style estimator block */\n",
              "\n",
              "#sk-container-id-5 div.sk-parallel-item::after {\n",
              "  content: \"\";\n",
              "  width: 100%;\n",
              "  border-bottom: 2px solid var(--sklearn-color-text-on-default-background);\n",
              "  flex-grow: 1;\n",
              "}\n",
              "\n",
              "#sk-container-id-5 div.sk-parallel {\n",
              "  display: flex;\n",
              "  align-items: stretch;\n",
              "  justify-content: center;\n",
              "  background-color: var(--sklearn-color-background);\n",
              "  position: relative;\n",
              "}\n",
              "\n",
              "#sk-container-id-5 div.sk-parallel-item {\n",
              "  display: flex;\n",
              "  flex-direction: column;\n",
              "}\n",
              "\n",
              "#sk-container-id-5 div.sk-parallel-item:first-child::after {\n",
              "  align-self: flex-end;\n",
              "  width: 50%;\n",
              "}\n",
              "\n",
              "#sk-container-id-5 div.sk-parallel-item:last-child::after {\n",
              "  align-self: flex-start;\n",
              "  width: 50%;\n",
              "}\n",
              "\n",
              "#sk-container-id-5 div.sk-parallel-item:only-child::after {\n",
              "  width: 0;\n",
              "}\n",
              "\n",
              "/* Serial-specific style estimator block */\n",
              "\n",
              "#sk-container-id-5 div.sk-serial {\n",
              "  display: flex;\n",
              "  flex-direction: column;\n",
              "  align-items: center;\n",
              "  background-color: var(--sklearn-color-background);\n",
              "  padding-right: 1em;\n",
              "  padding-left: 1em;\n",
              "}\n",
              "\n",
              "\n",
              "/* Toggleable style: style used for estimator/Pipeline/ColumnTransformer box that is\n",
              "clickable and can be expanded/collapsed.\n",
              "- Pipeline and ColumnTransformer use this feature and define the default style\n",
              "- Estimators will overwrite some part of the style using the `sk-estimator` class\n",
              "*/\n",
              "\n",
              "/* Pipeline and ColumnTransformer style (default) */\n",
              "\n",
              "#sk-container-id-5 div.sk-toggleable {\n",
              "  /* Default theme specific background. It is overwritten whether we have a\n",
              "  specific estimator or a Pipeline/ColumnTransformer */\n",
              "  background-color: var(--sklearn-color-background);\n",
              "}\n",
              "\n",
              "/* Toggleable label */\n",
              "#sk-container-id-5 label.sk-toggleable__label {\n",
              "  cursor: pointer;\n",
              "  display: block;\n",
              "  width: 100%;\n",
              "  margin-bottom: 0;\n",
              "  padding: 0.5em;\n",
              "  box-sizing: border-box;\n",
              "  text-align: center;\n",
              "}\n",
              "\n",
              "#sk-container-id-5 label.sk-toggleable__label-arrow:before {\n",
              "  /* Arrow on the left of the label */\n",
              "  content: \"▸\";\n",
              "  float: left;\n",
              "  margin-right: 0.25em;\n",
              "  color: var(--sklearn-color-icon);\n",
              "}\n",
              "\n",
              "#sk-container-id-5 label.sk-toggleable__label-arrow:hover:before {\n",
              "  color: var(--sklearn-color-text);\n",
              "}\n",
              "\n",
              "/* Toggleable content - dropdown */\n",
              "\n",
              "#sk-container-id-5 div.sk-toggleable__content {\n",
              "  max-height: 0;\n",
              "  max-width: 0;\n",
              "  overflow: hidden;\n",
              "  text-align: left;\n",
              "  /* unfitted */\n",
              "  background-color: var(--sklearn-color-unfitted-level-0);\n",
              "}\n",
              "\n",
              "#sk-container-id-5 div.sk-toggleable__content.fitted {\n",
              "  /* fitted */\n",
              "  background-color: var(--sklearn-color-fitted-level-0);\n",
              "}\n",
              "\n",
              "#sk-container-id-5 div.sk-toggleable__content pre {\n",
              "  margin: 0.2em;\n",
              "  border-radius: 0.25em;\n",
              "  color: var(--sklearn-color-text);\n",
              "  /* unfitted */\n",
              "  background-color: var(--sklearn-color-unfitted-level-0);\n",
              "}\n",
              "\n",
              "#sk-container-id-5 div.sk-toggleable__content.fitted pre {\n",
              "  /* unfitted */\n",
              "  background-color: var(--sklearn-color-fitted-level-0);\n",
              "}\n",
              "\n",
              "#sk-container-id-5 input.sk-toggleable__control:checked~div.sk-toggleable__content {\n",
              "  /* Expand drop-down */\n",
              "  max-height: 200px;\n",
              "  max-width: 100%;\n",
              "  overflow: auto;\n",
              "}\n",
              "\n",
              "#sk-container-id-5 input.sk-toggleable__control:checked~label.sk-toggleable__label-arrow:before {\n",
              "  content: \"▾\";\n",
              "}\n",
              "\n",
              "/* Pipeline/ColumnTransformer-specific style */\n",
              "\n",
              "#sk-container-id-5 div.sk-label input.sk-toggleable__control:checked~label.sk-toggleable__label {\n",
              "  color: var(--sklearn-color-text);\n",
              "  background-color: var(--sklearn-color-unfitted-level-2);\n",
              "}\n",
              "\n",
              "#sk-container-id-5 div.sk-label.fitted input.sk-toggleable__control:checked~label.sk-toggleable__label {\n",
              "  background-color: var(--sklearn-color-fitted-level-2);\n",
              "}\n",
              "\n",
              "/* Estimator-specific style */\n",
              "\n",
              "/* Colorize estimator box */\n",
              "#sk-container-id-5 div.sk-estimator input.sk-toggleable__control:checked~label.sk-toggleable__label {\n",
              "  /* unfitted */\n",
              "  background-color: var(--sklearn-color-unfitted-level-2);\n",
              "}\n",
              "\n",
              "#sk-container-id-5 div.sk-estimator.fitted input.sk-toggleable__control:checked~label.sk-toggleable__label {\n",
              "  /* fitted */\n",
              "  background-color: var(--sklearn-color-fitted-level-2);\n",
              "}\n",
              "\n",
              "#sk-container-id-5 div.sk-label label.sk-toggleable__label,\n",
              "#sk-container-id-5 div.sk-label label {\n",
              "  /* The background is the default theme color */\n",
              "  color: var(--sklearn-color-text-on-default-background);\n",
              "}\n",
              "\n",
              "/* On hover, darken the color of the background */\n",
              "#sk-container-id-5 div.sk-label:hover label.sk-toggleable__label {\n",
              "  color: var(--sklearn-color-text);\n",
              "  background-color: var(--sklearn-color-unfitted-level-2);\n",
              "}\n",
              "\n",
              "/* Label box, darken color on hover, fitted */\n",
              "#sk-container-id-5 div.sk-label.fitted:hover label.sk-toggleable__label.fitted {\n",
              "  color: var(--sklearn-color-text);\n",
              "  background-color: var(--sklearn-color-fitted-level-2);\n",
              "}\n",
              "\n",
              "/* Estimator label */\n",
              "\n",
              "#sk-container-id-5 div.sk-label label {\n",
              "  font-family: monospace;\n",
              "  font-weight: bold;\n",
              "  display: inline-block;\n",
              "  line-height: 1.2em;\n",
              "}\n",
              "\n",
              "#sk-container-id-5 div.sk-label-container {\n",
              "  text-align: center;\n",
              "}\n",
              "\n",
              "/* Estimator-specific */\n",
              "#sk-container-id-5 div.sk-estimator {\n",
              "  font-family: monospace;\n",
              "  border: 1px dotted var(--sklearn-color-border-box);\n",
              "  border-radius: 0.25em;\n",
              "  box-sizing: border-box;\n",
              "  margin-bottom: 0.5em;\n",
              "  /* unfitted */\n",
              "  background-color: var(--sklearn-color-unfitted-level-0);\n",
              "}\n",
              "\n",
              "#sk-container-id-5 div.sk-estimator.fitted {\n",
              "  /* fitted */\n",
              "  background-color: var(--sklearn-color-fitted-level-0);\n",
              "}\n",
              "\n",
              "/* on hover */\n",
              "#sk-container-id-5 div.sk-estimator:hover {\n",
              "  /* unfitted */\n",
              "  background-color: var(--sklearn-color-unfitted-level-2);\n",
              "}\n",
              "\n",
              "#sk-container-id-5 div.sk-estimator.fitted:hover {\n",
              "  /* fitted */\n",
              "  background-color: var(--sklearn-color-fitted-level-2);\n",
              "}\n",
              "\n",
              "/* Specification for estimator info (e.g. \"i\" and \"?\") */\n",
              "\n",
              "/* Common style for \"i\" and \"?\" */\n",
              "\n",
              ".sk-estimator-doc-link,\n",
              "a:link.sk-estimator-doc-link,\n",
              "a:visited.sk-estimator-doc-link {\n",
              "  float: right;\n",
              "  font-size: smaller;\n",
              "  line-height: 1em;\n",
              "  font-family: monospace;\n",
              "  background-color: var(--sklearn-color-background);\n",
              "  border-radius: 1em;\n",
              "  height: 1em;\n",
              "  width: 1em;\n",
              "  text-decoration: none !important;\n",
              "  margin-left: 1ex;\n",
              "  /* unfitted */\n",
              "  border: var(--sklearn-color-unfitted-level-1) 1pt solid;\n",
              "  color: var(--sklearn-color-unfitted-level-1);\n",
              "}\n",
              "\n",
              ".sk-estimator-doc-link.fitted,\n",
              "a:link.sk-estimator-doc-link.fitted,\n",
              "a:visited.sk-estimator-doc-link.fitted {\n",
              "  /* fitted */\n",
              "  border: var(--sklearn-color-fitted-level-1) 1pt solid;\n",
              "  color: var(--sklearn-color-fitted-level-1);\n",
              "}\n",
              "\n",
              "/* On hover */\n",
              "div.sk-estimator:hover .sk-estimator-doc-link:hover,\n",
              ".sk-estimator-doc-link:hover,\n",
              "div.sk-label-container:hover .sk-estimator-doc-link:hover,\n",
              ".sk-estimator-doc-link:hover {\n",
              "  /* unfitted */\n",
              "  background-color: var(--sklearn-color-unfitted-level-3);\n",
              "  color: var(--sklearn-color-background);\n",
              "  text-decoration: none;\n",
              "}\n",
              "\n",
              "div.sk-estimator.fitted:hover .sk-estimator-doc-link.fitted:hover,\n",
              ".sk-estimator-doc-link.fitted:hover,\n",
              "div.sk-label-container:hover .sk-estimator-doc-link.fitted:hover,\n",
              ".sk-estimator-doc-link.fitted:hover {\n",
              "  /* fitted */\n",
              "  background-color: var(--sklearn-color-fitted-level-3);\n",
              "  color: var(--sklearn-color-background);\n",
              "  text-decoration: none;\n",
              "}\n",
              "\n",
              "/* Span, style for the box shown on hovering the info icon */\n",
              ".sk-estimator-doc-link span {\n",
              "  display: none;\n",
              "  z-index: 9999;\n",
              "  position: relative;\n",
              "  font-weight: normal;\n",
              "  right: .2ex;\n",
              "  padding: .5ex;\n",
              "  margin: .5ex;\n",
              "  width: min-content;\n",
              "  min-width: 20ex;\n",
              "  max-width: 50ex;\n",
              "  color: var(--sklearn-color-text);\n",
              "  box-shadow: 2pt 2pt 4pt #999;\n",
              "  /* unfitted */\n",
              "  background: var(--sklearn-color-unfitted-level-0);\n",
              "  border: .5pt solid var(--sklearn-color-unfitted-level-3);\n",
              "}\n",
              "\n",
              ".sk-estimator-doc-link.fitted span {\n",
              "  /* fitted */\n",
              "  background: var(--sklearn-color-fitted-level-0);\n",
              "  border: var(--sklearn-color-fitted-level-3);\n",
              "}\n",
              "\n",
              ".sk-estimator-doc-link:hover span {\n",
              "  display: block;\n",
              "}\n",
              "\n",
              "/* \"?\"-specific style due to the `<a>` HTML tag */\n",
              "\n",
              "#sk-container-id-5 a.estimator_doc_link {\n",
              "  float: right;\n",
              "  font-size: 1rem;\n",
              "  line-height: 1em;\n",
              "  font-family: monospace;\n",
              "  background-color: var(--sklearn-color-background);\n",
              "  border-radius: 1rem;\n",
              "  height: 1rem;\n",
              "  width: 1rem;\n",
              "  text-decoration: none;\n",
              "  /* unfitted */\n",
              "  color: var(--sklearn-color-unfitted-level-1);\n",
              "  border: var(--sklearn-color-unfitted-level-1) 1pt solid;\n",
              "}\n",
              "\n",
              "#sk-container-id-5 a.estimator_doc_link.fitted {\n",
              "  /* fitted */\n",
              "  border: var(--sklearn-color-fitted-level-1) 1pt solid;\n",
              "  color: var(--sklearn-color-fitted-level-1);\n",
              "}\n",
              "\n",
              "/* On hover */\n",
              "#sk-container-id-5 a.estimator_doc_link:hover {\n",
              "  /* unfitted */\n",
              "  background-color: var(--sklearn-color-unfitted-level-3);\n",
              "  color: var(--sklearn-color-background);\n",
              "  text-decoration: none;\n",
              "}\n",
              "\n",
              "#sk-container-id-5 a.estimator_doc_link.fitted:hover {\n",
              "  /* fitted */\n",
              "  background-color: var(--sklearn-color-fitted-level-3);\n",
              "}\n",
              "</style><div id=\"sk-container-id-5\" class=\"sk-top-container\"><div class=\"sk-text-repr-fallback\"><pre>RandomizedSearchCV(cv=5, estimator=RandomForestClassifier(random_state=42),\n",
              "                   n_iter=100, n_jobs=-1,\n",
              "                   param_distributions={&#x27;bootstrap&#x27;: [True, False],\n",
              "                                        &#x27;criterion&#x27;: [&#x27;gini&#x27;, &#x27;entropy&#x27;],\n",
              "                                        &#x27;max_depth&#x27;: [None, 1, 2, 3, 4, 5, 6, 7,\n",
              "                                                      8, 9, 10, 11, 12, 13, 14,\n",
              "                                                      15, 16, 17, 18, 19],\n",
              "                                        &#x27;min_samples_leaf&#x27;: array([ 1,  2,  3,  4,  5,  6,  7,  8,  9, 10, 11, 12, 13, 14, 15, 16, 17,\n",
              "       18, 19]),\n",
              "                                        &#x27;min_samples_split&#x27;: array([ 2,  3,  4,  5,  6,  7,  8,  9, 10, 11, 12, 13, 14, 15, 16, 17, 18,\n",
              "       19]),\n",
              "                                        &#x27;n_estimators&#x27;: array([ 10,  20,  30,  40,  50,  60,  70,  80,  90, 100, 110, 120, 130,\n",
              "       140, 150, 160, 170, 180, 190])},\n",
              "                   random_state=42, scoring=&#x27;f1_macro&#x27;)</pre><b>In a Jupyter environment, please rerun this cell to show the HTML representation or trust the notebook. <br />On GitHub, the HTML representation is unable to render, please try loading this page with nbviewer.org.</b></div><div class=\"sk-container\" hidden><div class=\"sk-item sk-dashed-wrapped\"><div class=\"sk-label-container\"><div class=\"sk-label fitted sk-toggleable\"><input class=\"sk-toggleable__control sk-hidden--visually\" id=\"sk-estimator-id-13\" type=\"checkbox\" ><label for=\"sk-estimator-id-13\" class=\"sk-toggleable__label fitted sk-toggleable__label-arrow fitted\">&nbsp;&nbsp;RandomizedSearchCV<a class=\"sk-estimator-doc-link fitted\" rel=\"noreferrer\" target=\"_blank\" href=\"https://scikit-learn.org/1.5/modules/generated/sklearn.model_selection.RandomizedSearchCV.html\">?<span>Documentation for RandomizedSearchCV</span></a><span class=\"sk-estimator-doc-link fitted\">i<span>Fitted</span></span></label><div class=\"sk-toggleable__content fitted\"><pre>RandomizedSearchCV(cv=5, estimator=RandomForestClassifier(random_state=42),\n",
              "                   n_iter=100, n_jobs=-1,\n",
              "                   param_distributions={&#x27;bootstrap&#x27;: [True, False],\n",
              "                                        &#x27;criterion&#x27;: [&#x27;gini&#x27;, &#x27;entropy&#x27;],\n",
              "                                        &#x27;max_depth&#x27;: [None, 1, 2, 3, 4, 5, 6, 7,\n",
              "                                                      8, 9, 10, 11, 12, 13, 14,\n",
              "                                                      15, 16, 17, 18, 19],\n",
              "                                        &#x27;min_samples_leaf&#x27;: array([ 1,  2,  3,  4,  5,  6,  7,  8,  9, 10, 11, 12, 13, 14, 15, 16, 17,\n",
              "       18, 19]),\n",
              "                                        &#x27;min_samples_split&#x27;: array([ 2,  3,  4,  5,  6,  7,  8,  9, 10, 11, 12, 13, 14, 15, 16, 17, 18,\n",
              "       19]),\n",
              "                                        &#x27;n_estimators&#x27;: array([ 10,  20,  30,  40,  50,  60,  70,  80,  90, 100, 110, 120, 130,\n",
              "       140, 150, 160, 170, 180, 190])},\n",
              "                   random_state=42, scoring=&#x27;f1_macro&#x27;)</pre></div> </div></div><div class=\"sk-parallel\"><div class=\"sk-parallel-item\"><div class=\"sk-item\"><div class=\"sk-label-container\"><div class=\"sk-label fitted sk-toggleable\"><input class=\"sk-toggleable__control sk-hidden--visually\" id=\"sk-estimator-id-14\" type=\"checkbox\" ><label for=\"sk-estimator-id-14\" class=\"sk-toggleable__label fitted sk-toggleable__label-arrow fitted\">best_estimator_: RandomForestClassifier</label><div class=\"sk-toggleable__content fitted\"><pre>RandomForestClassifier(bootstrap=False, max_depth=9, min_samples_leaf=2,\n",
              "                       min_samples_split=17, n_estimators=20, random_state=42)</pre></div> </div></div><div class=\"sk-serial\"><div class=\"sk-item\"><div class=\"sk-estimator fitted sk-toggleable\"><input class=\"sk-toggleable__control sk-hidden--visually\" id=\"sk-estimator-id-15\" type=\"checkbox\" ><label for=\"sk-estimator-id-15\" class=\"sk-toggleable__label fitted sk-toggleable__label-arrow fitted\">&nbsp;RandomForestClassifier<a class=\"sk-estimator-doc-link fitted\" rel=\"noreferrer\" target=\"_blank\" href=\"https://scikit-learn.org/1.5/modules/generated/sklearn.ensemble.RandomForestClassifier.html\">?<span>Documentation for RandomForestClassifier</span></a></label><div class=\"sk-toggleable__content fitted\"><pre>RandomForestClassifier(bootstrap=False, max_depth=9, min_samples_leaf=2,\n",
              "                       min_samples_split=17, n_estimators=20, random_state=42)</pre></div> </div></div></div></div></div></div></div></div></div>"
            ],
            "text/plain": [
              "RandomizedSearchCV(cv=5, estimator=RandomForestClassifier(random_state=42),\n",
              "                   n_iter=100, n_jobs=-1,\n",
              "                   param_distributions={'bootstrap': [True, False],\n",
              "                                        'criterion': ['gini', 'entropy'],\n",
              "                                        'max_depth': [None, 1, 2, 3, 4, 5, 6, 7,\n",
              "                                                      8, 9, 10, 11, 12, 13, 14,\n",
              "                                                      15, 16, 17, 18, 19],\n",
              "                                        'min_samples_leaf': array([ 1,  2,  3,  4,  5,  6,  7,  8,  9, 10, 11, 12, 13, 14, 15, 16, 17,\n",
              "       18, 19]),\n",
              "                                        'min_samples_split': array([ 2,  3,  4,  5,  6,  7,  8,  9, 10, 11, 12, 13, 14, 15, 16, 17, 18,\n",
              "       19]),\n",
              "                                        'n_estimators': array([ 10,  20,  30,  40,  50,  60,  70,  80,  90, 100, 110, 120, 130,\n",
              "       140, 150, 160, 170, 180, 190])},\n",
              "                   random_state=42, scoring='f1_macro')"
            ]
          },
          "execution_count": 112,
          "metadata": {},
          "output_type": "execute_result"
        }
      ],
      "source": [
        "clfForestHypSearch = RandomForestClassifier(random_state=42)\n",
        "\n",
        "param_dist = {\n",
        "    'n_estimators': np.arange(10, 200, 10),\n",
        "    'max_depth': [None] + list(np.arange(1, 20)),\n",
        "    'min_samples_split': np.arange(2, 20),\n",
        "    'min_samples_leaf': np.arange(1, 20),\n",
        "    'bootstrap': [True, False],\n",
        "    'criterion': ['gini', 'entropy']\n",
        "}\n",
        "\n",
        "random_search_forest = RandomizedSearchCV(clfForestHypSearch, param_distributions=param_dist, n_iter=100, scoring='f1_macro', cv=5, random_state=42, n_jobs=-1)\n",
        "\n",
        "random_search_forest.fit(X_train, y_train)"
      ]
    },
    {
      "cell_type": "code",
      "execution_count": 113,
      "metadata": {},
      "outputs": [
        {
          "name": "stdout",
          "output_type": "stream",
          "text": [
            "Mejores hiperparámetros encontrados random forest: {'n_estimators': 20, 'min_samples_split': 17, 'min_samples_leaf': 2, 'max_depth': 9, 'criterion': 'gini', 'bootstrap': False}\n"
          ]
        }
      ],
      "source": [
        "print(\"Mejores hiperparámetros encontrados random forest:\", random_search_forest.best_params_)"
      ]
    },
    {
      "cell_type": "code",
      "execution_count": 114,
      "metadata": {},
      "outputs": [
        {
          "name": "stdout",
          "output_type": "stream",
          "text": [
            "F1 Macro Scores: [0.94569799 0.96296296 0.96296296 0.94338139 0.96296296]\n",
            "Media F1 Macro Score: 0.9555936539422779\n"
          ]
        }
      ],
      "source": [
        "best_clfForest = random_search_forest.best_estimator_\n",
        "scores = cross_val_score(best_clfForest, X_train, y_train, cv=5, scoring='f1_macro')\n",
        "print(\"F1 Macro Scores:\", scores)\n",
        "print(\"Media F1 Macro Score:\", np.mean(scores))"
      ]
    },
    {
      "cell_type": "code",
      "execution_count": 115,
      "metadata": {},
      "outputs": [],
      "source": [
        "y_pred_forest_opt = cross_val_predict(best_clfForest, X_test, y_test, cv=5)"
      ]
    },
    {
      "cell_type": "code",
      "execution_count": 116,
      "metadata": {},
      "outputs": [
        {
          "name": "stdout",
          "output_type": "stream",
          "text": [
            "Confusion Matrix for random forest with optimzation:\n",
            " [[19  2]\n",
            " [ 0 70]]\n"
          ]
        }
      ],
      "source": [
        "conf_matrix_forest_opt = confusion_matrix(y_test, y_pred_forest_opt)\n",
        "print('Confusion Matrix for random forest with optimzation:\\n', conf_matrix_forest_opt)"
      ]
    },
    {
      "cell_type": "code",
      "execution_count": 117,
      "metadata": {},
      "outputs": [
        {
          "name": "stdout",
          "output_type": "stream",
          "text": [
            "Classification report for random forest with optimzation:\n",
            "               precision    recall  f1-score   support\n",
            "\n",
            "           0       1.00      0.90      0.95        21\n",
            "           1       0.97      1.00      0.99        70\n",
            "\n",
            "    accuracy                           0.98        91\n",
            "   macro avg       0.99      0.95      0.97        91\n",
            "weighted avg       0.98      0.98      0.98        91\n",
            "\n"
          ]
        }
      ],
      "source": [
        "class_report_forest_opt = classification_report(y_test, y_pred_forest_opt)\n",
        "print('Classification report for random forest with optimzation:\\n', class_report_forest_opt)"
      ]
    },
    {
      "cell_type": "code",
      "execution_count": 118,
      "metadata": {},
      "outputs": [
        {
          "name": "stdout",
          "output_type": "stream",
          "text": [
            "F1-Score: 0.9776273022751897\n"
          ]
        }
      ],
      "source": [
        "print('F1-Score:', f1_score(y_test, y_pred_forest_opt, average='weighted'))"
      ]
    },
    {
      "cell_type": "code",
      "execution_count": 119,
      "metadata": {},
      "outputs": [],
      "source": [
        "# Guardar el modelo de RandomForest\n",
        "with open('modelo_random_forest.pkl', 'wb') as file:\n",
        "    pickle.dump(best_clfForest, file)"
      ]
    },
    {
      "cell_type": "markdown",
      "metadata": {},
      "source": [
        "# KNN"
      ]
    },
    {
      "cell_type": "code",
      "execution_count": 120,
      "metadata": {
        "id": "U3IM9ECsagju"
      },
      "outputs": [
        {
          "name": "stdout",
          "output_type": "stream",
          "text": [
            "Cross-validation scores: [0.43410853 0.43307087 0.43307087 0.43307087 0.43307087]\n",
            "Average cross-validation score: 0.43327839833974247\n"
          ]
        }
      ],
      "source": [
        "clfKNN_norm = KNeighborsClassifier()\n",
        "scores = cross_val_score(clfKNN_norm, X_train, y_train, cv=5, scoring='f1_macro')\n",
        "\n",
        "print(f'Cross-validation scores: {scores}')\n",
        "print(f'Average cross-validation score: {np.mean(scores)}')"
      ]
    },
    {
      "cell_type": "code",
      "execution_count": 121,
      "metadata": {},
      "outputs": [],
      "source": [
        "y_pred_knn_norm = cross_val_predict(clfKNN_norm, X_test, y_test, cv=5)"
      ]
    },
    {
      "cell_type": "code",
      "execution_count": 122,
      "metadata": {},
      "outputs": [
        {
          "name": "stdout",
          "output_type": "stream",
          "text": [
            "Confusion Matrix for KNN without optimzation:\n",
            " [[ 0 21]\n",
            " [ 0 70]]\n"
          ]
        }
      ],
      "source": [
        "conf_matrix_knn_norm = confusion_matrix(y_test, y_pred_knn_norm)\n",
        "print('Confusion Matrix for KNN without optimzation:\\n', conf_matrix_knn_norm)"
      ]
    },
    {
      "cell_type": "code",
      "execution_count": 123,
      "metadata": {},
      "outputs": [
        {
          "name": "stdout",
          "output_type": "stream",
          "text": [
            "Classification report for KNN without optimzation:\n",
            "               precision    recall  f1-score   support\n",
            "\n",
            "           0       0.00      0.00      0.00        21\n",
            "           1       0.77      1.00      0.87        70\n",
            "\n",
            "    accuracy                           0.77        91\n",
            "   macro avg       0.38      0.50      0.43        91\n",
            "weighted avg       0.59      0.77      0.67        91\n",
            "\n"
          ]
        },
        {
          "name": "stderr",
          "output_type": "stream",
          "text": [
            "d:\\Cosas De Webi\\Estudio\\PROGRAMACION\\PYTHON\\Tesis\\tesis\\Lib\\site-packages\\sklearn\\metrics\\_classification.py:1517: UndefinedMetricWarning: Precision is ill-defined and being set to 0.0 in labels with no predicted samples. Use `zero_division` parameter to control this behavior.\n",
            "  _warn_prf(average, modifier, f\"{metric.capitalize()} is\", len(result))\n",
            "d:\\Cosas De Webi\\Estudio\\PROGRAMACION\\PYTHON\\Tesis\\tesis\\Lib\\site-packages\\sklearn\\metrics\\_classification.py:1517: UndefinedMetricWarning: Precision is ill-defined and being set to 0.0 in labels with no predicted samples. Use `zero_division` parameter to control this behavior.\n",
            "  _warn_prf(average, modifier, f\"{metric.capitalize()} is\", len(result))\n",
            "d:\\Cosas De Webi\\Estudio\\PROGRAMACION\\PYTHON\\Tesis\\tesis\\Lib\\site-packages\\sklearn\\metrics\\_classification.py:1517: UndefinedMetricWarning: Precision is ill-defined and being set to 0.0 in labels with no predicted samples. Use `zero_division` parameter to control this behavior.\n",
            "  _warn_prf(average, modifier, f\"{metric.capitalize()} is\", len(result))\n"
          ]
        }
      ],
      "source": [
        "class_report_knn_norm = classification_report(y_test, y_pred_knn_norm)\n",
        "print('Classification report for KNN without optimzation:\\n', class_report_knn_norm)"
      ]
    },
    {
      "cell_type": "code",
      "execution_count": 124,
      "metadata": {},
      "outputs": [
        {
          "name": "stdout",
          "output_type": "stream",
          "text": [
            "F1-Score: 0.6688963210702341\n"
          ]
        }
      ],
      "source": [
        "print('F1-Score:', f1_score(y_test, y_pred_knn_norm, average='weighted'))"
      ]
    },
    {
      "cell_type": "markdown",
      "metadata": {},
      "source": [
        "## Optimizition"
      ]
    },
    {
      "cell_type": "code",
      "execution_count": 126,
      "metadata": {
        "id": "NpQovCecwDC5"
      },
      "outputs": [
        {
          "data": {
            "text/html": [
              "<style>#sk-container-id-6 {\n",
              "  /* Definition of color scheme common for light and dark mode */\n",
              "  --sklearn-color-text: black;\n",
              "  --sklearn-color-line: gray;\n",
              "  /* Definition of color scheme for unfitted estimators */\n",
              "  --sklearn-color-unfitted-level-0: #fff5e6;\n",
              "  --sklearn-color-unfitted-level-1: #f6e4d2;\n",
              "  --sklearn-color-unfitted-level-2: #ffe0b3;\n",
              "  --sklearn-color-unfitted-level-3: chocolate;\n",
              "  /* Definition of color scheme for fitted estimators */\n",
              "  --sklearn-color-fitted-level-0: #f0f8ff;\n",
              "  --sklearn-color-fitted-level-1: #d4ebff;\n",
              "  --sklearn-color-fitted-level-2: #b3dbfd;\n",
              "  --sklearn-color-fitted-level-3: cornflowerblue;\n",
              "\n",
              "  /* Specific color for light theme */\n",
              "  --sklearn-color-text-on-default-background: var(--sg-text-color, var(--theme-code-foreground, var(--jp-content-font-color1, black)));\n",
              "  --sklearn-color-background: var(--sg-background-color, var(--theme-background, var(--jp-layout-color0, white)));\n",
              "  --sklearn-color-border-box: var(--sg-text-color, var(--theme-code-foreground, var(--jp-content-font-color1, black)));\n",
              "  --sklearn-color-icon: #696969;\n",
              "\n",
              "  @media (prefers-color-scheme: dark) {\n",
              "    /* Redefinition of color scheme for dark theme */\n",
              "    --sklearn-color-text-on-default-background: var(--sg-text-color, var(--theme-code-foreground, var(--jp-content-font-color1, white)));\n",
              "    --sklearn-color-background: var(--sg-background-color, var(--theme-background, var(--jp-layout-color0, #111)));\n",
              "    --sklearn-color-border-box: var(--sg-text-color, var(--theme-code-foreground, var(--jp-content-font-color1, white)));\n",
              "    --sklearn-color-icon: #878787;\n",
              "  }\n",
              "}\n",
              "\n",
              "#sk-container-id-6 {\n",
              "  color: var(--sklearn-color-text);\n",
              "}\n",
              "\n",
              "#sk-container-id-6 pre {\n",
              "  padding: 0;\n",
              "}\n",
              "\n",
              "#sk-container-id-6 input.sk-hidden--visually {\n",
              "  border: 0;\n",
              "  clip: rect(1px 1px 1px 1px);\n",
              "  clip: rect(1px, 1px, 1px, 1px);\n",
              "  height: 1px;\n",
              "  margin: -1px;\n",
              "  overflow: hidden;\n",
              "  padding: 0;\n",
              "  position: absolute;\n",
              "  width: 1px;\n",
              "}\n",
              "\n",
              "#sk-container-id-6 div.sk-dashed-wrapped {\n",
              "  border: 1px dashed var(--sklearn-color-line);\n",
              "  margin: 0 0.4em 0.5em 0.4em;\n",
              "  box-sizing: border-box;\n",
              "  padding-bottom: 0.4em;\n",
              "  background-color: var(--sklearn-color-background);\n",
              "}\n",
              "\n",
              "#sk-container-id-6 div.sk-container {\n",
              "  /* jupyter's `normalize.less` sets `[hidden] { display: none; }`\n",
              "     but bootstrap.min.css set `[hidden] { display: none !important; }`\n",
              "     so we also need the `!important` here to be able to override the\n",
              "     default hidden behavior on the sphinx rendered scikit-learn.org.\n",
              "     See: https://github.com/scikit-learn/scikit-learn/issues/21755 */\n",
              "  display: inline-block !important;\n",
              "  position: relative;\n",
              "}\n",
              "\n",
              "#sk-container-id-6 div.sk-text-repr-fallback {\n",
              "  display: none;\n",
              "}\n",
              "\n",
              "div.sk-parallel-item,\n",
              "div.sk-serial,\n",
              "div.sk-item {\n",
              "  /* draw centered vertical line to link estimators */\n",
              "  background-image: linear-gradient(var(--sklearn-color-text-on-default-background), var(--sklearn-color-text-on-default-background));\n",
              "  background-size: 2px 100%;\n",
              "  background-repeat: no-repeat;\n",
              "  background-position: center center;\n",
              "}\n",
              "\n",
              "/* Parallel-specific style estimator block */\n",
              "\n",
              "#sk-container-id-6 div.sk-parallel-item::after {\n",
              "  content: \"\";\n",
              "  width: 100%;\n",
              "  border-bottom: 2px solid var(--sklearn-color-text-on-default-background);\n",
              "  flex-grow: 1;\n",
              "}\n",
              "\n",
              "#sk-container-id-6 div.sk-parallel {\n",
              "  display: flex;\n",
              "  align-items: stretch;\n",
              "  justify-content: center;\n",
              "  background-color: var(--sklearn-color-background);\n",
              "  position: relative;\n",
              "}\n",
              "\n",
              "#sk-container-id-6 div.sk-parallel-item {\n",
              "  display: flex;\n",
              "  flex-direction: column;\n",
              "}\n",
              "\n",
              "#sk-container-id-6 div.sk-parallel-item:first-child::after {\n",
              "  align-self: flex-end;\n",
              "  width: 50%;\n",
              "}\n",
              "\n",
              "#sk-container-id-6 div.sk-parallel-item:last-child::after {\n",
              "  align-self: flex-start;\n",
              "  width: 50%;\n",
              "}\n",
              "\n",
              "#sk-container-id-6 div.sk-parallel-item:only-child::after {\n",
              "  width: 0;\n",
              "}\n",
              "\n",
              "/* Serial-specific style estimator block */\n",
              "\n",
              "#sk-container-id-6 div.sk-serial {\n",
              "  display: flex;\n",
              "  flex-direction: column;\n",
              "  align-items: center;\n",
              "  background-color: var(--sklearn-color-background);\n",
              "  padding-right: 1em;\n",
              "  padding-left: 1em;\n",
              "}\n",
              "\n",
              "\n",
              "/* Toggleable style: style used for estimator/Pipeline/ColumnTransformer box that is\n",
              "clickable and can be expanded/collapsed.\n",
              "- Pipeline and ColumnTransformer use this feature and define the default style\n",
              "- Estimators will overwrite some part of the style using the `sk-estimator` class\n",
              "*/\n",
              "\n",
              "/* Pipeline and ColumnTransformer style (default) */\n",
              "\n",
              "#sk-container-id-6 div.sk-toggleable {\n",
              "  /* Default theme specific background. It is overwritten whether we have a\n",
              "  specific estimator or a Pipeline/ColumnTransformer */\n",
              "  background-color: var(--sklearn-color-background);\n",
              "}\n",
              "\n",
              "/* Toggleable label */\n",
              "#sk-container-id-6 label.sk-toggleable__label {\n",
              "  cursor: pointer;\n",
              "  display: block;\n",
              "  width: 100%;\n",
              "  margin-bottom: 0;\n",
              "  padding: 0.5em;\n",
              "  box-sizing: border-box;\n",
              "  text-align: center;\n",
              "}\n",
              "\n",
              "#sk-container-id-6 label.sk-toggleable__label-arrow:before {\n",
              "  /* Arrow on the left of the label */\n",
              "  content: \"▸\";\n",
              "  float: left;\n",
              "  margin-right: 0.25em;\n",
              "  color: var(--sklearn-color-icon);\n",
              "}\n",
              "\n",
              "#sk-container-id-6 label.sk-toggleable__label-arrow:hover:before {\n",
              "  color: var(--sklearn-color-text);\n",
              "}\n",
              "\n",
              "/* Toggleable content - dropdown */\n",
              "\n",
              "#sk-container-id-6 div.sk-toggleable__content {\n",
              "  max-height: 0;\n",
              "  max-width: 0;\n",
              "  overflow: hidden;\n",
              "  text-align: left;\n",
              "  /* unfitted */\n",
              "  background-color: var(--sklearn-color-unfitted-level-0);\n",
              "}\n",
              "\n",
              "#sk-container-id-6 div.sk-toggleable__content.fitted {\n",
              "  /* fitted */\n",
              "  background-color: var(--sklearn-color-fitted-level-0);\n",
              "}\n",
              "\n",
              "#sk-container-id-6 div.sk-toggleable__content pre {\n",
              "  margin: 0.2em;\n",
              "  border-radius: 0.25em;\n",
              "  color: var(--sklearn-color-text);\n",
              "  /* unfitted */\n",
              "  background-color: var(--sklearn-color-unfitted-level-0);\n",
              "}\n",
              "\n",
              "#sk-container-id-6 div.sk-toggleable__content.fitted pre {\n",
              "  /* unfitted */\n",
              "  background-color: var(--sklearn-color-fitted-level-0);\n",
              "}\n",
              "\n",
              "#sk-container-id-6 input.sk-toggleable__control:checked~div.sk-toggleable__content {\n",
              "  /* Expand drop-down */\n",
              "  max-height: 200px;\n",
              "  max-width: 100%;\n",
              "  overflow: auto;\n",
              "}\n",
              "\n",
              "#sk-container-id-6 input.sk-toggleable__control:checked~label.sk-toggleable__label-arrow:before {\n",
              "  content: \"▾\";\n",
              "}\n",
              "\n",
              "/* Pipeline/ColumnTransformer-specific style */\n",
              "\n",
              "#sk-container-id-6 div.sk-label input.sk-toggleable__control:checked~label.sk-toggleable__label {\n",
              "  color: var(--sklearn-color-text);\n",
              "  background-color: var(--sklearn-color-unfitted-level-2);\n",
              "}\n",
              "\n",
              "#sk-container-id-6 div.sk-label.fitted input.sk-toggleable__control:checked~label.sk-toggleable__label {\n",
              "  background-color: var(--sklearn-color-fitted-level-2);\n",
              "}\n",
              "\n",
              "/* Estimator-specific style */\n",
              "\n",
              "/* Colorize estimator box */\n",
              "#sk-container-id-6 div.sk-estimator input.sk-toggleable__control:checked~label.sk-toggleable__label {\n",
              "  /* unfitted */\n",
              "  background-color: var(--sklearn-color-unfitted-level-2);\n",
              "}\n",
              "\n",
              "#sk-container-id-6 div.sk-estimator.fitted input.sk-toggleable__control:checked~label.sk-toggleable__label {\n",
              "  /* fitted */\n",
              "  background-color: var(--sklearn-color-fitted-level-2);\n",
              "}\n",
              "\n",
              "#sk-container-id-6 div.sk-label label.sk-toggleable__label,\n",
              "#sk-container-id-6 div.sk-label label {\n",
              "  /* The background is the default theme color */\n",
              "  color: var(--sklearn-color-text-on-default-background);\n",
              "}\n",
              "\n",
              "/* On hover, darken the color of the background */\n",
              "#sk-container-id-6 div.sk-label:hover label.sk-toggleable__label {\n",
              "  color: var(--sklearn-color-text);\n",
              "  background-color: var(--sklearn-color-unfitted-level-2);\n",
              "}\n",
              "\n",
              "/* Label box, darken color on hover, fitted */\n",
              "#sk-container-id-6 div.sk-label.fitted:hover label.sk-toggleable__label.fitted {\n",
              "  color: var(--sklearn-color-text);\n",
              "  background-color: var(--sklearn-color-fitted-level-2);\n",
              "}\n",
              "\n",
              "/* Estimator label */\n",
              "\n",
              "#sk-container-id-6 div.sk-label label {\n",
              "  font-family: monospace;\n",
              "  font-weight: bold;\n",
              "  display: inline-block;\n",
              "  line-height: 1.2em;\n",
              "}\n",
              "\n",
              "#sk-container-id-6 div.sk-label-container {\n",
              "  text-align: center;\n",
              "}\n",
              "\n",
              "/* Estimator-specific */\n",
              "#sk-container-id-6 div.sk-estimator {\n",
              "  font-family: monospace;\n",
              "  border: 1px dotted var(--sklearn-color-border-box);\n",
              "  border-radius: 0.25em;\n",
              "  box-sizing: border-box;\n",
              "  margin-bottom: 0.5em;\n",
              "  /* unfitted */\n",
              "  background-color: var(--sklearn-color-unfitted-level-0);\n",
              "}\n",
              "\n",
              "#sk-container-id-6 div.sk-estimator.fitted {\n",
              "  /* fitted */\n",
              "  background-color: var(--sklearn-color-fitted-level-0);\n",
              "}\n",
              "\n",
              "/* on hover */\n",
              "#sk-container-id-6 div.sk-estimator:hover {\n",
              "  /* unfitted */\n",
              "  background-color: var(--sklearn-color-unfitted-level-2);\n",
              "}\n",
              "\n",
              "#sk-container-id-6 div.sk-estimator.fitted:hover {\n",
              "  /* fitted */\n",
              "  background-color: var(--sklearn-color-fitted-level-2);\n",
              "}\n",
              "\n",
              "/* Specification for estimator info (e.g. \"i\" and \"?\") */\n",
              "\n",
              "/* Common style for \"i\" and \"?\" */\n",
              "\n",
              ".sk-estimator-doc-link,\n",
              "a:link.sk-estimator-doc-link,\n",
              "a:visited.sk-estimator-doc-link {\n",
              "  float: right;\n",
              "  font-size: smaller;\n",
              "  line-height: 1em;\n",
              "  font-family: monospace;\n",
              "  background-color: var(--sklearn-color-background);\n",
              "  border-radius: 1em;\n",
              "  height: 1em;\n",
              "  width: 1em;\n",
              "  text-decoration: none !important;\n",
              "  margin-left: 1ex;\n",
              "  /* unfitted */\n",
              "  border: var(--sklearn-color-unfitted-level-1) 1pt solid;\n",
              "  color: var(--sklearn-color-unfitted-level-1);\n",
              "}\n",
              "\n",
              ".sk-estimator-doc-link.fitted,\n",
              "a:link.sk-estimator-doc-link.fitted,\n",
              "a:visited.sk-estimator-doc-link.fitted {\n",
              "  /* fitted */\n",
              "  border: var(--sklearn-color-fitted-level-1) 1pt solid;\n",
              "  color: var(--sklearn-color-fitted-level-1);\n",
              "}\n",
              "\n",
              "/* On hover */\n",
              "div.sk-estimator:hover .sk-estimator-doc-link:hover,\n",
              ".sk-estimator-doc-link:hover,\n",
              "div.sk-label-container:hover .sk-estimator-doc-link:hover,\n",
              ".sk-estimator-doc-link:hover {\n",
              "  /* unfitted */\n",
              "  background-color: var(--sklearn-color-unfitted-level-3);\n",
              "  color: var(--sklearn-color-background);\n",
              "  text-decoration: none;\n",
              "}\n",
              "\n",
              "div.sk-estimator.fitted:hover .sk-estimator-doc-link.fitted:hover,\n",
              ".sk-estimator-doc-link.fitted:hover,\n",
              "div.sk-label-container:hover .sk-estimator-doc-link.fitted:hover,\n",
              ".sk-estimator-doc-link.fitted:hover {\n",
              "  /* fitted */\n",
              "  background-color: var(--sklearn-color-fitted-level-3);\n",
              "  color: var(--sklearn-color-background);\n",
              "  text-decoration: none;\n",
              "}\n",
              "\n",
              "/* Span, style for the box shown on hovering the info icon */\n",
              ".sk-estimator-doc-link span {\n",
              "  display: none;\n",
              "  z-index: 9999;\n",
              "  position: relative;\n",
              "  font-weight: normal;\n",
              "  right: .2ex;\n",
              "  padding: .5ex;\n",
              "  margin: .5ex;\n",
              "  width: min-content;\n",
              "  min-width: 20ex;\n",
              "  max-width: 50ex;\n",
              "  color: var(--sklearn-color-text);\n",
              "  box-shadow: 2pt 2pt 4pt #999;\n",
              "  /* unfitted */\n",
              "  background: var(--sklearn-color-unfitted-level-0);\n",
              "  border: .5pt solid var(--sklearn-color-unfitted-level-3);\n",
              "}\n",
              "\n",
              ".sk-estimator-doc-link.fitted span {\n",
              "  /* fitted */\n",
              "  background: var(--sklearn-color-fitted-level-0);\n",
              "  border: var(--sklearn-color-fitted-level-3);\n",
              "}\n",
              "\n",
              ".sk-estimator-doc-link:hover span {\n",
              "  display: block;\n",
              "}\n",
              "\n",
              "/* \"?\"-specific style due to the `<a>` HTML tag */\n",
              "\n",
              "#sk-container-id-6 a.estimator_doc_link {\n",
              "  float: right;\n",
              "  font-size: 1rem;\n",
              "  line-height: 1em;\n",
              "  font-family: monospace;\n",
              "  background-color: var(--sklearn-color-background);\n",
              "  border-radius: 1rem;\n",
              "  height: 1rem;\n",
              "  width: 1rem;\n",
              "  text-decoration: none;\n",
              "  /* unfitted */\n",
              "  color: var(--sklearn-color-unfitted-level-1);\n",
              "  border: var(--sklearn-color-unfitted-level-1) 1pt solid;\n",
              "}\n",
              "\n",
              "#sk-container-id-6 a.estimator_doc_link.fitted {\n",
              "  /* fitted */\n",
              "  border: var(--sklearn-color-fitted-level-1) 1pt solid;\n",
              "  color: var(--sklearn-color-fitted-level-1);\n",
              "}\n",
              "\n",
              "/* On hover */\n",
              "#sk-container-id-6 a.estimator_doc_link:hover {\n",
              "  /* unfitted */\n",
              "  background-color: var(--sklearn-color-unfitted-level-3);\n",
              "  color: var(--sklearn-color-background);\n",
              "  text-decoration: none;\n",
              "}\n",
              "\n",
              "#sk-container-id-6 a.estimator_doc_link.fitted:hover {\n",
              "  /* fitted */\n",
              "  background-color: var(--sklearn-color-fitted-level-3);\n",
              "}\n",
              "</style><div id=\"sk-container-id-6\" class=\"sk-top-container\"><div class=\"sk-text-repr-fallback\"><pre>RandomizedSearchCV(cv=5, estimator=KNeighborsClassifier(), n_iter=100,\n",
              "                   n_jobs=-1,\n",
              "                   param_distributions={&#x27;metric&#x27;: [&#x27;euclidean&#x27;, &#x27;manhattan&#x27;,\n",
              "                                                   &#x27;chebyshev&#x27;, &#x27;minkowski&#x27;],\n",
              "                                        &#x27;n_neighbors&#x27;: array([ 1,  2,  3,  4,  5,  6,  7,  8,  9, 10, 11, 12, 13, 14, 15, 16, 17,\n",
              "       18, 19, 20, 21, 22, 23, 24, 25, 26, 27, 28, 29]),\n",
              "                                        &#x27;weights&#x27;: [&#x27;uniform&#x27;, &#x27;distance&#x27;]},\n",
              "                   random_state=42, scoring=&#x27;f1_macro&#x27;)</pre><b>In a Jupyter environment, please rerun this cell to show the HTML representation or trust the notebook. <br />On GitHub, the HTML representation is unable to render, please try loading this page with nbviewer.org.</b></div><div class=\"sk-container\" hidden><div class=\"sk-item sk-dashed-wrapped\"><div class=\"sk-label-container\"><div class=\"sk-label fitted sk-toggleable\"><input class=\"sk-toggleable__control sk-hidden--visually\" id=\"sk-estimator-id-16\" type=\"checkbox\" ><label for=\"sk-estimator-id-16\" class=\"sk-toggleable__label fitted sk-toggleable__label-arrow fitted\">&nbsp;&nbsp;RandomizedSearchCV<a class=\"sk-estimator-doc-link fitted\" rel=\"noreferrer\" target=\"_blank\" href=\"https://scikit-learn.org/1.5/modules/generated/sklearn.model_selection.RandomizedSearchCV.html\">?<span>Documentation for RandomizedSearchCV</span></a><span class=\"sk-estimator-doc-link fitted\">i<span>Fitted</span></span></label><div class=\"sk-toggleable__content fitted\"><pre>RandomizedSearchCV(cv=5, estimator=KNeighborsClassifier(), n_iter=100,\n",
              "                   n_jobs=-1,\n",
              "                   param_distributions={&#x27;metric&#x27;: [&#x27;euclidean&#x27;, &#x27;manhattan&#x27;,\n",
              "                                                   &#x27;chebyshev&#x27;, &#x27;minkowski&#x27;],\n",
              "                                        &#x27;n_neighbors&#x27;: array([ 1,  2,  3,  4,  5,  6,  7,  8,  9, 10, 11, 12, 13, 14, 15, 16, 17,\n",
              "       18, 19, 20, 21, 22, 23, 24, 25, 26, 27, 28, 29]),\n",
              "                                        &#x27;weights&#x27;: [&#x27;uniform&#x27;, &#x27;distance&#x27;]},\n",
              "                   random_state=42, scoring=&#x27;f1_macro&#x27;)</pre></div> </div></div><div class=\"sk-parallel\"><div class=\"sk-parallel-item\"><div class=\"sk-item\"><div class=\"sk-label-container\"><div class=\"sk-label fitted sk-toggleable\"><input class=\"sk-toggleable__control sk-hidden--visually\" id=\"sk-estimator-id-17\" type=\"checkbox\" ><label for=\"sk-estimator-id-17\" class=\"sk-toggleable__label fitted sk-toggleable__label-arrow fitted\">best_estimator_: KNeighborsClassifier</label><div class=\"sk-toggleable__content fitted\"><pre>KNeighborsClassifier(metric=&#x27;chebyshev&#x27;, n_neighbors=2, weights=&#x27;distance&#x27;)</pre></div> </div></div><div class=\"sk-serial\"><div class=\"sk-item\"><div class=\"sk-estimator fitted sk-toggleable\"><input class=\"sk-toggleable__control sk-hidden--visually\" id=\"sk-estimator-id-18\" type=\"checkbox\" ><label for=\"sk-estimator-id-18\" class=\"sk-toggleable__label fitted sk-toggleable__label-arrow fitted\">&nbsp;KNeighborsClassifier<a class=\"sk-estimator-doc-link fitted\" rel=\"noreferrer\" target=\"_blank\" href=\"https://scikit-learn.org/1.5/modules/generated/sklearn.neighbors.KNeighborsClassifier.html\">?<span>Documentation for KNeighborsClassifier</span></a></label><div class=\"sk-toggleable__content fitted\"><pre>KNeighborsClassifier(metric=&#x27;chebyshev&#x27;, n_neighbors=2, weights=&#x27;distance&#x27;)</pre></div> </div></div></div></div></div></div></div></div></div>"
            ],
            "text/plain": [
              "RandomizedSearchCV(cv=5, estimator=KNeighborsClassifier(), n_iter=100,\n",
              "                   n_jobs=-1,\n",
              "                   param_distributions={'metric': ['euclidean', 'manhattan',\n",
              "                                                   'chebyshev', 'minkowski'],\n",
              "                                        'n_neighbors': array([ 1,  2,  3,  4,  5,  6,  7,  8,  9, 10, 11, 12, 13, 14, 15, 16, 17,\n",
              "       18, 19, 20, 21, 22, 23, 24, 25, 26, 27, 28, 29]),\n",
              "                                        'weights': ['uniform', 'distance']},\n",
              "                   random_state=42, scoring='f1_macro')"
            ]
          },
          "execution_count": 126,
          "metadata": {},
          "output_type": "execute_result"
        }
      ],
      "source": [
        "clfKNNHypSearch = KNeighborsClassifier()\n",
        "\n",
        "param_dist = {\n",
        "    'n_neighbors': np.arange(1, 30),\n",
        "    'weights': ['uniform', 'distance'],\n",
        "    'metric': ['euclidean', 'manhattan', 'chebyshev', 'minkowski']\n",
        "}\n",
        "\n",
        "random_search_knn = RandomizedSearchCV(clfKNNHypSearch, param_distributions=param_dist, n_iter=100, scoring='f1_macro', cv=5, random_state=42, n_jobs=-1)\n",
        "\n",
        "random_search_knn.fit(X_train, y_train)"
      ]
    },
    {
      "cell_type": "code",
      "execution_count": 127,
      "metadata": {},
      "outputs": [
        {
          "name": "stdout",
          "output_type": "stream",
          "text": [
            "Mejores hiperparámetros encontrados KNN: {'weights': 'distance', 'n_neighbors': 2, 'metric': 'chebyshev'}\n"
          ]
        }
      ],
      "source": [
        "print(\"Mejores hiperparámetros encontrados KNN:\", random_search_knn.best_params_)"
      ]
    },
    {
      "cell_type": "code",
      "execution_count": 128,
      "metadata": {},
      "outputs": [
        {
          "name": "stdout",
          "output_type": "stream",
          "text": [
            "F1 Macro Scores: [0.63424698 0.67616192 0.48370274 0.60947759 0.71934033]\n",
            "Media F1 Macro Score: 0.6245859113053502\n"
          ]
        }
      ],
      "source": [
        "best_clfKNN = random_search_knn.best_estimator_\n",
        "scores = cross_val_score(best_clfKNN, X_train, y_train, cv=5, scoring='f1_macro')\n",
        "\n",
        "print(\"F1 Macro Scores:\", scores)\n",
        "print(\"Media F1 Macro Score:\", np.mean(scores))"
      ]
    },
    {
      "cell_type": "code",
      "execution_count": 129,
      "metadata": {},
      "outputs": [],
      "source": [
        "y_pred_knn_opt = cross_val_predict(best_clfKNN, X_test, y_test, cv=5)"
      ]
    },
    {
      "cell_type": "code",
      "execution_count": 130,
      "metadata": {},
      "outputs": [
        {
          "name": "stdout",
          "output_type": "stream",
          "text": [
            "Confusion Matrix for KNN with optimzation:\n",
            " [[ 0 21]\n",
            " [ 1 69]]\n"
          ]
        }
      ],
      "source": [
        "conf_matrix_knn_opt = confusion_matrix(y_test, y_pred_knn_opt)\n",
        "print('Confusion Matrix for KNN with optimzation:\\n', conf_matrix_knn_opt)"
      ]
    },
    {
      "cell_type": "code",
      "execution_count": 131,
      "metadata": {},
      "outputs": [
        {
          "name": "stdout",
          "output_type": "stream",
          "text": [
            "Classification report for KNN with optimzation:\n",
            "               precision    recall  f1-score   support\n",
            "\n",
            "           0       0.00      0.00      0.00        21\n",
            "           1       0.77      0.99      0.86        70\n",
            "\n",
            "    accuracy                           0.76        91\n",
            "   macro avg       0.38      0.49      0.43        91\n",
            "weighted avg       0.59      0.76      0.66        91\n",
            "\n"
          ]
        }
      ],
      "source": [
        "class_report_knn_opt = classification_report(y_test, y_pred_knn_opt)\n",
        "print('Classification report for KNN with optimzation:\\n', class_report_knn_opt)"
      ]
    },
    {
      "cell_type": "code",
      "execution_count": 132,
      "metadata": {},
      "outputs": [
        {
          "name": "stdout",
          "output_type": "stream",
          "text": [
            "F1-Score: 0.6634615384615384\n"
          ]
        }
      ],
      "source": [
        "print('F1-Score:', f1_score(y_test, y_pred_knn_opt, average='weighted'))"
      ]
    },
    {
      "cell_type": "markdown",
      "metadata": {},
      "source": [
        "# Deep learning"
      ]
    },
    {
      "cell_type": "code",
      "execution_count": null,
      "metadata": {},
      "outputs": [],
      "source": [
        "def apply_augmentation(audio, sr, augmentation):\n",
        "    if augmentation == 'time_shift':\n",
        "        return time_shift(audio)\n",
        "    elif augmentation == 'frequency_shift':\n",
        "        return frequency_shift(audio, sr)\n",
        "    elif augmentation == 'add_noise':\n",
        "        return add_noise(audio)\n",
        "    return audio\n",
        "\n",
        "def time_shift(audio):\n",
        "    shift = np.random.randint(len(audio))\n",
        "    return np.roll(audio, shift)\n",
        "\n",
        "def frequency_shift(audio, sr):\n",
        "    spectrogram = librosa.stft(audio)\n",
        "    num_bins = spectrogram.shape[0]\n",
        "    shift = np.random.randint(-num_bins//2, num_bins//2)\n",
        "    spectrogram = np.roll(spectrogram, shift, axis=0)\n",
        "    audio_shifted = librosa.istft(spectrogram)\n",
        "    return audio_shifted\n",
        "\n",
        "def add_noise(audio, noise_level=0.005):\n",
        "    noise = np.random.randn(len(audio))\n",
        "    augmented_audio = audio + noise_level * noise\n",
        "    return augmented_audio"
      ]
    },
    {
      "cell_type": "code",
      "execution_count": null,
      "metadata": {
        "id": "3qAzYyE0agju"
      },
      "outputs": [],
      "source": [
        "def saveSpectrogramImageNoAumengtation(audioPath, imagePath, fileType):\n",
        "    audio, sr = librosa.load(audioPath, sr=None)\n",
        "    spectrogram = librosa.stft(audio) # Short-Time Fourier Transform\n",
        "    spectrogram_db = librosa.amplitude_to_db(abs(spectrogram))\n",
        "\n",
        "    plt.figure(figsize=(10, 4))\n",
        "    librosa.display.specshow(spectrogram_db, sr=sr, x_axis='time', y_axis='log')\n",
        "    plt.axis('off')\n",
        "    plt.savefig(imagePath, bbox_inches='tight', pad_inches=0.0)\n",
        "    plt.close()\n",
        "\n",
        "def processAudioFilesNoAumengtation(pathAudioType, tipo):\n",
        "    if not os.path.exists(os.path.join(pathAudioType, 'image')):\n",
        "        os.makedirs(os.path.join(pathAudioType, 'image'))\n",
        "    for file in os.listdir(pathAudioType):\n",
        "        if file == 'image' or file[-3:] != 'wav':\n",
        "            print(file)\n",
        "            continue\n",
        "        filepath = os.path.join(pathAudioType, file)\n",
        "        imagePath = os.path.join(pathAudioType, 'image', f'{os.path.splitext(file)[0]}.png')\n",
        "        saveSpectrogramImageNoAumengtation(filepath, imagePath, tipo)"
      ]
    },
    {
      "cell_type": "code",
      "execution_count": null,
      "metadata": {
        "id": "2izjlkRYagjv"
      },
      "outputs": [
        {
          "name": "stdout",
          "output_type": "stream",
          "text": [
            "image\n",
            "image\n"
          ]
        }
      ],
      "source": [
        "processAudioFilesNoAumengtation(path + pathAudioNorm, 'norm')\n",
        "processAudioFilesNoAumengtation(path + pathAudioPatho, 'patho')"
      ]
    },
    {
      "cell_type": "code",
      "execution_count": null,
      "metadata": {},
      "outputs": [],
      "source": [
        "def saveSpectrogramImage(audioPath, imagePath, fileType, augmentation=None):\n",
        "    audio, sr = librosa.load(audioPath, sr=None)\n",
        "    \n",
        "    if augmentation:\n",
        "        audio = apply_augmentation(audio, sr, augmentation)\n",
        "    \n",
        "    spectrogram = librosa.stft(audio) \n",
        "    spectrogram_db = librosa.amplitude_to_db(abs(spectrogram))\n",
        "\n",
        "    plt.figure(figsize=(10, 4))\n",
        "    librosa.display.specshow(spectrogram_db, sr=sr, x_axis='time', y_axis='log')\n",
        "    plt.axis('off')\n",
        "    plt.savefig(imagePath, bbox_inches='tight', pad_inches=0.0)\n",
        "    plt.close()"
      ]
    },
    {
      "cell_type": "code",
      "execution_count": null,
      "metadata": {},
      "outputs": [],
      "source": [
        "def processAudioFiles(pathAudioType, tipo):\n",
        "    for file in os.listdir(os.path.join(pathAudioType, 'image')):\n",
        "        os.remove(os.path.join(pathAudioType, 'image', file))\n",
        "\n",
        "    if not os.path.exists(os.path.join(pathAudioType, 'image')):\n",
        "        os.makedirs(os.path.join(pathAudioType, 'image'))\n",
        "    for file in os.listdir(pathAudioType):\n",
        "        if file == 'image' or file[-3:] != 'wav':\n",
        "            continue\n",
        "        filepath = os.path.join(pathAudioType, file)\n",
        "        imagePath = os.path.join(pathAudioType, 'image', f'{os.path.splitext(file)[0]}.png')\n",
        "        \n",
        "        saveSpectrogramImage(filepath, imagePath, tipo)\n",
        "        \n",
        "        augmentations = ['time_shift', 'frequency_shift', 'add_noise']\n",
        "        \n",
        "        aug = random.choice(augmentations)\n",
        "\n",
        "        augmentedImagePath = os.path.join(pathAudioType, 'image', f'{os.path.splitext(file)[0]}_{aug}.png')\n",
        "        saveSpectrogramImage(filepath, augmentedImagePath, tipo, augmentation=aug)"
      ]
    },
    {
      "cell_type": "code",
      "execution_count": null,
      "metadata": {},
      "outputs": [],
      "source": [
        "processAudioFiles(path + pathAudioNorm, 'png')\n",
        "processAudioFiles(path + pathAudioPatho, 'png')"
      ]
    },
    {
      "cell_type": "code",
      "execution_count": null,
      "metadata": {},
      "outputs": [],
      "source": [
        "def load_images_from_folder(folder, label):\n",
        "    images = []\n",
        "    labels = []\n",
        "    for filename in os.listdir(folder):\n",
        "        img_path = os.path.join(folder, filename)\n",
        "        if img_path.endswith(('.png', '.jpg', '.jpeg')):\n",
        "            img = Image.open(img_path)\n",
        "            img_array = np.array(img)\n",
        "            images.append(img_array)\n",
        "            labels.append(label)\n",
        "    return images, labels"
      ]
    },
    {
      "cell_type": "code",
      "execution_count": null,
      "metadata": {},
      "outputs": [
        {
          "name": "stdout",
          "output_type": "stream",
          "text": [
            "452\n"
          ]
        }
      ],
      "source": [
        "norm_images, norm_labels = load_images_from_folder('data/norm/image', 0)\n",
        "patho_images, patho_labels = load_images_from_folder('data/patho/image', 1)\n",
        "\n",
        "print(len(norm_images) + len(patho_images))\n",
        "\n",
        "images = np.array(norm_images + patho_images)\n",
        "labels = np.array(norm_labels + patho_labels)\n",
        "\n",
        "images = images / 255.0"
      ]
    },
    {
      "cell_type": "code",
      "execution_count": null,
      "metadata": {},
      "outputs": [],
      "source": [
        "X_train, X_test_provisional, y_train, y_test_provisional = train_test_split(\n",
        "    images, labels, test_size=0.3, random_state=42, stratify=labels\n",
        ")\n",
        "\n",
        "X_val, X_test, y_val, y_test = train_test_split(\n",
        "    X_test_provisional, y_test_provisional, test_size=0.5, random_state=42, stratify=y_test_provisional\n",
        ")"
      ]
    },
    {
      "cell_type": "code",
      "execution_count": null,
      "metadata": {},
      "outputs": [
        {
          "name": "stdout",
          "output_type": "stream",
          "text": [
            "Training set size: 316\n",
            "Validation set size: 68\n",
            "Test set size: 68\n",
            "Training set class distribution: (array([0, 1]), array([ 74, 242], dtype=int64))\n",
            "Validation set class distribution: (array([0, 1]), array([16, 52], dtype=int64))\n",
            "Test set class distribution: (array([0, 1]), array([16, 52], dtype=int64))\n"
          ]
        }
      ],
      "source": [
        "print('Training set size:', len(X_train))\n",
        "print('Validation set size:', len(X_val))\n",
        "print('Test set size:', len(X_test))\n",
        "\n",
        "print('Training set class distribution:', np.unique(y_train, return_counts=True))\n",
        "print('Validation set class distribution:', np.unique(y_val, return_counts=True))\n",
        "print('Test set class distribution:', np.unique(y_test, return_counts=True))"
      ]
    },
    {
      "cell_type": "markdown",
      "metadata": {},
      "source": [
        "# Modelo (No Optimizado)\n",
        "- **Arquitectura predefinida:** El modelo tiene una estructura fija con tres capas convolucionales, seguidas de una capa densa y una capa de salida.\n",
        "- **Hiperparámetros fijos:** Los parámetros como el número de filtros, el tamaño del kernel, el número de unidades en la capa densa, la tasa de dropout y la tasa de aprendizaje están predefinidos y no se ajustan automáticamente."
      ]
    },
    {
      "cell_type": "code",
      "execution_count": null,
      "metadata": {},
      "outputs": [
        {
          "name": "stderr",
          "output_type": "stream",
          "text": [
            "d:\\Cosas De Webi\\Estudio\\PROGRAMACION\\PYTHON\\Tesis\\tesis\\Lib\\site-packages\\keras\\src\\layers\\convolutional\\base_conv.py:107: UserWarning: Do not pass an `input_shape`/`input_dim` argument to a layer. When using Sequential models, prefer using an `Input(shape)` object as the first layer in the model instead.\n",
            "  super().__init__(activity_regularizer=activity_regularizer, **kwargs)\n"
          ]
        },
        {
          "name": "stdout",
          "output_type": "stream",
          "text": [
            "Epoch 1/10\n",
            "\u001b[1m10/10\u001b[0m \u001b[32m━━━━━━━━━━━━━━━━━━━━\u001b[0m\u001b[37m\u001b[0m \u001b[1m18s\u001b[0m 2s/step - accuracy: 0.6726 - loss: 10.4065 - val_accuracy: 0.7353 - val_loss: 0.5640\n",
            "Epoch 2/10\n",
            "\u001b[1m10/10\u001b[0m \u001b[32m━━━━━━━━━━━━━━━━━━━━\u001b[0m\u001b[37m\u001b[0m \u001b[1m21s\u001b[0m 2s/step - accuracy: 0.7675 - loss: 0.5759 - val_accuracy: 0.7647 - val_loss: 0.4750\n",
            "Epoch 3/10\n",
            "\u001b[1m10/10\u001b[0m \u001b[32m━━━━━━━━━━━━━━━━━━━━\u001b[0m\u001b[37m\u001b[0m \u001b[1m21s\u001b[0m 2s/step - accuracy: 0.8158 - loss: 0.3917 - val_accuracy: 0.8676 - val_loss: 0.3176\n",
            "Epoch 4/10\n",
            "\u001b[1m10/10\u001b[0m \u001b[32m━━━━━━━━━━━━━━━━━━━━\u001b[0m\u001b[37m\u001b[0m \u001b[1m10s\u001b[0m 1s/step - accuracy: 0.9003 - loss: 0.2489 - val_accuracy: 0.9265 - val_loss: 0.2127\n",
            "Epoch 5/10\n",
            "\u001b[1m10/10\u001b[0m \u001b[32m━━━━━━━━━━━━━━━━━━━━\u001b[0m\u001b[37m\u001b[0m \u001b[1m10s\u001b[0m 1s/step - accuracy: 0.9363 - loss: 0.1689 - val_accuracy: 0.9706 - val_loss: 0.1900\n",
            "Epoch 6/10\n",
            "\u001b[1m10/10\u001b[0m \u001b[32m━━━━━━━━━━━━━━━━━━━━\u001b[0m\u001b[37m\u001b[0m \u001b[1m11s\u001b[0m 1s/step - accuracy: 0.9629 - loss: 0.1066 - val_accuracy: 0.9412 - val_loss: 0.2348\n",
            "Epoch 7/10\n",
            "\u001b[1m10/10\u001b[0m \u001b[32m━━━━━━━━━━━━━━━━━━━━\u001b[0m\u001b[37m\u001b[0m \u001b[1m11s\u001b[0m 1s/step - accuracy: 0.9418 - loss: 0.1306 - val_accuracy: 0.9706 - val_loss: 0.1484\n",
            "Epoch 8/10\n",
            "\u001b[1m10/10\u001b[0m \u001b[32m━━━━━━━━━━━━━━━━━━━━\u001b[0m\u001b[37m\u001b[0m \u001b[1m11s\u001b[0m 1s/step - accuracy: 0.9517 - loss: 0.1350 - val_accuracy: 0.9559 - val_loss: 0.1802\n",
            "Epoch 9/10\n",
            "\u001b[1m10/10\u001b[0m \u001b[32m━━━━━━━━━━━━━━━━━━━━\u001b[0m\u001b[37m\u001b[0m \u001b[1m11s\u001b[0m 1s/step - accuracy: 0.9655 - loss: 0.0957 - val_accuracy: 0.9265 - val_loss: 0.2353\n",
            "Epoch 10/10\n",
            "\u001b[1m10/10\u001b[0m \u001b[32m━━━━━━━━━━━━━━━━━━━━\u001b[0m\u001b[37m\u001b[0m \u001b[1m11s\u001b[0m 1s/step - accuracy: 0.9530 - loss: 0.0963 - val_accuracy: 0.9412 - val_loss: 0.1676\n"
          ]
        }
      ],
      "source": [
        "model = Sequential([\n",
        "    Conv2D(32, (3, 3), activation='relu', input_shape=(images.shape[1], images.shape[2], images.shape[3])),\n",
        "    MaxPooling2D((2, 2)),\n",
        "    Conv2D(64, (3, 3), activation='relu'),\n",
        "    MaxPooling2D((2, 2)),\n",
        "    Conv2D(128, (3, 3), activation='relu'),\n",
        "    MaxPooling2D((2, 2)),\n",
        "    Flatten(),\n",
        "    Dense(128, activation='relu'),\n",
        "    Dropout(0.5),\n",
        "    Dense(1, activation='sigmoid')\n",
        "])\n",
        "\n",
        "model.compile(optimizer='adam', loss='binary_crossentropy', metrics=['accuracy'])\n",
        "\n",
        "history = model.fit(X_train, y_train, epochs=10, batch_size=32, validation_data=(X_val, y_val))"
      ]
    },
    {
      "cell_type": "code",
      "execution_count": null,
      "metadata": {},
      "outputs": [
        {
          "name": "stderr",
          "output_type": "stream",
          "text": [
            "WARNING:absl:You are saving your model as an HDF5 file via `model.save()` or `keras.saving.save_model(model)`. This file format is considered legacy. We recommend using instead the native Keras format, e.g. `model.save('my_model.keras')` or `keras.saving.save_model(model, 'my_model.keras')`. \n"
          ]
        }
      ],
      "source": [
        "model.save('modeloNoOptimizadoCNN.h5')"
      ]
    },
    {
      "cell_type": "code",
      "execution_count": null,
      "metadata": {},
      "outputs": [
        {
          "data": {
            "text/html": [
              "<pre style=\"white-space:pre;overflow-x:auto;line-height:normal;font-family:Menlo,'DejaVu Sans Mono',consolas,'Courier New',monospace\"><span style=\"font-weight: bold\">Model: \"sequential_1\"</span>\n",
              "</pre>\n"
            ],
            "text/plain": [
              "\u001b[1mModel: \"sequential_1\"\u001b[0m\n"
            ]
          },
          "metadata": {},
          "output_type": "display_data"
        },
        {
          "data": {
            "text/html": [
              "<pre style=\"white-space:pre;overflow-x:auto;line-height:normal;font-family:Menlo,'DejaVu Sans Mono',consolas,'Courier New',monospace\">┏━━━━━━━━━━━━━━━━━━━━━━━━━━━━━━━━━┳━━━━━━━━━━━━━━━━━━━━━━━━┳━━━━━━━━━━━━━━━┓\n",
              "┃<span style=\"font-weight: bold\"> Layer (type)                    </span>┃<span style=\"font-weight: bold\"> Output Shape           </span>┃<span style=\"font-weight: bold\">       Param # </span>┃\n",
              "┡━━━━━━━━━━━━━━━━━━━━━━━━━━━━━━━━━╇━━━━━━━━━━━━━━━━━━━━━━━━╇━━━━━━━━━━━━━━━┩\n",
              "│ conv2d_3 (<span style=\"color: #0087ff; text-decoration-color: #0087ff\">Conv2D</span>)               │ (<span style=\"color: #00d7ff; text-decoration-color: #00d7ff\">None</span>, <span style=\"color: #00af00; text-decoration-color: #00af00\">306</span>, <span style=\"color: #00af00; text-decoration-color: #00af00\">773</span>, <span style=\"color: #00af00; text-decoration-color: #00af00\">32</span>)   │         <span style=\"color: #00af00; text-decoration-color: #00af00\">1,184</span> │\n",
              "├─────────────────────────────────┼────────────────────────┼───────────────┤\n",
              "│ max_pooling2d_3 (<span style=\"color: #0087ff; text-decoration-color: #0087ff\">MaxPooling2D</span>)  │ (<span style=\"color: #00d7ff; text-decoration-color: #00d7ff\">None</span>, <span style=\"color: #00af00; text-decoration-color: #00af00\">153</span>, <span style=\"color: #00af00; text-decoration-color: #00af00\">386</span>, <span style=\"color: #00af00; text-decoration-color: #00af00\">32</span>)   │             <span style=\"color: #00af00; text-decoration-color: #00af00\">0</span> │\n",
              "├─────────────────────────────────┼────────────────────────┼───────────────┤\n",
              "│ conv2d_4 (<span style=\"color: #0087ff; text-decoration-color: #0087ff\">Conv2D</span>)               │ (<span style=\"color: #00d7ff; text-decoration-color: #00d7ff\">None</span>, <span style=\"color: #00af00; text-decoration-color: #00af00\">151</span>, <span style=\"color: #00af00; text-decoration-color: #00af00\">384</span>, <span style=\"color: #00af00; text-decoration-color: #00af00\">64</span>)   │        <span style=\"color: #00af00; text-decoration-color: #00af00\">18,496</span> │\n",
              "├─────────────────────────────────┼────────────────────────┼───────────────┤\n",
              "│ max_pooling2d_4 (<span style=\"color: #0087ff; text-decoration-color: #0087ff\">MaxPooling2D</span>)  │ (<span style=\"color: #00d7ff; text-decoration-color: #00d7ff\">None</span>, <span style=\"color: #00af00; text-decoration-color: #00af00\">75</span>, <span style=\"color: #00af00; text-decoration-color: #00af00\">192</span>, <span style=\"color: #00af00; text-decoration-color: #00af00\">64</span>)    │             <span style=\"color: #00af00; text-decoration-color: #00af00\">0</span> │\n",
              "├─────────────────────────────────┼────────────────────────┼───────────────┤\n",
              "│ conv2d_5 (<span style=\"color: #0087ff; text-decoration-color: #0087ff\">Conv2D</span>)               │ (<span style=\"color: #00d7ff; text-decoration-color: #00d7ff\">None</span>, <span style=\"color: #00af00; text-decoration-color: #00af00\">73</span>, <span style=\"color: #00af00; text-decoration-color: #00af00\">190</span>, <span style=\"color: #00af00; text-decoration-color: #00af00\">128</span>)   │        <span style=\"color: #00af00; text-decoration-color: #00af00\">73,856</span> │\n",
              "├─────────────────────────────────┼────────────────────────┼───────────────┤\n",
              "│ max_pooling2d_5 (<span style=\"color: #0087ff; text-decoration-color: #0087ff\">MaxPooling2D</span>)  │ (<span style=\"color: #00d7ff; text-decoration-color: #00d7ff\">None</span>, <span style=\"color: #00af00; text-decoration-color: #00af00\">36</span>, <span style=\"color: #00af00; text-decoration-color: #00af00\">95</span>, <span style=\"color: #00af00; text-decoration-color: #00af00\">128</span>)    │             <span style=\"color: #00af00; text-decoration-color: #00af00\">0</span> │\n",
              "├─────────────────────────────────┼────────────────────────┼───────────────┤\n",
              "│ flatten_1 (<span style=\"color: #0087ff; text-decoration-color: #0087ff\">Flatten</span>)             │ (<span style=\"color: #00d7ff; text-decoration-color: #00d7ff\">None</span>, <span style=\"color: #00af00; text-decoration-color: #00af00\">437760</span>)         │             <span style=\"color: #00af00; text-decoration-color: #00af00\">0</span> │\n",
              "├─────────────────────────────────┼────────────────────────┼───────────────┤\n",
              "│ dense_2 (<span style=\"color: #0087ff; text-decoration-color: #0087ff\">Dense</span>)                 │ (<span style=\"color: #00d7ff; text-decoration-color: #00d7ff\">None</span>, <span style=\"color: #00af00; text-decoration-color: #00af00\">128</span>)            │    <span style=\"color: #00af00; text-decoration-color: #00af00\">56,033,408</span> │\n",
              "├─────────────────────────────────┼────────────────────────┼───────────────┤\n",
              "│ dropout_1 (<span style=\"color: #0087ff; text-decoration-color: #0087ff\">Dropout</span>)             │ (<span style=\"color: #00d7ff; text-decoration-color: #00d7ff\">None</span>, <span style=\"color: #00af00; text-decoration-color: #00af00\">128</span>)            │             <span style=\"color: #00af00; text-decoration-color: #00af00\">0</span> │\n",
              "├─────────────────────────────────┼────────────────────────┼───────────────┤\n",
              "│ dense_3 (<span style=\"color: #0087ff; text-decoration-color: #0087ff\">Dense</span>)                 │ (<span style=\"color: #00d7ff; text-decoration-color: #00d7ff\">None</span>, <span style=\"color: #00af00; text-decoration-color: #00af00\">1</span>)              │           <span style=\"color: #00af00; text-decoration-color: #00af00\">129</span> │\n",
              "└─────────────────────────────────┴────────────────────────┴───────────────┘\n",
              "</pre>\n"
            ],
            "text/plain": [
              "┏━━━━━━━━━━━━━━━━━━━━━━━━━━━━━━━━━┳━━━━━━━━━━━━━━━━━━━━━━━━┳━━━━━━━━━━━━━━━┓\n",
              "┃\u001b[1m \u001b[0m\u001b[1mLayer (type)                   \u001b[0m\u001b[1m \u001b[0m┃\u001b[1m \u001b[0m\u001b[1mOutput Shape          \u001b[0m\u001b[1m \u001b[0m┃\u001b[1m \u001b[0m\u001b[1m      Param #\u001b[0m\u001b[1m \u001b[0m┃\n",
              "┡━━━━━━━━━━━━━━━━━━━━━━━━━━━━━━━━━╇━━━━━━━━━━━━━━━━━━━━━━━━╇━━━━━━━━━━━━━━━┩\n",
              "│ conv2d_3 (\u001b[38;5;33mConv2D\u001b[0m)               │ (\u001b[38;5;45mNone\u001b[0m, \u001b[38;5;34m306\u001b[0m, \u001b[38;5;34m773\u001b[0m, \u001b[38;5;34m32\u001b[0m)   │         \u001b[38;5;34m1,184\u001b[0m │\n",
              "├─────────────────────────────────┼────────────────────────┼───────────────┤\n",
              "│ max_pooling2d_3 (\u001b[38;5;33mMaxPooling2D\u001b[0m)  │ (\u001b[38;5;45mNone\u001b[0m, \u001b[38;5;34m153\u001b[0m, \u001b[38;5;34m386\u001b[0m, \u001b[38;5;34m32\u001b[0m)   │             \u001b[38;5;34m0\u001b[0m │\n",
              "├─────────────────────────────────┼────────────────────────┼───────────────┤\n",
              "│ conv2d_4 (\u001b[38;5;33mConv2D\u001b[0m)               │ (\u001b[38;5;45mNone\u001b[0m, \u001b[38;5;34m151\u001b[0m, \u001b[38;5;34m384\u001b[0m, \u001b[38;5;34m64\u001b[0m)   │        \u001b[38;5;34m18,496\u001b[0m │\n",
              "├─────────────────────────────────┼────────────────────────┼───────────────┤\n",
              "│ max_pooling2d_4 (\u001b[38;5;33mMaxPooling2D\u001b[0m)  │ (\u001b[38;5;45mNone\u001b[0m, \u001b[38;5;34m75\u001b[0m, \u001b[38;5;34m192\u001b[0m, \u001b[38;5;34m64\u001b[0m)    │             \u001b[38;5;34m0\u001b[0m │\n",
              "├─────────────────────────────────┼────────────────────────┼───────────────┤\n",
              "│ conv2d_5 (\u001b[38;5;33mConv2D\u001b[0m)               │ (\u001b[38;5;45mNone\u001b[0m, \u001b[38;5;34m73\u001b[0m, \u001b[38;5;34m190\u001b[0m, \u001b[38;5;34m128\u001b[0m)   │        \u001b[38;5;34m73,856\u001b[0m │\n",
              "├─────────────────────────────────┼────────────────────────┼───────────────┤\n",
              "│ max_pooling2d_5 (\u001b[38;5;33mMaxPooling2D\u001b[0m)  │ (\u001b[38;5;45mNone\u001b[0m, \u001b[38;5;34m36\u001b[0m, \u001b[38;5;34m95\u001b[0m, \u001b[38;5;34m128\u001b[0m)    │             \u001b[38;5;34m0\u001b[0m │\n",
              "├─────────────────────────────────┼────────────────────────┼───────────────┤\n",
              "│ flatten_1 (\u001b[38;5;33mFlatten\u001b[0m)             │ (\u001b[38;5;45mNone\u001b[0m, \u001b[38;5;34m437760\u001b[0m)         │             \u001b[38;5;34m0\u001b[0m │\n",
              "├─────────────────────────────────┼────────────────────────┼───────────────┤\n",
              "│ dense_2 (\u001b[38;5;33mDense\u001b[0m)                 │ (\u001b[38;5;45mNone\u001b[0m, \u001b[38;5;34m128\u001b[0m)            │    \u001b[38;5;34m56,033,408\u001b[0m │\n",
              "├─────────────────────────────────┼────────────────────────┼───────────────┤\n",
              "│ dropout_1 (\u001b[38;5;33mDropout\u001b[0m)             │ (\u001b[38;5;45mNone\u001b[0m, \u001b[38;5;34m128\u001b[0m)            │             \u001b[38;5;34m0\u001b[0m │\n",
              "├─────────────────────────────────┼────────────────────────┼───────────────┤\n",
              "│ dense_3 (\u001b[38;5;33mDense\u001b[0m)                 │ (\u001b[38;5;45mNone\u001b[0m, \u001b[38;5;34m1\u001b[0m)              │           \u001b[38;5;34m129\u001b[0m │\n",
              "└─────────────────────────────────┴────────────────────────┴───────────────┘\n"
            ]
          },
          "metadata": {},
          "output_type": "display_data"
        },
        {
          "data": {
            "text/html": [
              "<pre style=\"white-space:pre;overflow-x:auto;line-height:normal;font-family:Menlo,'DejaVu Sans Mono',consolas,'Courier New',monospace\"><span style=\"font-weight: bold\"> Total params: </span><span style=\"color: #00af00; text-decoration-color: #00af00\">168,381,221</span> (642.32 MB)\n",
              "</pre>\n"
            ],
            "text/plain": [
              "\u001b[1m Total params: \u001b[0m\u001b[38;5;34m168,381,221\u001b[0m (642.32 MB)\n"
            ]
          },
          "metadata": {},
          "output_type": "display_data"
        },
        {
          "data": {
            "text/html": [
              "<pre style=\"white-space:pre;overflow-x:auto;line-height:normal;font-family:Menlo,'DejaVu Sans Mono',consolas,'Courier New',monospace\"><span style=\"font-weight: bold\"> Trainable params: </span><span style=\"color: #00af00; text-decoration-color: #00af00\">56,127,073</span> (214.11 MB)\n",
              "</pre>\n"
            ],
            "text/plain": [
              "\u001b[1m Trainable params: \u001b[0m\u001b[38;5;34m56,127,073\u001b[0m (214.11 MB)\n"
            ]
          },
          "metadata": {},
          "output_type": "display_data"
        },
        {
          "data": {
            "text/html": [
              "<pre style=\"white-space:pre;overflow-x:auto;line-height:normal;font-family:Menlo,'DejaVu Sans Mono',consolas,'Courier New',monospace\"><span style=\"font-weight: bold\"> Non-trainable params: </span><span style=\"color: #00af00; text-decoration-color: #00af00\">0</span> (0.00 B)\n",
              "</pre>\n"
            ],
            "text/plain": [
              "\u001b[1m Non-trainable params: \u001b[0m\u001b[38;5;34m0\u001b[0m (0.00 B)\n"
            ]
          },
          "metadata": {},
          "output_type": "display_data"
        },
        {
          "data": {
            "text/html": [
              "<pre style=\"white-space:pre;overflow-x:auto;line-height:normal;font-family:Menlo,'DejaVu Sans Mono',consolas,'Courier New',monospace\"><span style=\"font-weight: bold\"> Optimizer params: </span><span style=\"color: #00af00; text-decoration-color: #00af00\">112,254,148</span> (428.22 MB)\n",
              "</pre>\n"
            ],
            "text/plain": [
              "\u001b[1m Optimizer params: \u001b[0m\u001b[38;5;34m112,254,148\u001b[0m (428.22 MB)\n"
            ]
          },
          "metadata": {},
          "output_type": "display_data"
        }
      ],
      "source": [
        "model.summary()"
      ]
    },
    {
      "cell_type": "code",
      "execution_count": null,
      "metadata": {
        "id": "gd0s6svDagjx"
      },
      "outputs": [
        {
          "data": {
            "image/png": "[encoded data removed]",
            "text/plain": [
              "<Figure size 1200x400 with 2 Axes>"
            ]
          },
          "metadata": {},
          "output_type": "display_data"
        }
      ],
      "source": [
        "# Graficar precisión y pérdida\n",
        "plt.figure(figsize=(12, 4))\n",
        "plt.subplot(1, 2, 1)\n",
        "plt.plot(history.history['accuracy'], label='Accuracy')\n",
        "plt.plot(history.history['val_accuracy'], label='Validation Accuracy')\n",
        "plt.xlabel('Epochs')\n",
        "plt.ylabel('Accuracy')\n",
        "plt.legend()\n",
        "plt.title('Model Accuracy')\n",
        "\n",
        "plt.subplot(1, 2, 2)\n",
        "plt.plot(history.history['loss'], label='Loss')\n",
        "plt.plot(history.history['val_loss'], label='Validation Loss')\n",
        "plt.xlabel('Epochs')\n",
        "plt.ylabel('Loss')\n",
        "plt.legend()\n",
        "plt.title('Model Loss')\n",
        "\n",
        "plt.show()"
      ]
    },
    {
      "cell_type": "code",
      "execution_count": null,
      "metadata": {},
      "outputs": [
        {
          "name": "stdout",
          "output_type": "stream",
          "text": [
            "\u001b[1m3/3\u001b[0m \u001b[32m━━━━━━━━━━━━━━━━━━━━\u001b[0m\u001b[37m\u001b[0m \u001b[1m1s\u001b[0m 140ms/step\n",
            "F1-Score: 0.9615384615384616\n",
            "              precision    recall  f1-score   support\n",
            "\n",
            "        Norm       0.88      0.88      0.88        16\n",
            "       Patho       0.96      0.96      0.96        52\n",
            "\n",
            "    accuracy                           0.94        68\n",
            "   macro avg       0.92      0.92      0.92        68\n",
            "weighted avg       0.94      0.94      0.94        68\n",
            "\n"
          ]
        }
      ],
      "source": [
        "y_pred = (model.predict(X_test) > 0.5).astype(\"int32\")\n",
        "f1 = f1_score(y_test, y_pred)\n",
        "\n",
        "print(f'F1-Score: {f1}')\n",
        "print(classification_report(y_test, y_pred, target_names=['Norm', 'Patho']))"
      ]
    },
    {
      "cell_type": "code",
      "execution_count": null,
      "metadata": {},
      "outputs": [
        {
          "data": {
            "image/png": "[encoded data removed]",
            "text/plain": [
              "<Figure size 800x600 with 2 Axes>"
            ]
          },
          "metadata": {},
          "output_type": "display_data"
        }
      ],
      "source": [
        "# Matriz de confusión\n",
        "conf_matrix = confusion_matrix(y_test, y_pred)\n",
        "\n",
        "plt.figure(figsize=(8, 6))\n",
        "plt.imshow(conf_matrix, interpolation='nearest', cmap=plt.cm.Blues)\n",
        "plt.title('Confusion Matrix')\n",
        "plt.colorbar()\n",
        "tick_marks = np.arange(2)\n",
        "plt.xticks(tick_marks, ['Norm', 'Patho'], rotation=45)\n",
        "plt.yticks(tick_marks, ['Norm', 'Patho'])\n",
        "\n",
        "thresh = conf_matrix.max() / 2.\n",
        "for i, j in np.ndindex(conf_matrix.shape):\n",
        "    plt.text(j, i, format(conf_matrix[i, j], 'd'),\n",
        "             horizontalalignment=\"center\",\n",
        "             color=\"white\" if conf_matrix[i, j] > thresh else \"black\")\n",
        "\n",
        "plt.tight_layout()\n",
        "plt.ylabel('True label')\n",
        "plt.xlabel('Predicted label')\n",
        "plt.show()"
      ]
    },
    {
      "cell_type": "markdown",
      "metadata": {},
      "source": [
        "# Modelo (Optimizado)\n",
        "- **Búsqueda de hiperparámetros:** Utiliza keras_tuner para encontrar los mejores hiperparámetros a partir de un rango definido. Esto incluye el número de filtros, el tamaño del kernel, el número de unidades en la capa densa, la tasa de dropout y la tasa de aprendizaje.\n",
        "- **Arquitectura ajustable:** La arquitectura del modelo se ajusta dinámicamente según los mejores hiperparámetros encontrados por keras_tuner."
      ]
    },
    {
      "cell_type": "code",
      "execution_count": null,
      "metadata": {},
      "outputs": [
        {
          "name": "stdout",
          "output_type": "stream",
          "text": [
            "Trial 5 Complete [00h 11m 54s]\n",
            "val_accuracy: 0.9460784196853638\n",
            "\n",
            "Best val_accuracy So Far: 0.9656862616539001\n",
            "Total elapsed time: 01h 18m 17s\n",
            "\n",
            "El mejor número de filtros en la primera capa convolucional es 48.\n",
            "El mejor tamaño de kernel en la primera capa convolucional es 3.\n",
            "El mejor número de filtros en la segunda capa convolucional es 80.\n",
            "El mejor tamaño de kernel en la segunda capa convolucional es 3.\n",
            "El mejor número de filtros en la tercera capa convolucional es 128.\n",
            "El mejor tamaño de kernel en la tercera capa convolucional es 5.\n",
            "El mejor número de unidades en la capa densa es 128.\n",
            "La mejor tasa de dropout es 0.30000000000000004.\n",
            "El mejor learning rate es 0.0001.\n",
            "\n",
            "Epoch 1/10\n",
            "\u001b[1m10/10\u001b[0m \u001b[32m━━━━━━━━━━━━━━━━━━━━\u001b[0m\u001b[37m\u001b[0m \u001b[1m44s\u001b[0m 4s/step - accuracy: 0.6797 - loss: 0.7982 - val_accuracy: 0.7647 - val_loss: 0.5140\n",
            "Epoch 2/10\n",
            "\u001b[1m10/10\u001b[0m \u001b[32m━━━━━━━━━━━━━━━━━━━━\u001b[0m\u001b[37m\u001b[0m \u001b[1m30s\u001b[0m 3s/step - accuracy: 0.7859 - loss: 0.4802 - val_accuracy: 0.8088 - val_loss: 0.4052\n",
            "Epoch 3/10\n",
            "\u001b[1m10/10\u001b[0m \u001b[32m━━━━━━━━━━━━━━━━━━━━\u001b[0m\u001b[37m\u001b[0m \u001b[1m23s\u001b[0m 2s/step - accuracy: 0.8503 - loss: 0.3324 - val_accuracy: 0.8824 - val_loss: 0.3321\n",
            "Epoch 4/10\n",
            "\u001b[1m10/10\u001b[0m \u001b[32m━━━━━━━━━━━━━━━━━━━━\u001b[0m\u001b[37m\u001b[0m \u001b[1m33s\u001b[0m 3s/step - accuracy: 0.8998 - loss: 0.2505 - val_accuracy: 0.9559 - val_loss: 0.2174\n",
            "Epoch 5/10\n",
            "\u001b[1m10/10\u001b[0m \u001b[32m━━━━━━━━━━━━━━━━━━━━\u001b[0m\u001b[37m\u001b[0m \u001b[1m22s\u001b[0m 2s/step - accuracy: 0.9567 - loss: 0.1538 - val_accuracy: 0.9559 - val_loss: 0.1800\n",
            "Epoch 6/10\n",
            "\u001b[1m10/10\u001b[0m \u001b[32m━━━━━━━━━━━━━━━━━━━━\u001b[0m\u001b[37m\u001b[0m \u001b[1m20s\u001b[0m 2s/step - accuracy: 0.9719 - loss: 0.1133 - val_accuracy: 0.9559 - val_loss: 0.1682\n",
            "Epoch 7/10\n",
            "\u001b[1m10/10\u001b[0m \u001b[32m━━━━━━━━━━━━━━━━━━━━\u001b[0m\u001b[37m\u001b[0m \u001b[1m20s\u001b[0m 2s/step - accuracy: 0.9698 - loss: 0.0895 - val_accuracy: 0.9559 - val_loss: 0.1592\n",
            "Epoch 8/10\n",
            "\u001b[1m10/10\u001b[0m \u001b[32m━━━━━━━━━━━━━━━━━━━━\u001b[0m\u001b[37m\u001b[0m \u001b[1m20s\u001b[0m 2s/step - accuracy: 0.9633 - loss: 0.0938 - val_accuracy: 0.9412 - val_loss: 0.1655\n",
            "Epoch 9/10\n",
            "\u001b[1m10/10\u001b[0m \u001b[32m━━━━━━━━━━━━━━━━━━━━\u001b[0m\u001b[37m\u001b[0m \u001b[1m20s\u001b[0m 2s/step - accuracy: 0.9665 - loss: 0.0814 - val_accuracy: 0.9706 - val_loss: 0.1507\n",
            "Epoch 10/10\n",
            "\u001b[1m10/10\u001b[0m \u001b[32m━━━━━━━━━━━━━━━━━━━━\u001b[0m\u001b[37m\u001b[0m \u001b[1m20s\u001b[0m 2s/step - accuracy: 0.9672 - loss: 0.0849 - val_accuracy: 0.9706 - val_loss: 0.1777\n"
          ]
        }
      ],
      "source": [
        "def build_model(hp):\n",
        "    model = Sequential()\n",
        "    model.add(Conv2D(\n",
        "        filters=hp.Int('conv_1_filter', min_value=32, max_value=128, step=16),\n",
        "        kernel_size=hp.Choice('conv_1_kernel', values=[3,5]),\n",
        "        activation='relu',\n",
        "        input_shape=(images.shape[1], images.shape[2], images.shape[3])\n",
        "    ))\n",
        "    model.add(MaxPooling2D(pool_size=(2, 2)))\n",
        "    \n",
        "    model.add(Conv2D(\n",
        "        filters=hp.Int('conv_2_filter', min_value=32, max_value=128, step=16),\n",
        "        kernel_size=hp.Choice('conv_2_kernel', values=[3,5]),\n",
        "        activation='relu'\n",
        "    ))\n",
        "    model.add(MaxPooling2D(pool_size=(2, 2)))\n",
        "    \n",
        "    model.add(Conv2D(\n",
        "        filters=hp.Int('conv_3_filter', min_value=32, max_value=128, step=16),\n",
        "        kernel_size=hp.Choice('conv_3_kernel', values=[3,5]),\n",
        "        activation='relu'\n",
        "    ))\n",
        "    model.add(MaxPooling2D(pool_size=(2, 2)))\n",
        "    \n",
        "    model.add(Flatten())\n",
        "    model.add(Dense(\n",
        "        units=hp.Int('dense_units', min_value=32, max_value=128, step=16),\n",
        "        activation='relu'\n",
        "    ))\n",
        "    model.add(Dropout(hp.Float('dropout_rate', min_value=0.2, max_value=0.5, step=0.1)))\n",
        "    model.add(Dense(1, activation='sigmoid'))\n",
        "    \n",
        "    model.compile(\n",
        "        optimizer=Adam(hp.Choice('learning_rate', values=[1e-2, 1e-3, 1e-4])),\n",
        "        loss='binary_crossentropy',\n",
        "        metrics=['accuracy']\n",
        "    )\n",
        "    \n",
        "    return model\n",
        "\n",
        "tuner = kt.RandomSearch(\n",
        "    build_model,\n",
        "    objective='val_accuracy',\n",
        "    max_trials=5,\n",
        "    executions_per_trial=3,\n",
        "    directory='Modelo Optimizado',\n",
        "    project_name='tesisModel'\n",
        ")\n",
        "\n",
        "tuner.search(X_train, y_train, epochs=10, validation_data=(X_val, y_val))\n",
        "\n",
        "best_hps = tuner.get_best_hyperparameters(num_trials=1)[0]\n",
        "\n",
        "print(f\"\"\"\n",
        "El mejor número de filtros en la primera capa convolucional es {best_hps.get('conv_1_filter')}.\n",
        "El mejor tamaño de kernel en la primera capa convolucional es {best_hps.get('conv_1_kernel')}.\n",
        "El mejor número de filtros en la segunda capa convolucional es {best_hps.get('conv_2_filter')}.\n",
        "El mejor tamaño de kernel en la segunda capa convolucional es {best_hps.get('conv_2_kernel')}.\n",
        "El mejor número de filtros en la tercera capa convolucional es {best_hps.get('conv_3_filter')}.\n",
        "El mejor tamaño de kernel en la tercera capa convolucional es {best_hps.get('conv_3_kernel')}.\n",
        "El mejor número de unidades en la capa densa es {best_hps.get('dense_units')}.\n",
        "La mejor tasa de dropout es {best_hps.get('dropout_rate')}.\n",
        "El mejor learning rate es {best_hps.get('learning_rate')}.\n",
        "\"\"\")\n",
        "\n",
        "model = tuner.hypermodel.build(best_hps)\n",
        "history = model.fit(X_train, y_train, epochs=10, validation_data=(X_val, y_val))"
      ]
    },
    {
      "cell_type": "code",
      "execution_count": null,
      "metadata": {},
      "outputs": [
        {
          "name": "stderr",
          "output_type": "stream",
          "text": [
            "WARNING:absl:You are saving your model as an HDF5 file via `model.save()` or `keras.saving.save_model(model)`. This file format is considered legacy. We recommend using instead the native Keras format, e.g. `model.save('my_model.keras')` or `keras.saving.save_model(model, 'my_model.keras')`. \n"
          ]
        }
      ],
      "source": [
        "model.save('modeloOptimizadoCNN.h5')"
      ]
    },
    {
      "cell_type": "code",
      "execution_count": null,
      "metadata": {},
      "outputs": [
        {
          "data": {
            "text/html": [
              "<pre style=\"white-space:pre;overflow-x:auto;line-height:normal;font-family:Menlo,'DejaVu Sans Mono',consolas,'Courier New',monospace\"><span style=\"font-weight: bold\">Model: \"sequential_1\"</span>\n",
              "</pre>\n"
            ],
            "text/plain": [
              "\u001b[1mModel: \"sequential_1\"\u001b[0m\n"
            ]
          },
          "metadata": {},
          "output_type": "display_data"
        },
        {
          "data": {
            "text/html": [
              "<pre style=\"white-space:pre;overflow-x:auto;line-height:normal;font-family:Menlo,'DejaVu Sans Mono',consolas,'Courier New',monospace\">┏━━━━━━━━━━━━━━━━━━━━━━━━━━━━━━━━━┳━━━━━━━━━━━━━━━━━━━━━━━━┳━━━━━━━━━━━━━━━┓\n",
              "┃<span style=\"font-weight: bold\"> Layer (type)                    </span>┃<span style=\"font-weight: bold\"> Output Shape           </span>┃<span style=\"font-weight: bold\">       Param # </span>┃\n",
              "┡━━━━━━━━━━━━━━━━━━━━━━━━━━━━━━━━━╇━━━━━━━━━━━━━━━━━━━━━━━━╇━━━━━━━━━━━━━━━┩\n",
              "│ conv2d_3 (<span style=\"color: #0087ff; text-decoration-color: #0087ff\">Conv2D</span>)               │ (<span style=\"color: #00d7ff; text-decoration-color: #00d7ff\">None</span>, <span style=\"color: #00af00; text-decoration-color: #00af00\">306</span>, <span style=\"color: #00af00; text-decoration-color: #00af00\">773</span>, <span style=\"color: #00af00; text-decoration-color: #00af00\">48</span>)   │         <span style=\"color: #00af00; text-decoration-color: #00af00\">1,776</span> │\n",
              "├─────────────────────────────────┼────────────────────────┼───────────────┤\n",
              "│ max_pooling2d_3 (<span style=\"color: #0087ff; text-decoration-color: #0087ff\">MaxPooling2D</span>)  │ (<span style=\"color: #00d7ff; text-decoration-color: #00d7ff\">None</span>, <span style=\"color: #00af00; text-decoration-color: #00af00\">153</span>, <span style=\"color: #00af00; text-decoration-color: #00af00\">386</span>, <span style=\"color: #00af00; text-decoration-color: #00af00\">48</span>)   │             <span style=\"color: #00af00; text-decoration-color: #00af00\">0</span> │\n",
              "├─────────────────────────────────┼────────────────────────┼───────────────┤\n",
              "│ conv2d_4 (<span style=\"color: #0087ff; text-decoration-color: #0087ff\">Conv2D</span>)               │ (<span style=\"color: #00d7ff; text-decoration-color: #00d7ff\">None</span>, <span style=\"color: #00af00; text-decoration-color: #00af00\">151</span>, <span style=\"color: #00af00; text-decoration-color: #00af00\">384</span>, <span style=\"color: #00af00; text-decoration-color: #00af00\">80</span>)   │        <span style=\"color: #00af00; text-decoration-color: #00af00\">34,640</span> │\n",
              "├─────────────────────────────────┼────────────────────────┼───────────────┤\n",
              "│ max_pooling2d_4 (<span style=\"color: #0087ff; text-decoration-color: #0087ff\">MaxPooling2D</span>)  │ (<span style=\"color: #00d7ff; text-decoration-color: #00d7ff\">None</span>, <span style=\"color: #00af00; text-decoration-color: #00af00\">75</span>, <span style=\"color: #00af00; text-decoration-color: #00af00\">192</span>, <span style=\"color: #00af00; text-decoration-color: #00af00\">80</span>)    │             <span style=\"color: #00af00; text-decoration-color: #00af00\">0</span> │\n",
              "├─────────────────────────────────┼────────────────────────┼───────────────┤\n",
              "│ conv2d_5 (<span style=\"color: #0087ff; text-decoration-color: #0087ff\">Conv2D</span>)               │ (<span style=\"color: #00d7ff; text-decoration-color: #00d7ff\">None</span>, <span style=\"color: #00af00; text-decoration-color: #00af00\">71</span>, <span style=\"color: #00af00; text-decoration-color: #00af00\">188</span>, <span style=\"color: #00af00; text-decoration-color: #00af00\">128</span>)   │       <span style=\"color: #00af00; text-decoration-color: #00af00\">256,128</span> │\n",
              "├─────────────────────────────────┼────────────────────────┼───────────────┤\n",
              "│ max_pooling2d_5 (<span style=\"color: #0087ff; text-decoration-color: #0087ff\">MaxPooling2D</span>)  │ (<span style=\"color: #00d7ff; text-decoration-color: #00d7ff\">None</span>, <span style=\"color: #00af00; text-decoration-color: #00af00\">35</span>, <span style=\"color: #00af00; text-decoration-color: #00af00\">94</span>, <span style=\"color: #00af00; text-decoration-color: #00af00\">128</span>)    │             <span style=\"color: #00af00; text-decoration-color: #00af00\">0</span> │\n",
              "├─────────────────────────────────┼────────────────────────┼───────────────┤\n",
              "│ flatten_1 (<span style=\"color: #0087ff; text-decoration-color: #0087ff\">Flatten</span>)             │ (<span style=\"color: #00d7ff; text-decoration-color: #00d7ff\">None</span>, <span style=\"color: #00af00; text-decoration-color: #00af00\">421120</span>)         │             <span style=\"color: #00af00; text-decoration-color: #00af00\">0</span> │\n",
              "├─────────────────────────────────┼────────────────────────┼───────────────┤\n",
              "│ dense_2 (<span style=\"color: #0087ff; text-decoration-color: #0087ff\">Dense</span>)                 │ (<span style=\"color: #00d7ff; text-decoration-color: #00d7ff\">None</span>, <span style=\"color: #00af00; text-decoration-color: #00af00\">128</span>)            │    <span style=\"color: #00af00; text-decoration-color: #00af00\">53,903,488</span> │\n",
              "├─────────────────────────────────┼────────────────────────┼───────────────┤\n",
              "│ dropout_1 (<span style=\"color: #0087ff; text-decoration-color: #0087ff\">Dropout</span>)             │ (<span style=\"color: #00d7ff; text-decoration-color: #00d7ff\">None</span>, <span style=\"color: #00af00; text-decoration-color: #00af00\">128</span>)            │             <span style=\"color: #00af00; text-decoration-color: #00af00\">0</span> │\n",
              "├─────────────────────────────────┼────────────────────────┼───────────────┤\n",
              "│ dense_3 (<span style=\"color: #0087ff; text-decoration-color: #0087ff\">Dense</span>)                 │ (<span style=\"color: #00d7ff; text-decoration-color: #00d7ff\">None</span>, <span style=\"color: #00af00; text-decoration-color: #00af00\">1</span>)              │           <span style=\"color: #00af00; text-decoration-color: #00af00\">129</span> │\n",
              "└─────────────────────────────────┴────────────────────────┴───────────────┘\n",
              "</pre>\n"
            ],
            "text/plain": [
              "┏━━━━━━━━━━━━━━━━━━━━━━━━━━━━━━━━━┳━━━━━━━━━━━━━━━━━━━━━━━━┳━━━━━━━━━━━━━━━┓\n",
              "┃\u001b[1m \u001b[0m\u001b[1mLayer (type)                   \u001b[0m\u001b[1m \u001b[0m┃\u001b[1m \u001b[0m\u001b[1mOutput Shape          \u001b[0m\u001b[1m \u001b[0m┃\u001b[1m \u001b[0m\u001b[1m      Param #\u001b[0m\u001b[1m \u001b[0m┃\n",
              "┡━━━━━━━━━━━━━━━━━━━━━━━━━━━━━━━━━╇━━━━━━━━━━━━━━━━━━━━━━━━╇━━━━━━━━━━━━━━━┩\n",
              "│ conv2d_3 (\u001b[38;5;33mConv2D\u001b[0m)               │ (\u001b[38;5;45mNone\u001b[0m, \u001b[38;5;34m306\u001b[0m, \u001b[38;5;34m773\u001b[0m, \u001b[38;5;34m48\u001b[0m)   │         \u001b[38;5;34m1,776\u001b[0m │\n",
              "├─────────────────────────────────┼────────────────────────┼───────────────┤\n",
              "│ max_pooling2d_3 (\u001b[38;5;33mMaxPooling2D\u001b[0m)  │ (\u001b[38;5;45mNone\u001b[0m, \u001b[38;5;34m153\u001b[0m, \u001b[38;5;34m386\u001b[0m, \u001b[38;5;34m48\u001b[0m)   │             \u001b[38;5;34m0\u001b[0m │\n",
              "├─────────────────────────────────┼────────────────────────┼───────────────┤\n",
              "│ conv2d_4 (\u001b[38;5;33mConv2D\u001b[0m)               │ (\u001b[38;5;45mNone\u001b[0m, \u001b[38;5;34m151\u001b[0m, \u001b[38;5;34m384\u001b[0m, \u001b[38;5;34m80\u001b[0m)   │        \u001b[38;5;34m34,640\u001b[0m │\n",
              "├─────────────────────────────────┼────────────────────────┼───────────────┤\n",
              "│ max_pooling2d_4 (\u001b[38;5;33mMaxPooling2D\u001b[0m)  │ (\u001b[38;5;45mNone\u001b[0m, \u001b[38;5;34m75\u001b[0m, \u001b[38;5;34m192\u001b[0m, \u001b[38;5;34m80\u001b[0m)    │             \u001b[38;5;34m0\u001b[0m │\n",
              "├─────────────────────────────────┼────────────────────────┼───────────────┤\n",
              "│ conv2d_5 (\u001b[38;5;33mConv2D\u001b[0m)               │ (\u001b[38;5;45mNone\u001b[0m, \u001b[38;5;34m71\u001b[0m, \u001b[38;5;34m188\u001b[0m, \u001b[38;5;34m128\u001b[0m)   │       \u001b[38;5;34m256,128\u001b[0m │\n",
              "├─────────────────────────────────┼────────────────────────┼───────────────┤\n",
              "│ max_pooling2d_5 (\u001b[38;5;33mMaxPooling2D\u001b[0m)  │ (\u001b[38;5;45mNone\u001b[0m, \u001b[38;5;34m35\u001b[0m, \u001b[38;5;34m94\u001b[0m, \u001b[38;5;34m128\u001b[0m)    │             \u001b[38;5;34m0\u001b[0m │\n",
              "├─────────────────────────────────┼────────────────────────┼───────────────┤\n",
              "│ flatten_1 (\u001b[38;5;33mFlatten\u001b[0m)             │ (\u001b[38;5;45mNone\u001b[0m, \u001b[38;5;34m421120\u001b[0m)         │             \u001b[38;5;34m0\u001b[0m │\n",
              "├─────────────────────────────────┼────────────────────────┼───────────────┤\n",
              "│ dense_2 (\u001b[38;5;33mDense\u001b[0m)                 │ (\u001b[38;5;45mNone\u001b[0m, \u001b[38;5;34m128\u001b[0m)            │    \u001b[38;5;34m53,903,488\u001b[0m │\n",
              "├─────────────────────────────────┼────────────────────────┼───────────────┤\n",
              "│ dropout_1 (\u001b[38;5;33mDropout\u001b[0m)             │ (\u001b[38;5;45mNone\u001b[0m, \u001b[38;5;34m128\u001b[0m)            │             \u001b[38;5;34m0\u001b[0m │\n",
              "├─────────────────────────────────┼────────────────────────┼───────────────┤\n",
              "│ dense_3 (\u001b[38;5;33mDense\u001b[0m)                 │ (\u001b[38;5;45mNone\u001b[0m, \u001b[38;5;34m1\u001b[0m)              │           \u001b[38;5;34m129\u001b[0m │\n",
              "└─────────────────────────────────┴────────────────────────┴───────────────┘\n"
            ]
          },
          "metadata": {},
          "output_type": "display_data"
        },
        {
          "data": {
            "text/html": [
              "<pre style=\"white-space:pre;overflow-x:auto;line-height:normal;font-family:Menlo,'DejaVu Sans Mono',consolas,'Courier New',monospace\"><span style=\"font-weight: bold\"> Total params: </span><span style=\"color: #00af00; text-decoration-color: #00af00\">162,588,485</span> (620.23 MB)\n",
              "</pre>\n"
            ],
            "text/plain": [
              "\u001b[1m Total params: \u001b[0m\u001b[38;5;34m162,588,485\u001b[0m (620.23 MB)\n"
            ]
          },
          "metadata": {},
          "output_type": "display_data"
        },
        {
          "data": {
            "text/html": [
              "<pre style=\"white-space:pre;overflow-x:auto;line-height:normal;font-family:Menlo,'DejaVu Sans Mono',consolas,'Courier New',monospace\"><span style=\"font-weight: bold\"> Trainable params: </span><span style=\"color: #00af00; text-decoration-color: #00af00\">54,196,161</span> (206.74 MB)\n",
              "</pre>\n"
            ],
            "text/plain": [
              "\u001b[1m Trainable params: \u001b[0m\u001b[38;5;34m54,196,161\u001b[0m (206.74 MB)\n"
            ]
          },
          "metadata": {},
          "output_type": "display_data"
        },
        {
          "data": {
            "text/html": [
              "<pre style=\"white-space:pre;overflow-x:auto;line-height:normal;font-family:Menlo,'DejaVu Sans Mono',consolas,'Courier New',monospace\"><span style=\"font-weight: bold\"> Non-trainable params: </span><span style=\"color: #00af00; text-decoration-color: #00af00\">0</span> (0.00 B)\n",
              "</pre>\n"
            ],
            "text/plain": [
              "\u001b[1m Non-trainable params: \u001b[0m\u001b[38;5;34m0\u001b[0m (0.00 B)\n"
            ]
          },
          "metadata": {},
          "output_type": "display_data"
        },
        {
          "data": {
            "text/html": [
              "<pre style=\"white-space:pre;overflow-x:auto;line-height:normal;font-family:Menlo,'DejaVu Sans Mono',consolas,'Courier New',monospace\"><span style=\"font-weight: bold\"> Optimizer params: </span><span style=\"color: #00af00; text-decoration-color: #00af00\">108,392,324</span> (413.48 MB)\n",
              "</pre>\n"
            ],
            "text/plain": [
              "\u001b[1m Optimizer params: \u001b[0m\u001b[38;5;34m108,392,324\u001b[0m (413.48 MB)\n"
            ]
          },
          "metadata": {},
          "output_type": "display_data"
        }
      ],
      "source": [
        "model.summary()"
      ]
    },
    {
      "cell_type": "code",
      "execution_count": null,
      "metadata": {},
      "outputs": [
        {
          "data": {
            "image/png": "[encoded data removed]",
            "text/plain": [
              "<Figure size 1200x400 with 2 Axes>"
            ]
          },
          "metadata": {},
          "output_type": "display_data"
        }
      ],
      "source": [
        "# Graficar precisión y pérdida\n",
        "plt.figure(figsize=(12, 4))\n",
        "plt.subplot(1, 2, 1)\n",
        "plt.plot(history.history['accuracy'], label='Accuracy')\n",
        "plt.plot(history.history['val_accuracy'], label='Validation Accuracy')\n",
        "plt.xlabel('Epochs')\n",
        "plt.ylabel('Accuracy')\n",
        "plt.legend()\n",
        "plt.title('Model Accuracy')\n",
        "\n",
        "plt.subplot(1, 2, 2)\n",
        "plt.plot(history.history['loss'], label='Loss')\n",
        "plt.plot(history.history['val_loss'], label='Validation Loss')\n",
        "plt.xlabel('Epochs')\n",
        "plt.ylabel('Loss')\n",
        "plt.legend()\n",
        "plt.title('Model Loss')\n",
        "\n",
        "plt.show()"
      ]
    },
    {
      "cell_type": "code",
      "execution_count": null,
      "metadata": {},
      "outputs": [
        {
          "name": "stdout",
          "output_type": "stream",
          "text": [
            "\u001b[1m3/3\u001b[0m \u001b[32m━━━━━━━━━━━━━━━━━━━━\u001b[0m\u001b[37m\u001b[0m \u001b[1m1s\u001b[0m 244ms/step\n",
            "              precision    recall  f1-score   support\n",
            "\n",
            "        Norm       1.00      0.88      0.93        16\n",
            "       Patho       0.96      1.00      0.98        52\n",
            "\n",
            "    accuracy                           0.97        68\n",
            "   macro avg       0.98      0.94      0.96        68\n",
            "weighted avg       0.97      0.97      0.97        68\n",
            "\n"
          ]
        }
      ],
      "source": [
        "y_pred = (model.predict(X_test) > 0.5).astype(\"int32\")\n",
        "\n",
        "print(classification_report(y_test, y_pred, target_names=['Norm', 'Patho']))"
      ]
    },
    {
      "cell_type": "code",
      "execution_count": null,
      "metadata": {},
      "outputs": [
        {
          "data": {
            "image/png": "[encoded data removed]",
            "text/plain": [
              "<Figure size 800x600 with 2 Axes>"
            ]
          },
          "metadata": {},
          "output_type": "display_data"
        }
      ],
      "source": [
        "# Matriz de confusión\n",
        "conf_matrix = confusion_matrix(y_test, y_pred)\n",
        "\n",
        "plt.figure(figsize=(8, 6))\n",
        "plt.imshow(conf_matrix, interpolation='nearest', cmap=plt.cm.Blues)\n",
        "plt.title('Confusion Matrix')\n",
        "plt.colorbar()\n",
        "tick_marks = np.arange(2)\n",
        "plt.xticks(tick_marks, ['Norm', 'Patho'], rotation=45)\n",
        "plt.yticks(tick_marks, ['Norm', 'Patho'])\n",
        "\n",
        "thresh = conf_matrix.max() / 2.\n",
        "for i, j in np.ndindex(conf_matrix.shape):\n",
        "    plt.text(j, i, format(conf_matrix[i, j], 'd'),\n",
        "             horizontalalignment=\"center\",\n",
        "             color=\"white\" if conf_matrix[i, j] > thresh else \"black\")\n",
        "\n",
        "plt.tight_layout()\n",
        "plt.ylabel('True label')\n",
        "plt.xlabel('Predicted label')\n",
        "plt.show()"
      ]
    }
  ],
  "metadata": {
    "colab": {
      "provenance": []
    },
    "kernelspec": {
      "display_name": "Python 3",
      "name": "python3"
    },
    "language_info": {
      "codemirror_mode": {
        "name": "ipython",
        "version": 3
      },
      "file_extension": ".py",
      "mimetype": "text/x-python",
      "name": "python",
      "nbconvert_exporter": "python",
      "pygments_lexer": "ipython3",
      "version": "3.12.3"
    }
  },
  "nbformat": 4,
  "nbformat_minor": 0
}
